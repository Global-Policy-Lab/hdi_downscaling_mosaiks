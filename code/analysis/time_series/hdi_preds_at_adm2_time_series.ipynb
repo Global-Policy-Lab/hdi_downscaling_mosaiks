{
 "cells": [
  {
   "cell_type": "code",
   "execution_count": 30,
   "id": "3c7728f0",
   "metadata": {},
   "outputs": [],
   "source": [
    "import os\n",
    "\n",
    "repo_dir = os.environ.get(\"REPO_DIR\")\n",
    "code_dir = os.path.join(repo_dir, \"code/\")\n",
    "data_dir = os.path.join(repo_dir, \"data/\")\n",
    "\n",
    "os.chdir(code_dir)\n",
    "\n",
    "import matplotlib.pyplot as plt\n",
    "import numpy as np\n",
    "import scipy.linalg\n",
    "import pickle\n",
    "import sklearn \n",
    "import sys\n",
    "import pandas as pd\n",
    "from importlib import reload\n",
    "\n",
    "from sklearn.model_selection import KFold\n",
    "from sklearn.linear_model import Ridge\n",
    "import seaborn as sns\n",
    "\n",
    "from scipy.stats import spearmanr\n",
    "\n",
    "import geopandas as gpd\n",
    "\n",
    "import warnings\n",
    "\n",
    "from mosaiks.utils.imports import *\n",
    "\n",
    "# Key prediction functions are here\n",
    "from analysis.prediction_utils import (X_matrix_to_demeaned_X,df_to_demeaned_y_vars,\n",
    "make_train_pred_scatterplot as make_scatterplot, cv_solve, solver_kwargs, get_truth_preds_from_kfold_results,\n",
    "                             predict_y_from_kfold_dict, generalized_demean)"
   ]
  },
  {
   "cell_type": "markdown",
   "id": "25c1cf57",
   "metadata": {},
   "source": [
    "## Generate ADM2 preds of HDI over time\n"
   ]
  },
  {
   "cell_type": "markdown",
   "id": "31af168f",
   "metadata": {},
   "source": [
    "### Read in the cleaned data"
   ]
  },
  {
   "cell_type": "code",
   "execution_count": 31,
   "id": "c528bbbc",
   "metadata": {},
   "outputs": [],
   "source": [
    "task = \"Sub-national HDI\""
   ]
  },
  {
   "cell_type": "code",
   "execution_count": 32,
   "id": "964845af",
   "metadata": {},
   "outputs": [],
   "source": [
    "pred_df = pd.read_pickle(data_dir + \"/preds/hdi_preds_at_adm2.p\")\n",
    "pred_df = pred_df.drop(columns = [\"adm1_mean\",\"adj_factor\",\"adjusted_preds\"])"
   ]
  },
  {
   "cell_type": "markdown",
   "id": "e5cf4b5c",
   "metadata": {},
   "source": [
    "### reformat hdi over time data"
   ]
  },
  {
   "cell_type": "code",
   "execution_count": 33,
   "id": "5039ee05",
   "metadata": {},
   "outputs": [],
   "source": [
    "t_df = pd.read_csv(data_dir + \"raw/GDL_HDI/SHDI-SGDI-Total 7.0.csv\",low_memory=False)[[\"shdi\",\"year\",\"GDLCODE\"]]\n",
    "t_df = t_df.rename(columns = {\"shdi\":task})"
   ]
  },
  {
   "cell_type": "code",
   "execution_count": 34,
   "id": "cad86c8a",
   "metadata": {},
   "outputs": [],
   "source": [
    "t_df = t_df[t_df[\"year\"] >=2012]\n",
    "t_df = t_df.pivot(index=\"GDLCODE\",columns=\"year\", values=task)"
   ]
  },
  {
   "cell_type": "code",
   "execution_count": 35,
   "id": "6787e008",
   "metadata": {},
   "outputs": [],
   "source": [
    "t_df.columns = \"hdi_adm1_\" + t_df.columns.astype(str)\n",
    "\n",
    "for col in t_df.columns:\n",
    "    t_df[col] = pd.to_numeric(t_df[col], errors=\"coerce\")"
   ]
  },
  {
   "cell_type": "code",
   "execution_count": 36,
   "id": "4f259789",
   "metadata": {},
   "outputs": [
    {
     "data": {
      "text/html": [
       "<div>\n",
       "<style scoped>\n",
       "    .dataframe tbody tr th:only-of-type {\n",
       "        vertical-align: middle;\n",
       "    }\n",
       "\n",
       "    .dataframe tbody tr th {\n",
       "        vertical-align: top;\n",
       "    }\n",
       "\n",
       "    .dataframe thead th {\n",
       "        text-align: right;\n",
       "    }\n",
       "</style>\n",
       "<table border=\"1\" class=\"dataframe\">\n",
       "  <thead>\n",
       "    <tr style=\"text-align: right;\">\n",
       "      <th>year</th>\n",
       "      <th>hdi_adm1_2012</th>\n",
       "      <th>hdi_adm1_2013</th>\n",
       "      <th>hdi_adm1_2014</th>\n",
       "      <th>hdi_adm1_2015</th>\n",
       "      <th>hdi_adm1_2016</th>\n",
       "      <th>hdi_adm1_2017</th>\n",
       "      <th>hdi_adm1_2018</th>\n",
       "      <th>hdi_adm1_2019</th>\n",
       "      <th>hdi_adm1_2020</th>\n",
       "      <th>hdi_adm1_2021</th>\n",
       "    </tr>\n",
       "    <tr>\n",
       "      <th>GDLCODE</th>\n",
       "      <th></th>\n",
       "      <th></th>\n",
       "      <th></th>\n",
       "      <th></th>\n",
       "      <th></th>\n",
       "      <th></th>\n",
       "      <th></th>\n",
       "      <th></th>\n",
       "      <th></th>\n",
       "      <th></th>\n",
       "    </tr>\n",
       "  </thead>\n",
       "  <tbody>\n",
       "    <tr>\n",
       "      <th>AFGr101</th>\n",
       "      <td>0.548</td>\n",
       "      <td>0.552</td>\n",
       "      <td>0.553</td>\n",
       "      <td>0.548</td>\n",
       "      <td>0.551</td>\n",
       "      <td>0.553</td>\n",
       "      <td>0.555</td>\n",
       "      <td>0.561</td>\n",
       "      <td>0.556</td>\n",
       "      <td>0.550</td>\n",
       "    </tr>\n",
       "    <tr>\n",
       "      <th>AFGr102</th>\n",
       "      <td>0.480</td>\n",
       "      <td>0.483</td>\n",
       "      <td>0.483</td>\n",
       "      <td>0.477</td>\n",
       "      <td>0.479</td>\n",
       "      <td>0.479</td>\n",
       "      <td>0.480</td>\n",
       "      <td>0.484</td>\n",
       "      <td>0.479</td>\n",
       "      <td>0.472</td>\n",
       "    </tr>\n",
       "    <tr>\n",
       "      <th>AFGr103</th>\n",
       "      <td>0.468</td>\n",
       "      <td>0.469</td>\n",
       "      <td>0.466</td>\n",
       "      <td>0.459</td>\n",
       "      <td>0.461</td>\n",
       "      <td>0.463</td>\n",
       "      <td>0.464</td>\n",
       "      <td>0.469</td>\n",
       "      <td>0.464</td>\n",
       "      <td>0.459</td>\n",
       "    </tr>\n",
       "    <tr>\n",
       "      <th>AFGr104</th>\n",
       "      <td>0.466</td>\n",
       "      <td>0.480</td>\n",
       "      <td>0.492</td>\n",
       "      <td>0.497</td>\n",
       "      <td>0.500</td>\n",
       "      <td>0.501</td>\n",
       "      <td>0.502</td>\n",
       "      <td>0.507</td>\n",
       "      <td>0.502</td>\n",
       "      <td>0.497</td>\n",
       "    </tr>\n",
       "    <tr>\n",
       "      <th>AFGr105</th>\n",
       "      <td>0.448</td>\n",
       "      <td>0.451</td>\n",
       "      <td>0.451</td>\n",
       "      <td>0.445</td>\n",
       "      <td>0.448</td>\n",
       "      <td>0.449</td>\n",
       "      <td>0.449</td>\n",
       "      <td>0.454</td>\n",
       "      <td>0.449</td>\n",
       "      <td>0.444</td>\n",
       "    </tr>\n",
       "  </tbody>\n",
       "</table>\n",
       "</div>"
      ],
      "text/plain": [
       "year     hdi_adm1_2012  hdi_adm1_2013  hdi_adm1_2014  hdi_adm1_2015  \\\n",
       "GDLCODE                                                               \n",
       "AFGr101          0.548          0.552          0.553          0.548   \n",
       "AFGr102          0.480          0.483          0.483          0.477   \n",
       "AFGr103          0.468          0.469          0.466          0.459   \n",
       "AFGr104          0.466          0.480          0.492          0.497   \n",
       "AFGr105          0.448          0.451          0.451          0.445   \n",
       "\n",
       "year     hdi_adm1_2016  hdi_adm1_2017  hdi_adm1_2018  hdi_adm1_2019  \\\n",
       "GDLCODE                                                               \n",
       "AFGr101          0.551          0.553          0.555          0.561   \n",
       "AFGr102          0.479          0.479          0.480          0.484   \n",
       "AFGr103          0.461          0.463          0.464          0.469   \n",
       "AFGr104          0.500          0.501          0.502          0.507   \n",
       "AFGr105          0.448          0.449          0.449          0.454   \n",
       "\n",
       "year     hdi_adm1_2020  hdi_adm1_2021  \n",
       "GDLCODE                                \n",
       "AFGr101          0.556          0.550  \n",
       "AFGr102          0.479          0.472  \n",
       "AFGr103          0.464          0.459  \n",
       "AFGr104          0.502          0.497  \n",
       "AFGr105          0.449          0.444  "
      ]
     },
     "execution_count": 36,
     "metadata": {},
     "output_type": "execute_result"
    }
   ],
   "source": [
    "t_df.head()"
   ]
  },
  {
   "cell_type": "markdown",
   "id": "a4d0125b",
   "metadata": {},
   "source": [
    "### Centering preds"
   ]
  },
  {
   "cell_type": "code",
   "execution_count": 37,
   "id": "cca3a5c8",
   "metadata": {},
   "outputs": [],
   "source": [
    "pred_df = pred_df.merge(t_df, \"left\", left_on=\"GDL_ADM1\",right_index=True)"
   ]
  },
  {
   "cell_type": "code",
   "execution_count": 38,
   "id": "caa7b483",
   "metadata": {},
   "outputs": [
    {
     "name": "stdout",
     "output_type": "stream",
     "text": [
      "2012\n",
      "2013\n",
      "2014\n",
      "2015\n",
      "2016\n",
      "2017\n",
      "2018\n",
      "2019\n",
      "2020\n",
      "2021\n"
     ]
    }
   ],
   "source": [
    "years = np.arange(2012,2022).astype(str)\n",
    "\n",
    "for year in years:\n",
    "    print(year)\n",
    "    pred_df[\"adj_factor\"] = pred_df[f\"hdi_adm1_{year}\"] - pred_df[\"mean_of_pred_adm2_obs\"]\n",
    "    pred_df[f\"predicted_adm2_HDI_{year}\"] = pred_df[\"predicted_dev_from_adm0\"] + pred_df[\"adj_factor\"]\n",
    "    pred_df[f\"predicted_adm2_HDI_{year}\"] = np.clip(pred_df[f\"predicted_adm2_HDI_{year}\"],0,1)\n",
    "\n",
    "pred_df = pred_df.drop(columns = list(t_df.columns))"
   ]
  },
  {
   "cell_type": "code",
   "execution_count": 39,
   "id": "99b49013",
   "metadata": {},
   "outputs": [],
   "source": [
    "pred_df = pred_df[[f\"predicted_adm2_HDI_{year}\" for year in years]]"
   ]
  },
  {
   "cell_type": "code",
   "execution_count": 40,
   "id": "de298505",
   "metadata": {},
   "outputs": [
    {
     "data": {
      "text/plain": [
       "predicted_adm2_HDI_2012    0.784705\n",
       "predicted_adm2_HDI_2013    0.792151\n",
       "predicted_adm2_HDI_2014    0.795631\n",
       "predicted_adm2_HDI_2015    0.798203\n",
       "predicted_adm2_HDI_2016    0.801281\n",
       "predicted_adm2_HDI_2017    0.804627\n",
       "predicted_adm2_HDI_2018    0.807489\n",
       "predicted_adm2_HDI_2019    0.811507\n",
       "predicted_adm2_HDI_2020    0.803456\n",
       "predicted_adm2_HDI_2021    0.803869\n",
       "dtype: float64"
      ]
     },
     "execution_count": 40,
     "metadata": {},
     "output_type": "execute_result"
    }
   ],
   "source": [
    "pred_df.mean()"
   ]
  },
  {
   "cell_type": "code",
   "execution_count": 41,
   "id": "c7f8c624",
   "metadata": {},
   "outputs": [],
   "source": [
    "pred_df.to_csv(data_dir + \"preds/time_series/hdi_adm2_predictions_2012-2021.csv\")"
   ]
  },
  {
   "cell_type": "code",
   "execution_count": null,
   "id": "6c425fac",
   "metadata": {},
   "outputs": [],
   "source": []
  }
 ],
 "metadata": {
  "kernelspec": {
   "display_name": "Python 3 (ipykernel)",
   "language": "python",
   "name": "python3"
  },
  "language_info": {
   "codemirror_mode": {
    "name": "ipython",
    "version": 3
   },
   "file_extension": ".py",
   "mimetype": "text/x-python",
   "name": "python",
   "nbconvert_exporter": "python",
   "pygments_lexer": "ipython3",
   "version": "3.7.15"
  }
 },
 "nbformat": 4,
 "nbformat_minor": 5
}

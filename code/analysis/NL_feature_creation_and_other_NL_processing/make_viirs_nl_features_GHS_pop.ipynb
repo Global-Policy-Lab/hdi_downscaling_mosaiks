{
 "cells": [
  {
   "cell_type": "code",
   "execution_count": 2,
   "id": "764cfbe1",
   "metadata": {},
   "outputs": [],
   "source": [
    "import os\n",
    "\n",
    "repo_dir = os.environ.get(\"REPO_DIR\")\n",
    "code_dir = os.path.join(repo_dir, \"code/\")\n",
    "data_dir = os.path.join(repo_dir, \"data/\")\n",
    "os.chdir(code_dir)\n",
    "\n",
    "\n",
    "\n",
    "import matplotlib.pyplot as plt\n",
    "import numpy as np\n",
    "import pickle\n",
    "import pandas as pd\n",
    "import geopandas as gpd\n",
    "import shapely\n",
    "import fiona\n",
    "\n",
    "import pandas as pd\n",
    "import rasterio\n",
    "import rasterio.mask\n",
    "from rasterio import warp\n",
    "\n",
    "\n",
    "from analysis.NL_feature_creation_and_other_NL_processing import nl_helpers\n",
    "\n",
    "from analysis.prediction_utils import flatten_raster,upscale_grid_vector"
   ]
  },
  {
   "cell_type": "markdown",
   "id": "03b4d632",
   "metadata": {},
   "source": [
    "## Make Non-linear NL features from 2019 VIIRS composite. We make features for ADM1, ADM0, ADM2, and DHS polygons"
   ]
  },
  {
   "cell_type": "markdown",
   "id": "9c621202",
   "metadata": {},
   "source": [
    "We use the annual 2019 VIIRS composite V2.1 average masked data product. This can be downloaded at the link below:\n",
    "\n",
    "https://eogdata.mines.edu/nighttime_light/annual/v21/2019/"
   ]
  },
  {
   "cell_type": "code",
   "execution_count": null,
   "id": "5fd414aa",
   "metadata": {},
   "outputs": [],
   "source": [
    "# VIIRS data\n",
    "src = rasterio.open(data_dir + 'raw/VIIRS/VNL_v21_npp_2019_global_vcmslcfg_c202205302300.average_masked.dat.tif')"
   ]
  },
  {
   "cell_type": "code",
   "execution_count": null,
   "id": "d651fd2e",
   "metadata": {},
   "outputs": [],
   "source": [
    "data = src.read(1)"
   ]
  },
  {
   "cell_type": "markdown",
   "id": "a5ecd85c",
   "metadata": {},
   "source": [
    "### bin options with percentiles"
   ]
  },
  {
   "cell_type": "code",
   "execution_count": null,
   "id": "19e317b5",
   "metadata": {},
   "outputs": [],
   "source": [
    "vals = data.copy().flatten()\n",
    "vals[vals<=0] = np.nan\n",
    "percentiles = np.linspace(0,100,21)\n",
    "thresholds = np.nanpercentile(vals, percentiles)\n",
    "percentile_bins = np.hstack([data.min(), thresholds])"
   ]
  },
  {
   "cell_type": "code",
   "execution_count": null,
   "id": "ee9df083",
   "metadata": {},
   "outputs": [],
   "source": [
    "percentile_bins"
   ]
  },
  {
   "cell_type": "code",
   "execution_count": 4,
   "id": "04eefcbd",
   "metadata": {},
   "outputs": [],
   "source": [
    "outpath = (data_dir+\n",
    "           \"int/VIIRS/VIIRS_feature_bin_widths.p\")\n",
    "pickle.dump(percentile_bins, open(outpath, \"wb\"))\n",
    "percentile_bins = pickle.load(open(outpath, \"rb\"))"
   ]
  },
  {
   "cell_type": "code",
   "execution_count": null,
   "id": "ba260653",
   "metadata": {},
   "outputs": [],
   "source": [
    "plt.hist(np.log(vals.flatten())) ## Note that when we exclude 0s and lower, we see a ~log normal distribution"
   ]
  },
  {
   "cell_type": "code",
   "execution_count": null,
   "id": "e6919155",
   "metadata": {},
   "outputs": [],
   "source": [
    "#compare to distribution of approximately logged viirs raster\n",
    "plt.hist(np.arcsinh(data.flatten()))"
   ]
  },
  {
   "cell_type": "markdown",
   "id": "7cd421a2",
   "metadata": {},
   "source": [
    "### Now make a population raster that is identical in shape"
   ]
  },
  {
   "cell_type": "code",
   "execution_count": null,
   "id": "eacf21db",
   "metadata": {},
   "outputs": [],
   "source": [
    "def resize_raster_to_match_another_raster(src_to_resize,src_to_match, savepath = None,\n",
    "                                          resampling_method=rasterio.enums.Resampling.bilinear,\n",
    "                                         only_positive_values_in_output=True):\n",
    "    \n",
    "    \"\"\"\n",
    "    Function to resample a raster data product such that is the same size as another raster product. \n",
    "    \n",
    "    If `savepath` is provided, then the resampled raster is written to the disk.\n",
    "    \n",
    "    Returns np.array for the resampled raster product.\n",
    "    \n",
    "    For the purpose of creating weights, we sometimes only want to have positive values in the ouput product.\n",
    "    This option is included. Zeros, negatives, and no data values are replaced with the smallest postitive value.\n",
    "    \n",
    "    \"\"\"\n",
    "    \n",
    "    assert src_to_resize.crs == src_to_match.crs, \"not tested for use case where CRSs don't match\"\n",
    "        \n",
    "    data_matched = src_to_resize.read(\n",
    "    out_shape=(src_to_match.count, src_to_match.height, src_to_match.width),\n",
    "    #resampling=rasterio.enums.Resampling.average\n",
    "    resampling=resampling_method,\n",
    "    boundless=True,\n",
    "    fill_value = np.nan,\n",
    "    window = rasterio.windows.from_bounds(*list(src_to_match.bounds), transform=src_to_resize.transform)\n",
    "    )\n",
    "    \n",
    "    ## Replace no data in src_to_resize with np.nan. More stable.\n",
    "    data_matched[data_matched == src_to_resize.nodata] = np.nan\n",
    "    \n",
    "    if only_positive_values_in_output:\n",
    "        data_matched[np.isnan(data_matched)] = np.min(data_matched[data_matched>0])\n",
    "        data_matched[data_matched<=0] = np.min(data_matched[data_matched>0])\n",
    "    \n",
    "    if savepath:\n",
    "        print(\"saving file...\")\n",
    "        with rasterio.open(savepath,\n",
    "        'w',\n",
    "        driver='GTiff',\n",
    "        height=src_to_match.height,\n",
    "        width=src_to_match.width,\n",
    "        count=src_to_resize.count,\n",
    "        dtype=src_to_resize.meta[\"dtype\"],\n",
    "        nodata = np.nan,\n",
    "        crs=src_to_match.crs,\n",
    "        transform=src_to_match.transform,\n",
    "        ) as dst:\n",
    "            dst.write(data_matched)\n",
    "                \n",
    "    return data_matched\n",
    "        "
   ]
  },
  {
   "cell_type": "code",
   "execution_count": null,
   "id": "82db6c20",
   "metadata": {},
   "outputs": [],
   "source": [
    "src_pop = rasterio.open(data_dir + \"/raw/GHS_pop/GHS_POP_E2020_GLOBE_R2023A_4326_30ss_V1_0.tif\")"
   ]
  },
  {
   "cell_type": "code",
   "execution_count": null,
   "id": "72c10e38",
   "metadata": {},
   "outputs": [],
   "source": [
    "data_pop_match = resize_raster_to_match_another_raster(src_pop,src, \n",
    "                                      savepath =data_dir + \"int/VIIRS/GHS_pop_density_match_viirs_rasterio_method.tif\",\n",
    "                                          resampling_method=rasterio.enums.Resampling.bilinear,\n",
    "                                         only_positive_values_in_output=True)\n",
    "\n",
    "# total population no longer matches, but it shouldn't. \n",
    "# Since we  are giving the same \"population weights\" to many different VIIRS cells. \n",
    "# And that doesn't need to logically sum to the expected global population"
   ]
  },
  {
   "cell_type": "code",
   "execution_count": null,
   "id": "7fe36181",
   "metadata": {},
   "outputs": [],
   "source": [
    "src_pop_match = rasterio.open(data_dir + \"int/VIIRS/GHS_pop_density_match_viirs_rasterio_method.tif\")"
   ]
  },
  {
   "cell_type": "markdown",
   "id": "1f18ca07",
   "metadata": {},
   "source": [
    "## Now make GDL polygon features"
   ]
  },
  {
   "cell_type": "code",
   "execution_count": null,
   "id": "34de5cc8",
   "metadata": {},
   "outputs": [],
   "source": [
    "gpdf = pd.read_pickle(data_dir+\"int/GDL_HDI/HDI_ADM1_shapefile_clean.p\")"
   ]
  },
  {
   "cell_type": "code",
   "execution_count": null,
   "id": "f0e25808",
   "metadata": {},
   "outputs": [],
   "source": [
    "percentile_feats = nl_helpers.create_nl_binned_dataframe(gpdf, src, bins = percentile_bins, \n",
    "                                                        weight_raster = src_pop_match)\n",
    "percentile_feats.to_pickle(data_dir+f\"features/nl_features/GDL_HDI_polygons/viirs_percentile_binned_feats_GHS_pop_weighted_rasterio_method.p\")\n",
    "\n"
   ]
  },
  {
   "cell_type": "code",
   "execution_count": null,
   "id": "bde954e5",
   "metadata": {},
   "outputs": [],
   "source": [
    "## ADM0"
   ]
  },
  {
   "cell_type": "code",
   "execution_count": null,
   "id": "502f6124",
   "metadata": {},
   "outputs": [],
   "source": [
    "gpdf_adm0 = pd.read_pickle(data_dir+\"int/GDL_HDI/HDI_ADM0_dissolved_shapefile.p\")"
   ]
  },
  {
   "cell_type": "code",
   "execution_count": null,
   "id": "7b7a0a31",
   "metadata": {},
   "outputs": [],
   "source": [
    "percentile_feats_adm0 = nl_helpers.create_nl_binned_dataframe(gpdf_adm0, src, bins = percentile_bins, \n",
    "                                                        weight_raster = src_pop_match)\n",
    "percentile_feats_adm0.to_pickle(data_dir+f\"features/nl_features/GDL_ADM0_polygons/viirs_adm0_percentile_binned_feats_GHS_pop_weighted_rasterio_method.p\")"
   ]
  },
  {
   "cell_type": "markdown",
   "id": "727586d6",
   "metadata": {},
   "source": [
    "## Now make DHS polygon features"
   ]
  },
  {
   "cell_type": "code",
   "execution_count": null,
   "id": "200a2ffd",
   "metadata": {},
   "outputs": [],
   "source": [
    "dhs_shp = pd.read_pickle(data_dir+\"int/GDL_IWI/DHS_iwi_cluster_buffers_clipped.p\").set_index(\"DHSID\")"
   ]
  },
  {
   "cell_type": "code",
   "execution_count": null,
   "id": "cd165b77",
   "metadata": {},
   "outputs": [],
   "source": [
    "out = nl_helpers.create_nl_binned_dataframe(dhs_shp, bins=percentile_bins,raster_file=src, \n",
    "                                            weight_raster =src_pop_match)\n",
    "out = nl_helpers.correct_nl_df_creation(out, dhs_shp,bins=percentile_bins,raster_file=src)\n",
    "\n",
    "assert out.isnull().sum().sum() == 0\n",
    "\n",
    "out.to_pickle(data_dir+\"features/nl_features/DHS_polygons/viirs_dhs_cluster_percentile_binned_feats_GHS_pop_weighted_rasterio_method.p\")\n"
   ]
  },
  {
   "cell_type": "markdown",
   "id": "9cc71de0",
   "metadata": {},
   "source": [
    "## Now make ADM2 polygon features"
   ]
  },
  {
   "cell_type": "code",
   "execution_count": null,
   "id": "0a542d80",
   "metadata": {},
   "outputs": [],
   "source": [
    "file = data_dir + \"raw/geoBoundaries/geoBoundariesCGAZ_ADM2.geojson\"\n",
    "adm2 = gpd.read_file(file).set_index(\"shapeID\")"
   ]
  },
  {
   "cell_type": "code",
   "execution_count": null,
   "id": "66126ce4",
   "metadata": {},
   "outputs": [],
   "source": [
    "out = nl_helpers.create_nl_binned_dataframe(adm2, bins=percentile_bins,raster_file=src, \n",
    "                                            weight_raster =src_pop_match, \n",
    "                                           )\n",
    "out = nl_helpers.correct_nl_df_creation(out, adm2,bins=percentile_bins,raster_file=src)\n",
    "\n",
    "assert out.isnull().sum().sum() == 0\n",
    "\n",
    "out.to_pickle(data_dir + \"features/nl_features/geoBoundaries_ADM2/viirs_geoBoundaries_ADM2_percentile_binned_feats_GHS_pop_weighted_rasterio_method.p\")\n"
   ]
  },
  {
   "cell_type": "markdown",
   "id": "09348e82",
   "metadata": {},
   "source": [
    "# Now make the Y values"
   ]
  },
  {
   "cell_type": "markdown",
   "id": "d3997c65",
   "metadata": {},
   "source": [
    "### ADM2"
   ]
  },
  {
   "cell_type": "code",
   "execution_count": null,
   "id": "fecb334e",
   "metadata": {},
   "outputs": [],
   "source": [
    "file = data_dir + \"raw/geoBoundaries/geoBoundariesCGAZ_ADM2.geojson\"\n",
    "adm2 = gpd.read_file(file).set_index(\"shapeID\").rename(columns = {\"ADM1_shapeID\": \"ADM1_shape\"})\n"
   ]
  },
  {
   "cell_type": "code",
   "execution_count": null,
   "id": "3e493a72",
   "metadata": {},
   "outputs": [],
   "source": [
    "out_adm2 = nl_helpers.get_avg_nl_and_weighted_avg_nl(adm2, raster_file=src,\n",
    "                                                     weight_raster = src_pop_match,\n",
    "                                                     log1_raster=True)\n",
    "out_adm2 = nl_helpers.correct_nl_Ys(out_adm2, adm2, raster_file=src,off_raster_val=np.nan,\n",
    "                                   log1_raster=True)\n",
    "\n",
    "#assert out_adm2.isnull().sum().sum() == 0 # Allow NAs when geometries are not on the viirs raster\n",
    "\n",
    "\n",
    "out_adm2.to_pickle(data_dir + \"int/VIIRS/viirs_avg_nl_Ys_geoB_adm2_GHS_pop.p\")"
   ]
  },
  {
   "cell_type": "markdown",
   "id": "562da0a0",
   "metadata": {},
   "source": [
    "### ADM1"
   ]
  },
  {
   "cell_type": "code",
   "execution_count": null,
   "id": "eb8cb8f4",
   "metadata": {},
   "outputs": [],
   "source": [
    "adm2 = adm2[adm2[\"geometry\"].is_valid] # Drop 3 obs, invalid geometries.\n",
    "adm1_geoboundaries = adm2.dissolve(\"ADM1_shape\") #\n",
    "\n",
    "out_adm1 = nl_helpers.get_avg_nl_and_weighted_avg_nl(adm1_geoboundaries, raster_file=src,\n",
    "                                                     weight_raster = src_pop_match,\n",
    "                                                     log1_raster=True)\n",
    "out_adm1 = nl_helpers.correct_nl_Ys(out_adm1, adm1_geoboundaries, raster_file=src,off_raster_val=np.nan,\n",
    "                                   log1_raster=True)\n",
    "\n",
    "#assert out_adm1.isnull().sum().sum() == 0 # Allow NAs when geometries are not on the viirs raster\n",
    "\n",
    "out_adm1.to_pickle(data_dir + \"int/VIIRS/viirs_avg_nl_Ys_geoB_adm1_GHS_pop.p\")"
   ]
  },
  {
   "cell_type": "markdown",
   "id": "0fbcc7e9",
   "metadata": {},
   "source": [
    "### ADM0"
   ]
  },
  {
   "cell_type": "code",
   "execution_count": null,
   "id": "8c088731",
   "metadata": {},
   "outputs": [],
   "source": [
    "adm0_geoboundaries = adm2.dissolve(\"shapeGroup\")\n",
    "out_adm0 = nl_helpers.get_avg_nl_and_weighted_avg_nl(adm0_geoboundaries, raster_file=src,\n",
    "                                                     weight_raster = src_pop_match,\n",
    "                                                    log1_raster=True)\n",
    "out_adm0 = nl_helpers.correct_nl_Ys(out_adm0, adm0_geoboundaries, raster_file=src,off_raster_val=np.nan,\n",
    "                                   log1_raster=True)\n",
    "\n",
    "assert out_adm0.isnull().sum().sum() == 0 # Allow NAs when geometries are not on the viirs raster\n",
    "\n",
    "out_adm0.to_pickle(data_dir + \"int/VIIRS/viirs_avg_nl_Ys_geoB_adm0_GHS_pop.p\")"
   ]
  },
  {
   "cell_type": "code",
   "execution_count": null,
   "id": "e661e018",
   "metadata": {},
   "outputs": [],
   "source": []
  }
 ],
 "metadata": {
  "kernelspec": {
   "display_name": "Python 3 (ipykernel)",
   "language": "python",
   "name": "python3"
  },
  "language_info": {
   "codemirror_mode": {
    "name": "ipython",
    "version": 3
   },
   "file_extension": ".py",
   "mimetype": "text/x-python",
   "name": "python",
   "nbconvert_exporter": "python",
   "pygments_lexer": "ipython3",
   "version": "3.7.15"
  }
 },
 "nbformat": 4,
 "nbformat_minor": 5
}

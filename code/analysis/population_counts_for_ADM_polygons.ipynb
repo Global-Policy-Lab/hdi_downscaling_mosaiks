{
 "cells": [
  {
   "cell_type": "code",
   "execution_count": 3,
   "id": "60d75293",
   "metadata": {},
   "outputs": [],
   "source": [
    "import os\n",
    "\n",
    "repo_dir = os.environ.get(\"REPO_DIR\")\n",
    "code_dir = os.path.join(repo_dir, \"code/\")\n",
    "data_dir = os.path.join(repo_dir, \"data/\")\n",
    "\n",
    "os.chdir(code_dir)\n",
    "\n",
    "\n",
    "import matplotlib.pyplot as plt\n",
    "import numpy as np\n",
    "import scipy.linalg\n",
    "import pickle\n",
    "import pandas as pd\n",
    "import sklearn \n",
    "import sys\n",
    "import pandas as pd\n",
    "from importlib import reload\n",
    "\n",
    "import matplotlib\n",
    "\n",
    "from sklearn.model_selection import KFold\n",
    "from sklearn.linear_model import Ridge\n",
    "import seaborn as sns\n",
    "import geopandas as gpd\n",
    "\n",
    "import rasterio\n",
    "\n",
    "from prediction_utils import flatten_raster, upscale_grid_vector\n",
    "from analysis.NL_feature_creation_and_other_NL_processing.nl_helpers import apply_polygon_mask_and_return_flat_array"
   ]
  },
  {
   "cell_type": "markdown",
   "id": "e756710b",
   "metadata": {},
   "source": [
    "## In this file, we want to get population counts associated with ADM polygons"
   ]
  },
  {
   "cell_type": "markdown",
   "id": "2263d33c",
   "metadata": {},
   "source": [
    "We will use Global Human Settlement (GHS-POP) data for the year 2020, the same data product used elsewhere."
   ]
  },
  {
   "cell_type": "markdown",
   "id": "cac9683a",
   "metadata": {},
   "source": [
    "### Read shapefiles"
   ]
  },
  {
   "cell_type": "code",
   "execution_count": 2,
   "id": "6b30a788",
   "metadata": {},
   "outputs": [],
   "source": [
    "gpdf = pd.read_pickle(data_dir + \"int/GDL_HDI/HDI_ADM1_shapefile_clean.p\")\n",
    "adm2 = gpd.read_file(data_dir + \"raw/geoBoundaries/geoBoundariesCGAZ_ADM2.geojson\")"
   ]
  },
  {
   "cell_type": "markdown",
   "id": "3c1f39ae",
   "metadata": {},
   "source": [
    "### Read population total raster (not the same as pop density)"
   ]
  },
  {
   "cell_type": "code",
   "execution_count": 4,
   "id": "224eaa59",
   "metadata": {},
   "outputs": [],
   "source": [
    "pop_tot_path =data_dir + \"/raw/GHS_pop/GHS_POP_E2020_GLOBE_R2023A_4326_30ss_V1_0.tif\"\n",
    "src_tot = rasterio.open(pop_tot_path)"
   ]
  },
  {
   "cell_type": "code",
   "execution_count": 5,
   "id": "85bb9b8a",
   "metadata": {},
   "outputs": [
    {
     "data": {
      "text/plain": [
       "<open DatasetReader name='/shares/maps100/code/code_LS/hdi_downscaling/data//raw/GHS_pop/GHS_POP_E2020_GLOBE_R2023A_4326_30ss_V1_0.tif' mode='r'>"
      ]
     },
     "execution_count": 5,
     "metadata": {},
     "output_type": "execute_result"
    }
   ],
   "source": [
    "src_tot"
   ]
  },
  {
   "cell_type": "code",
   "execution_count": 5,
   "id": "fc6bf974",
   "metadata": {},
   "outputs": [
    {
     "name": "stdout",
     "output_type": "stream",
     "text": [
      "Global population in 2020: 7.841 billion\n"
     ]
    }
   ],
   "source": [
    "print(\"Global population in 2020:\", (src_tot.read(1).sum()/1e9).round(3), \"billion\")"
   ]
  },
  {
   "cell_type": "markdown",
   "id": "3682047b",
   "metadata": {},
   "source": [
    "## Get population counts for ADM2 polygons"
   ]
  },
  {
   "cell_type": "code",
   "execution_count": 6,
   "id": "fde9946b",
   "metadata": {},
   "outputs": [],
   "source": [
    "sums = []\n",
    "\n",
    "for index in adm2.index:\n",
    "    sums.append(apply_polygon_mask_and_return_flat_array(adm2[\"geometry\"].at[index], raster_file=src_tot).sum())\n",
    "    "
   ]
  },
  {
   "cell_type": "code",
   "execution_count": 8,
   "id": "8dd7f58b",
   "metadata": {},
   "outputs": [],
   "source": [
    "adm2[\"total_pop\"] = np.round(np.array(sums)).astype(int)\n",
    "adm2[\"area_sq_km\"] = adm2.to_crs('epsg:6933')[\"geometry\"].area/1e6"
   ]
  },
  {
   "cell_type": "code",
   "execution_count": 9,
   "id": "4e7ab3e8",
   "metadata": {},
   "outputs": [],
   "source": [
    "adm2_pop = adm2.set_index(\"shapeID\")[[\"total_pop\", \"area_sq_km\"]]\n",
    "adm2_pop.to_pickle(data_dir + \"int/GHS_pop/pop_count_sums_for_ADM2_polygons.p\")"
   ]
  },
  {
   "cell_type": "code",
   "execution_count": 10,
   "id": "1b9b285e",
   "metadata": {},
   "outputs": [],
   "source": [
    "adm2_pop.to_pickle(data_dir + \"int/GHS_pop/pop_count_sums_for_ADM2_polygons.p\")"
   ]
  },
  {
   "cell_type": "markdown",
   "id": "36ebd31b",
   "metadata": {},
   "source": [
    "## Get population counts for GDL ADM1 polygons"
   ]
  },
  {
   "cell_type": "code",
   "execution_count": 11,
   "id": "fa24be84",
   "metadata": {},
   "outputs": [],
   "source": [
    "sums = []\n",
    "\n",
    "for index in gpdf.index:\n",
    "    sums.append(apply_polygon_mask_and_return_flat_array(gpdf[\"geometry\"].at[index], raster_file=src_tot).sum())\n",
    "    "
   ]
  },
  {
   "cell_type": "code",
   "execution_count": 12,
   "id": "b1d0228e",
   "metadata": {},
   "outputs": [],
   "source": [
    "gpdf[\"total_pop\"] = np.round(np.array(sums)).astype(int)\n",
    "gpdf[\"area_sq_km\"] = gpdf.to_crs(\"epsg:6933\")[\"geometry\"].area/1e6"
   ]
  },
  {
   "cell_type": "code",
   "execution_count": 13,
   "id": "636e90d9",
   "metadata": {},
   "outputs": [],
   "source": [
    "gpdf_pop = gpdf[[\"total_pop\", \"area_sq_km\"]]\n",
    "gpdf_pop.to_pickle(data_dir +\"int/GHS_pop/pop_count_sums_for_GDL_ADM1_polygons.p\")"
   ]
  },
  {
   "cell_type": "markdown",
   "id": "113fec16",
   "metadata": {},
   "source": [
    "## Get population counts for .1 x.1 degree grid"
   ]
  },
  {
   "cell_type": "code",
   "execution_count": null,
   "id": "a5e1c62a",
   "metadata": {},
   "outputs": [],
   "source": [
    "arr = src_tot.read(1)"
   ]
  },
  {
   "cell_type": "code",
   "execution_count": null,
   "id": "50a142d1",
   "metadata": {},
   "outputs": [],
   "source": [
    "arr[arr < 0]  = 0"
   ]
  },
  {
   "cell_type": "code",
   "execution_count": null,
   "id": "c3cb0fd9",
   "metadata": {},
   "outputs": [],
   "source": [
    "x,y,vals = flatten_raster(arr, src_tot.transform)"
   ]
  },
  {
   "cell_type": "code",
   "execution_count": null,
   "id": "3d5466ed",
   "metadata": {},
   "outputs": [],
   "source": [
    "df = pd.DataFrame({\"lon\":x,\"lat\":y,\"pop_count\":vals})"
   ]
  },
  {
   "cell_type": "code",
   "execution_count": null,
   "id": "6afc2e85",
   "metadata": {},
   "outputs": [],
   "source": [
    "df[\"lat10\"] = upscale_grid_vector(df[\"lat\"],1)\n",
    "df[\"lon10\"] = upscale_grid_vector(df[\"lon\"],1)"
   ]
  },
  {
   "cell_type": "code",
   "execution_count": null,
   "id": "6dac9708",
   "metadata": {},
   "outputs": [],
   "source": [
    "out_df = df.groupby([\"lon10\",\"lat10\"]).sum().reset_index().drop(columns = [\"lon\",\"lat\"])"
   ]
  },
  {
   "cell_type": "code",
   "execution_count": null,
   "id": "e1d5c9f6",
   "metadata": {},
   "outputs": [],
   "source": [
    "out_df.to_pickle(data_dir + \"int/GHS_pop/pop_count_sums_for_.1x1_grid.p\")"
   ]
  },
  {
   "cell_type": "code",
   "execution_count": null,
   "id": "9c7c5f6c",
   "metadata": {},
   "outputs": [],
   "source": []
  }
 ],
 "metadata": {
  "kernelspec": {
   "display_name": "Python 3 (ipykernel)",
   "language": "python",
   "name": "python3"
  },
  "language_info": {
   "codemirror_mode": {
    "name": "ipython",
    "version": 3
   },
   "file_extension": ".py",
   "mimetype": "text/x-python",
   "name": "python",
   "nbconvert_exporter": "python",
   "pygments_lexer": "ipython3",
   "version": "3.7.15"
  }
 },
 "nbformat": 4,
 "nbformat_minor": 5
}

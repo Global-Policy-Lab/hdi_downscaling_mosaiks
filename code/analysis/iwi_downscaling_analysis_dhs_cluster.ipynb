{
 "cells": [
  {
   "cell_type": "code",
   "execution_count": 1,
   "metadata": {
    "scrolled": true
   },
   "outputs": [],
   "source": [
    "import os\n",
    "\n",
    "repo_dir = os.environ.get(\"REPO_DIR\")\n",
    "code_dir = os.path.join(repo_dir, \"code/\")\n",
    "data_dir = os.path.join(repo_dir, \"data/\")\n",
    "os.chdir(code_dir)\n",
    "\n",
    "import matplotlib.pyplot as plt\n",
    "import numpy as np\n",
    "import scipy.linalg\n",
    "from scipy.stats import spearmanr\n",
    "\n",
    "import pickle\n",
    "import pandas as pd\n",
    "import sklearn \n",
    "import sys\n",
    "import pandas as pd\n",
    "from importlib import reload\n",
    "import copy\n",
    "\n",
    "import warnings\n",
    "\n",
    "from sklearn.model_selection import KFold\n",
    "from sklearn.linear_model import Ridge\n",
    "import seaborn as sns\n",
    "\n",
    "from mosaiks.utils.imports import *\n",
    "\n",
    "# Key prediction functions are here\n",
    "from analysis.prediction_utils import predict_y_from_kfold_dict, generalized_demean, X_matrix_to_demeaned_X\n",
    "from analysis.prediction_utils import make_train_pred_scatterplot as make_scatterplot\n",
    "\n",
    "\n",
    "import geopandas as gpd\n",
    "import shapely"
   ]
  },
  {
   "cell_type": "markdown",
   "metadata": {},
   "source": [
    "## Subnational IWI Predictions\n",
    "\n",
    "Predict and evaluate IWI performance at the DHS Cluster level. Model is trained in the notebook called `hdi_and_iwi_model_training.ipynb`. IWI data at the DHS cluster level are not available publicly. The hierarchal linking of DHS clusters to GDL ADM1 polygons occurs in the notebook called `hierarchally_link_DHS_cluster_and_adm1.ipynb`."
   ]
  },
  {
   "cell_type": "markdown",
   "metadata": {},
   "source": [
    "## Read DHS cluster IWI data and geo link file"
   ]
  },
  {
   "cell_type": "code",
   "execution_count": 2,
   "metadata": {},
   "outputs": [],
   "source": [
    "link_df = pd.read_pickle(data_dir + \"/int/DHS_to_GDL_ADM1_link/dhsid_to_gdl_adm1_link.p\")\n",
    "\n",
    "iwi = pd.read_csv(data_dir + 'int/GDL_IWI/mean_IWI.csv').groupby(\"DHSID\").mean()"
   ]
  },
  {
   "cell_type": "markdown",
   "metadata": {},
   "source": [
    "## Read ADM1 IWI data"
   ]
  },
  {
   "cell_type": "markdown",
   "metadata": {},
   "source": [
    "We create a subnational and national dataframe of IWI. These IWI data are downloaded from the Global Data Lab for the year 2019 with 8 year nearest neighbor interpolation. "
   ]
  },
  {
   "cell_type": "code",
   "execution_count": 3,
   "metadata": {},
   "outputs": [],
   "source": [
    "path = ((data_dir + 'raw/GDL_IWI/'\n",
    "        \"GDL-Mean-International-Wealth-Index-(IWI)-score-of-region-data_linear_interp=True_nearest_val=8.csv\"))\n",
    "df = pd.read_csv(path)"
   ]
  },
  {
   "cell_type": "code",
   "execution_count": 4,
   "metadata": {},
   "outputs": [],
   "source": [
    "subnat = df[df[\"Level\"] == \"Subnat\"]\n",
    "subnat = subnat.rename(columns= {\"2019\" : \"subnat IWI\"}).dropna(subset=[\"subnat IWI\"])"
   ]
  },
  {
   "cell_type": "code",
   "execution_count": 5,
   "metadata": {},
   "outputs": [],
   "source": [
    "nat = subnat.groupby(\"ISO_Code\")[\"subnat IWI\"].mean().rename(\"nat IWI\")"
   ]
  },
  {
   "cell_type": "code",
   "execution_count": 6,
   "metadata": {},
   "outputs": [],
   "source": [
    "subnat = subnat.set_index(\"GDLCODE\")[\"subnat IWI\"]"
   ]
  },
  {
   "cell_type": "markdown",
   "metadata": {},
   "source": [
    "## Step 2 - Evaluate cross country models at the DHS cluster level"
   ]
  },
  {
   "cell_type": "code",
   "execution_count": 7,
   "metadata": {},
   "outputs": [],
   "source": [
    "def dhs_pred_truth_to_metrics(preds, truth, nat=nat,link_df=link_df, subnat=subnat, write_path=None, \n",
    "                              demeaned_input=False, return_df=False, recenter_on = None, extra_clip=False):\n",
    "    \n",
    "    \"\"\"\n",
    "    Function to calculate all metrics for DHS level predictions\n",
    "    \n",
    "    For the demaned models, we may want to recenter. Recenter options are as follows:\n",
    "    \n",
    "    recenter_on = \"adm0\", \"adm1\", or \"adm1_ideal\"\n",
    "    adm0 - Add back the country mean for a demeaned model. (Mean of ADM1 obs, not the pop weighted country value)\n",
    "    adm1 - Force the mean of the DHS observations to match the ADM1 observed value for the parent polygon\n",
    "    \n",
    "    adm1_ideal -  calculate the mean of adm2_observations aggregated to the adm1 level. Ensure these match for the truth\n",
    "                    and the preds. We cannot do this in practice, because we imagine that we do not know the truth.\n",
    "    \n",
    "    \"\"\"\n",
    "    \n",
    "    df = pd.DataFrame([preds.rename(\"preds\"),truth.rename(\"truth\")]).T\n",
    "    \n",
    "    dhs_id_to_iso = link_df[[\"DHSID\",\"alpha-3\",\"GDL_adm1_parent\"]]\n",
    "    \n",
    "    df = df.merge(dhs_id_to_iso ,\"left\",left_index=True, right_on=\"DHSID\")\n",
    "    df = df.merge(nat, \"left\", left_on=\"alpha-3\", right_index=True)\n",
    "    df = df.merge(subnat, how=\"left\", left_on = \"GDL_adm1_parent\", right_index=True)\n",
    "    \n",
    "    ## If demeaned, the first step is to add back the mean of of the ADM1 observations aggregated to the country level\n",
    "    if demeaned_input:\n",
    "        df[\"truth\"] = df[\"truth\"] + df[\"nat IWI\"]\n",
    "    \n",
    "    #If we re-center preds on andmo\n",
    "    if recenter_on == \"adm0\" and demeaned_input:\n",
    "        df[\"preds\"] = df[\"preds\"] + df[\"nat IWI\"]\n",
    "        \n",
    "    elif recenter_on == \"adm0\":\n",
    "        raise NotImplementedError\n",
    "        \n",
    "    \n",
    "    # This extra clipping option will only effect the demeaned model. It ensures that after\n",
    "    # correction, there are not outliers outside the known min, max.\n",
    "    if extra_clip:\n",
    "        df[\"preds\"] = np.clip(df[\"preds\"], df[\"truth\"].min(), df[\"truth\"].max())\n",
    "    \n",
    "     \n",
    "    if recenter_on == \"adm1\":\n",
    "        ## Force the mean of the preds to match the observed ADM1 values\n",
    "        grouped_to_adm1 = df.groupby([\"GDL_adm1_parent\"]).mean()[[\"preds\"]].rename(columns = {\n",
    "        \"preds\":\"adm1_unweighted_mean_of_preds_from_dhs_obs\"})\n",
    "            \n",
    "        df = df.merge(grouped_to_adm1, \"left\", left_on=\"GDL_adm1_parent\", right_index=True)\n",
    "        \n",
    "        # difference between the observed ADM1 data and the preds aggregated to ADM1. \n",
    "        # we use this to re-center our preds\n",
    "        df[\"adm1_recentering_adj\"] = df[\"subnat IWI\"] - df[\"adm1_unweighted_mean_of_preds_from_dhs_obs\"]\n",
    "        \n",
    "        \n",
    "        df[\"preds\"] = df[\"adm1_recentering_adj\"] + df[\"preds\"]\n",
    "        df.drop(columns = [\"adm1_unweighted_mean_of_preds_from_dhs_obs\"],\n",
    "               inplace=True)\n",
    "        \n",
    "    \n",
    "    if recenter_on == \"adm1_ideal\":\n",
    "        ## Calculate the mean of DHS truth and preds aggreagated to the ADM1 level. Force these to match.\n",
    "        ## This does not effect within country and within adm1 performance much, since we already force them to be\n",
    "        ## mean 0\n",
    "        \n",
    "        grouped_to_adm1 = df.groupby([\"GDL_adm1_parent\"]).mean()[[\"truth\", \"preds\"]].rename(columns = {\n",
    "        \"preds\":\"adm1_unweighted_mean_of_preds_from_dhs_obs\",\"truth\": \"adm1_unweighted_mean_of_truth_from_dhs_obs\"})\n",
    "        df = df.merge(grouped_to_adm1, \"left\", left_on=\"GDL_adm1_parent\", right_index=True)\n",
    "        \n",
    "        df[\"adj_ideal\"] = df[\"adm1_unweighted_mean_of_truth_from_dhs_obs\"] - df[\"adm1_unweighted_mean_of_preds_from_dhs_obs\"]\n",
    "        df[\"preds\"] = df[\"adj_ideal\"] + df[\"preds\"]\n",
    "        \n",
    "        df.drop(columns = [\"adm1_unweighted_mean_of_truth_from_dhs_obs\",\"adm1_unweighted_mean_of_preds_from_dhs_obs\"],\n",
    "               inplace=True)\n",
    "        \n",
    "        \n",
    "    r2 = sklearn.metrics.r2_score(df[\"truth\"],df[\"preds\"])\n",
    "    pearson = np.corrcoef(df[\"truth\"],df[\"preds\"])[0,1] ** 2\n",
    "    spearman = spearmanr(df[\"truth\"],df[\"preds\"]).correlation\n",
    "    \n",
    "    #Aggregate DHS obs to ADM0\n",
    "    adm0_mean_dhs_obs = df.groupby(\"alpha-3\")[[\"truth\",\"preds\"]].mean().rename(columns={\n",
    "        \"truth\":\"adm0_unweighted_mean_of_truth_from_dhs_obs\",\"preds\":\"adm0_unweighted_mean_of_preds_from_dhs_obs\"})\n",
    "    df = df.merge(adm0_mean_dhs_obs, \"left\", left_on=\"alpha-3\", right_index=True)\n",
    "        \n",
    "    #Aggregate DHS obs to ADM1\n",
    "    grouped_to_adm1 = df.groupby([\"GDL_adm1_parent\"]).mean()[[\"truth\", \"preds\"]].rename(columns = {\n",
    "        \"preds\":\"adm1_unweighted_mean_of_preds_from_dhs_obs\",\"truth\": \"adm1_unweighted_mean_of_truth_from_dhs_obs\"})\n",
    "    df = df.merge(grouped_to_adm1, \"left\", left_on=\"GDL_adm1_parent\", right_index=True)\n",
    "    \n",
    "    \n",
    "    # Remove mean of DHS observatios for each country\n",
    "    # See NL super-res notebook for comments on this general procedure\n",
    "    \n",
    "    df[\"preds_demean_adm0\"] = df[\"preds\"] - df[\"adm0_unweighted_mean_of_preds_from_dhs_obs\"]\n",
    "    df[\"true_demean_adm0\"] = df[\"truth\"] - df[\"adm0_unweighted_mean_of_truth_from_dhs_obs\"]\n",
    "    \n",
    "    within_r2 = sklearn.metrics.r2_score(df[\"true_demean_adm0\"],df[\"preds_demean_adm0\"])\n",
    "    within_pearson = np.corrcoef(df[\"true_demean_adm0\"],df[\"preds_demean_adm0\"])[0,1]  ** 2\n",
    "    within_spearman = spearmanr(df[\"true_demean_adm0\"],df[\"preds_demean_adm0\"]).correlation\n",
    "    \n",
    "    \n",
    "    df[\"preds_demean_adm1\"] = df[\"preds\"] - df[\"adm1_unweighted_mean_of_preds_from_dhs_obs\"]\n",
    "    df[\"true_demean_adm1\"] = df[\"truth\"] - df[\"adm1_unweighted_mean_of_truth_from_dhs_obs\"]\n",
    "    \n",
    "    within_r2_adm1 = sklearn.metrics.r2_score(df[\"true_demean_adm1\"],df[\"preds_demean_adm1\"])\n",
    "    within_pearson_adm1 = np.corrcoef(df[\"true_demean_adm1\"],df[\"preds_demean_adm1\"])[0,1] ** 2\n",
    "    within_spearman_adm1 = spearmanr(df[\"true_demean_adm1\"],df[\"preds_demean_adm1\"]).correlation\n",
    "    \n",
    "    if write_path:\n",
    "        df.to_pickle(write_path)\n",
    "    \n",
    "    output_dict = {\"pearson\" : pearson, \"spearman\" : spearman, \"r2\" : r2, \n",
    "                   \"within_adm0_pearson\": within_pearson, \"within_adm0_spearman\": within_spearman, \"within_adm0_r2\":within_r2, \n",
    "                  \"within_adm1_pearson\": within_pearson_adm1, \"within_adm1_spearman\": within_spearman_adm1, \"within_adm1_r2\":within_r2_adm1, \n",
    "                  }\n",
    "    \n",
    "    # For demeaned performance metrics to be correct, demeaned truth vals MUST have mean zero\n",
    "    assert round(df[\"true_demean_adm1\"].mean(),6) ==0\n",
    "    assert round(df[\"true_demean_adm0\"].mean(),6) ==0\n",
    "    \n",
    "    assert round(df[\"preds_demean_adm1\"].mean(),6) ==0\n",
    "    assert round(df[\"preds_demean_adm0\"].mean(),6) ==0\n",
    "    \n",
    "    if return_df:\n",
    "        return df\n",
    "            \n",
    "    return output_dict\n",
    "        \n",
    "        "
   ]
  },
  {
   "cell_type": "code",
   "execution_count": 8,
   "metadata": {},
   "outputs": [],
   "source": [
    "dhs_rcf_X = pd.read_pickle( (data_dir + \"/features/mosaiks_features/\"\n",
    "                             \"DHS_DHS_dense_GHS_POP_pop_weight=True.p\") ).drop(columns=\"DHSID\")\n",
    "                           \n",
    "dhs_nl_X = pd.read_pickle( data_dir+\"features/nl_features/DHS_polygons/\"\n",
    "                          \"viirs_dhs_cluster_percentile_binned_feats_GHS_pop_weighted_rasterio_method.p\" )\n",
    "                           \n",
    "task = \"iwi\"\n",
    "# task = \"Sub-national HDI\""
   ]
  },
  {
   "cell_type": "markdown",
   "metadata": {},
   "source": [
    "## Let's calculate missing data"
   ]
  },
  {
   "cell_type": "code",
   "execution_count": 9,
   "metadata": {},
   "outputs": [],
   "source": [
    "overlap_idxs = iwi.index[iwi.index.isin(dhs_rcf_X.index)]"
   ]
  },
  {
   "cell_type": "code",
   "execution_count": 10,
   "metadata": {},
   "outputs": [],
   "source": [
    "iwi_overlap = iwi.loc[overlap_idxs]"
   ]
  },
  {
   "cell_type": "code",
   "execution_count": 11,
   "metadata": {},
   "outputs": [
    {
     "name": "stdout",
     "output_type": "stream",
     "text": [
      "33 missing obs from saved DHS dense grid\n",
      "These observations DO NOT have planet data\n"
     ]
    }
   ],
   "source": [
    "n_not_in_grid = len(iwi) - len(iwi_overlap)\n",
    "\n",
    "print( n_not_in_grid, \"missing obs from saved DHS dense grid\")\n",
    "print(\"These observations DO NOT have planet data\")"
   ]
  },
  {
   "cell_type": "code",
   "execution_count": 12,
   "metadata": {},
   "outputs": [],
   "source": [
    "overlap_adm1 = iwi_overlap.index.isin(link_df[\"DHSID\"])"
   ]
  },
  {
   "cell_type": "code",
   "execution_count": 13,
   "metadata": {},
   "outputs": [],
   "source": [
    "iwi_overlap = iwi_overlap.loc[overlap_adm1 ]"
   ]
  },
  {
   "cell_type": "code",
   "execution_count": 14,
   "metadata": {},
   "outputs": [
    {
     "name": "stdout",
     "output_type": "stream",
     "text": [
      "1196 obs are dropped because they do not overlap any ADM1 region\n"
     ]
    }
   ],
   "source": [
    "n_without_adm1_overlap = len(iwi) - len(iwi_overlap) - n_not_in_grid\n",
    "\n",
    "print( n_without_adm1_overlap, \"obs are dropped because they do not overlap any ADM1 region\")"
   ]
  },
  {
   "cell_type": "code",
   "execution_count": 15,
   "metadata": {},
   "outputs": [],
   "source": [
    "dhs_rcf_X = dhs_rcf_X.loc[iwi_overlap.index]\n",
    "dhs_nl_X = dhs_nl_X.loc[iwi_overlap.index]"
   ]
  },
  {
   "cell_type": "code",
   "execution_count": 16,
   "metadata": {
    "scrolled": true
   },
   "outputs": [
    {
     "data": {
      "text/html": [
       "<div>\n",
       "<style scoped>\n",
       "    .dataframe tbody tr th:only-of-type {\n",
       "        vertical-align: middle;\n",
       "    }\n",
       "\n",
       "    .dataframe tbody tr th {\n",
       "        vertical-align: top;\n",
       "    }\n",
       "\n",
       "    .dataframe thead th {\n",
       "        text-align: right;\n",
       "    }\n",
       "</style>\n",
       "<table border=\"1\" class=\"dataframe\">\n",
       "  <thead>\n",
       "    <tr style=\"text-align: right;\">\n",
       "      <th></th>\n",
       "      <th>X_0</th>\n",
       "      <th>X_1</th>\n",
       "      <th>X_2</th>\n",
       "      <th>X_3</th>\n",
       "      <th>X_4</th>\n",
       "      <th>X_5</th>\n",
       "      <th>X_6</th>\n",
       "      <th>X_7</th>\n",
       "      <th>X_8</th>\n",
       "      <th>X_9</th>\n",
       "      <th>...</th>\n",
       "      <th>X_3990</th>\n",
       "      <th>X_3991</th>\n",
       "      <th>X_3992</th>\n",
       "      <th>X_3993</th>\n",
       "      <th>X_3994</th>\n",
       "      <th>X_3995</th>\n",
       "      <th>X_3996</th>\n",
       "      <th>X_3997</th>\n",
       "      <th>X_3998</th>\n",
       "      <th>X_3999</th>\n",
       "    </tr>\n",
       "    <tr>\n",
       "      <th>DHSID</th>\n",
       "      <th></th>\n",
       "      <th></th>\n",
       "      <th></th>\n",
       "      <th></th>\n",
       "      <th></th>\n",
       "      <th></th>\n",
       "      <th></th>\n",
       "      <th></th>\n",
       "      <th></th>\n",
       "      <th></th>\n",
       "      <th></th>\n",
       "      <th></th>\n",
       "      <th></th>\n",
       "      <th></th>\n",
       "      <th></th>\n",
       "      <th></th>\n",
       "      <th></th>\n",
       "      <th></th>\n",
       "      <th></th>\n",
       "      <th></th>\n",
       "      <th></th>\n",
       "    </tr>\n",
       "  </thead>\n",
       "  <tbody>\n",
       "    <tr>\n",
       "      <th>AL201700000001</th>\n",
       "      <td>0.340252</td>\n",
       "      <td>0.660392</td>\n",
       "      <td>0.163576</td>\n",
       "      <td>0.274641</td>\n",
       "      <td>0.485902</td>\n",
       "      <td>0.893334</td>\n",
       "      <td>0.233849</td>\n",
       "      <td>0.378256</td>\n",
       "      <td>0.172262</td>\n",
       "      <td>0.713694</td>\n",
       "      <td>...</td>\n",
       "      <td>0.603459</td>\n",
       "      <td>0.360947</td>\n",
       "      <td>1.075287</td>\n",
       "      <td>0.754166</td>\n",
       "      <td>0.489778</td>\n",
       "      <td>1.539808</td>\n",
       "      <td>2.705585</td>\n",
       "      <td>0.930786</td>\n",
       "      <td>0.872157</td>\n",
       "      <td>0.225780</td>\n",
       "    </tr>\n",
       "    <tr>\n",
       "      <th>AL201700000002</th>\n",
       "      <td>0.300640</td>\n",
       "      <td>0.586856</td>\n",
       "      <td>0.140232</td>\n",
       "      <td>0.226263</td>\n",
       "      <td>0.413975</td>\n",
       "      <td>0.831719</td>\n",
       "      <td>0.227775</td>\n",
       "      <td>0.345363</td>\n",
       "      <td>0.133908</td>\n",
       "      <td>0.642707</td>\n",
       "      <td>...</td>\n",
       "      <td>0.502332</td>\n",
       "      <td>0.297455</td>\n",
       "      <td>0.971306</td>\n",
       "      <td>0.659706</td>\n",
       "      <td>0.414624</td>\n",
       "      <td>1.357825</td>\n",
       "      <td>2.442935</td>\n",
       "      <td>0.838875</td>\n",
       "      <td>0.769405</td>\n",
       "      <td>0.194521</td>\n",
       "    </tr>\n",
       "    <tr>\n",
       "      <th>AL201700000003</th>\n",
       "      <td>0.326754</td>\n",
       "      <td>0.643168</td>\n",
       "      <td>0.154823</td>\n",
       "      <td>0.255627</td>\n",
       "      <td>0.468337</td>\n",
       "      <td>0.879727</td>\n",
       "      <td>0.228766</td>\n",
       "      <td>0.369224</td>\n",
       "      <td>0.154829</td>\n",
       "      <td>0.688745</td>\n",
       "      <td>...</td>\n",
       "      <td>0.575005</td>\n",
       "      <td>0.340280</td>\n",
       "      <td>1.085193</td>\n",
       "      <td>0.740834</td>\n",
       "      <td>0.476495</td>\n",
       "      <td>1.488679</td>\n",
       "      <td>2.670895</td>\n",
       "      <td>0.912761</td>\n",
       "      <td>0.836785</td>\n",
       "      <td>0.219168</td>\n",
       "    </tr>\n",
       "    <tr>\n",
       "      <th>AL201700000004</th>\n",
       "      <td>0.322917</td>\n",
       "      <td>0.632288</td>\n",
       "      <td>0.153142</td>\n",
       "      <td>0.251055</td>\n",
       "      <td>0.460609</td>\n",
       "      <td>0.875239</td>\n",
       "      <td>0.231410</td>\n",
       "      <td>0.367484</td>\n",
       "      <td>0.152053</td>\n",
       "      <td>0.681423</td>\n",
       "      <td>...</td>\n",
       "      <td>0.562992</td>\n",
       "      <td>0.334088</td>\n",
       "      <td>1.062742</td>\n",
       "      <td>0.729195</td>\n",
       "      <td>0.466183</td>\n",
       "      <td>1.470279</td>\n",
       "      <td>2.618395</td>\n",
       "      <td>0.901515</td>\n",
       "      <td>0.823031</td>\n",
       "      <td>0.216168</td>\n",
       "    </tr>\n",
       "    <tr>\n",
       "      <th>AL201700000005</th>\n",
       "      <td>0.340252</td>\n",
       "      <td>0.660392</td>\n",
       "      <td>0.163576</td>\n",
       "      <td>0.274641</td>\n",
       "      <td>0.485902</td>\n",
       "      <td>0.893334</td>\n",
       "      <td>0.233849</td>\n",
       "      <td>0.378256</td>\n",
       "      <td>0.172262</td>\n",
       "      <td>0.713694</td>\n",
       "      <td>...</td>\n",
       "      <td>0.603459</td>\n",
       "      <td>0.360947</td>\n",
       "      <td>1.075287</td>\n",
       "      <td>0.754166</td>\n",
       "      <td>0.489778</td>\n",
       "      <td>1.539808</td>\n",
       "      <td>2.705585</td>\n",
       "      <td>0.930786</td>\n",
       "      <td>0.872157</td>\n",
       "      <td>0.225780</td>\n",
       "    </tr>\n",
       "  </tbody>\n",
       "</table>\n",
       "<p>5 rows × 4000 columns</p>\n",
       "</div>"
      ],
      "text/plain": [
       "                     X_0       X_1       X_2       X_3       X_4       X_5  \\\n",
       "DHSID                                                                        \n",
       "AL201700000001  0.340252  0.660392  0.163576  0.274641  0.485902  0.893334   \n",
       "AL201700000002  0.300640  0.586856  0.140232  0.226263  0.413975  0.831719   \n",
       "AL201700000003  0.326754  0.643168  0.154823  0.255627  0.468337  0.879727   \n",
       "AL201700000004  0.322917  0.632288  0.153142  0.251055  0.460609  0.875239   \n",
       "AL201700000005  0.340252  0.660392  0.163576  0.274641  0.485902  0.893334   \n",
       "\n",
       "                     X_6       X_7       X_8       X_9  ...    X_3990  \\\n",
       "DHSID                                                   ...             \n",
       "AL201700000001  0.233849  0.378256  0.172262  0.713694  ...  0.603459   \n",
       "AL201700000002  0.227775  0.345363  0.133908  0.642707  ...  0.502332   \n",
       "AL201700000003  0.228766  0.369224  0.154829  0.688745  ...  0.575005   \n",
       "AL201700000004  0.231410  0.367484  0.152053  0.681423  ...  0.562992   \n",
       "AL201700000005  0.233849  0.378256  0.172262  0.713694  ...  0.603459   \n",
       "\n",
       "                  X_3991    X_3992    X_3993    X_3994    X_3995    X_3996  \\\n",
       "DHSID                                                                        \n",
       "AL201700000001  0.360947  1.075287  0.754166  0.489778  1.539808  2.705585   \n",
       "AL201700000002  0.297455  0.971306  0.659706  0.414624  1.357825  2.442935   \n",
       "AL201700000003  0.340280  1.085193  0.740834  0.476495  1.488679  2.670895   \n",
       "AL201700000004  0.334088  1.062742  0.729195  0.466183  1.470279  2.618395   \n",
       "AL201700000005  0.360947  1.075287  0.754166  0.489778  1.539808  2.705585   \n",
       "\n",
       "                  X_3997    X_3998    X_3999  \n",
       "DHSID                                         \n",
       "AL201700000001  0.930786  0.872157  0.225780  \n",
       "AL201700000002  0.838875  0.769405  0.194521  \n",
       "AL201700000003  0.912761  0.836785  0.219168  \n",
       "AL201700000004  0.901515  0.823031  0.216168  \n",
       "AL201700000005  0.930786  0.872157  0.225780  \n",
       "\n",
       "[5 rows x 4000 columns]"
      ]
     },
     "execution_count": 16,
     "metadata": {},
     "output_type": "execute_result"
    }
   ],
   "source": [
    "dhs_rcf_X.head()"
   ]
  },
  {
   "cell_type": "markdown",
   "metadata": {},
   "source": [
    "## Examine performance from cross country models"
   ]
  },
  {
   "cell_type": "code",
   "execution_count": 17,
   "metadata": {},
   "outputs": [],
   "source": [
    "model_directory = data_dir + \"/model_data/\""
   ]
  },
  {
   "cell_type": "code",
   "execution_count": 18,
   "metadata": {},
   "outputs": [],
   "source": [
    "### Adm1, RCF only\n",
    "\n",
    "path = (model_directory+\n",
    "           \"cross_country_kfold_solve_all_outcomes_country_fold_DENSE_pop_weight=GHS_POP.pkl\")\n",
    "\n",
    "kfold_dict = pickle.load(open(path, \"rb\"))\n",
    "\n",
    "preds = predict_y_from_kfold_dict(dhs_rcf_X,kfold_dict,task)\n",
    "truth = iwi_overlap[\"IWI\"]\n"
   ]
  },
  {
   "cell_type": "code",
   "execution_count": 19,
   "metadata": {},
   "outputs": [],
   "source": [
    "n_train_adm1 = len(np.hstack(kfold_dict[task][\"locations_test\"]))"
   ]
  },
  {
   "cell_type": "code",
   "execution_count": 20,
   "metadata": {},
   "outputs": [],
   "source": [
    "adm1_rcf_perf_dict = dhs_pred_truth_to_metrics(preds, truth)"
   ]
  },
  {
   "cell_type": "code",
   "execution_count": 21,
   "metadata": {},
   "outputs": [
    {
     "data": {
      "text/plain": [
       "{'pearson': 0.41720321239935176,\n",
       " 'spearman': 0.6359654142487414,\n",
       " 'r2': 0.3302622955965635,\n",
       " 'within_adm0_pearson': 0.1836294819003922,\n",
       " 'within_adm0_spearman': 0.4294854147994551,\n",
       " 'within_adm0_r2': -0.05596747365596366,\n",
       " 'within_adm1_pearson': 0.11147340614524483,\n",
       " 'within_adm1_spearman': 0.3261457195851552,\n",
       " 'within_adm1_r2': -0.3456249265126432}"
      ]
     },
     "execution_count": 21,
     "metadata": {},
     "output_type": "execute_result"
    }
   ],
   "source": [
    "adm1_rcf_perf_dict"
   ]
  },
  {
   "cell_type": "code",
   "execution_count": 22,
   "metadata": {},
   "outputs": [],
   "source": [
    "df = dhs_pred_truth_to_metrics(preds, truth,return_df=True)"
   ]
  },
  {
   "cell_type": "code",
   "execution_count": 23,
   "metadata": {},
   "outputs": [],
   "source": [
    "### Adm1, NL only\n",
    "\n",
    "path = (model_directory+\n",
    "           \"cross_country_nl_solve_all_outcomes_country_fold_VIIRS_hist_bins_GHS_pop_weighted.pkl\")\n",
    "\n",
    "nl_kfold_dict = pickle.load(open(path, \"rb\"))\n",
    "\n",
    "preds = predict_y_from_kfold_dict(dhs_nl_X,nl_kfold_dict,task)\n",
    "truth = iwi_overlap[\"IWI\"]"
   ]
  },
  {
   "cell_type": "code",
   "execution_count": 24,
   "metadata": {},
   "outputs": [],
   "source": [
    "adm1_nl_perf_dict = dhs_pred_truth_to_metrics(preds, truth)"
   ]
  },
  {
   "cell_type": "code",
   "execution_count": 25,
   "metadata": {},
   "outputs": [
    {
     "data": {
      "text/plain": [
       "{'pearson': 0.3430398736855381,\n",
       " 'spearman': 0.5492785350598179,\n",
       " 'r2': -0.028769985096261497,\n",
       " 'within_adm0_pearson': 0.1802442673434377,\n",
       " 'within_adm0_spearman': 0.4030194674122217,\n",
       " 'within_adm0_r2': -0.12649787834819093,\n",
       " 'within_adm1_pearson': 0.21748763368404583,\n",
       " 'within_adm1_spearman': 0.4276179088379585,\n",
       " 'within_adm1_r2': -0.09625493346865888}"
      ]
     },
     "execution_count": 25,
     "metadata": {},
     "output_type": "execute_result"
    }
   ],
   "source": [
    "adm1_nl_perf_dict"
   ]
  },
  {
   "cell_type": "code",
   "execution_count": 26,
   "metadata": {},
   "outputs": [],
   "source": [
    "### Adm1, RCF+NL only\n",
    "path = (model_directory+\n",
    "           \"cross_country_rcf_and_nl_solve_all_outcomes_country_fold\"\n",
    "        \"_DENSE_pop_weight=GHS_VIIRS_hist_bins_GHS_pop_weighted.pkl\"\n",
    "       )\n",
    "\n",
    "nl_and_rcf_kfold_dict = pickle.load(open(path, \"rb\"))\n",
    "\n",
    "preds = predict_y_from_kfold_dict(dhs_rcf_X,nl_and_rcf_kfold_dict,task, dhs_nl_X)\n",
    "truth = iwi_overlap[\"IWI\"]"
   ]
  },
  {
   "cell_type": "code",
   "execution_count": 27,
   "metadata": {},
   "outputs": [],
   "source": [
    "adm1_rcf_and_nl_perf_dict = dhs_pred_truth_to_metrics(preds, truth)"
   ]
  },
  {
   "cell_type": "code",
   "execution_count": 28,
   "metadata": {},
   "outputs": [
    {
     "data": {
      "text/plain": [
       "{'pearson': 0.43735431055939206,\n",
       " 'spearman': 0.6488113077498041,\n",
       " 'r2': 0.27677185988729014,\n",
       " 'within_adm0_pearson': 0.21080148194557732,\n",
       " 'within_adm0_spearman': 0.4591916048204898,\n",
       " 'within_adm0_r2': 0.07869342045688299,\n",
       " 'within_adm1_pearson': 0.20875334154776545,\n",
       " 'within_adm1_spearman': 0.4401669553716797,\n",
       " 'within_adm1_r2': 0.012169491267486676}"
      ]
     },
     "execution_count": 28,
     "metadata": {},
     "output_type": "execute_result"
    }
   ],
   "source": [
    "adm1_rcf_and_nl_perf_dict"
   ]
  },
  {
   "cell_type": "markdown",
   "metadata": {},
   "source": [
    "## Now examine performance from ADM0 cross country models"
   ]
  },
  {
   "cell_type": "code",
   "execution_count": 29,
   "metadata": {},
   "outputs": [],
   "source": [
    "### Adm0, RCF only\n",
    "\n",
    "path = (model_directory+\n",
    "           \"kfold_solve_adm0_model_full\"\n",
    "           \"GHS_pop_weighted_feats_DENSE.pkl\")\n",
    "\n",
    "adm0_kfold_dict = pickle.load(open(path, \"rb\"))\n",
    "\n",
    "preds = predict_y_from_kfold_dict(dhs_rcf_X,adm0_kfold_dict,task)\n",
    "truth = iwi_overlap[\"IWI\"]\n"
   ]
  },
  {
   "cell_type": "code",
   "execution_count": 30,
   "metadata": {},
   "outputs": [],
   "source": [
    "n_train_adm0 = len(np.hstack(adm0_kfold_dict[task][\"locations_test\"]))"
   ]
  },
  {
   "cell_type": "code",
   "execution_count": 31,
   "metadata": {},
   "outputs": [],
   "source": [
    "adm0_rcf_perf_dict = dhs_pred_truth_to_metrics(preds, truth)"
   ]
  },
  {
   "cell_type": "code",
   "execution_count": 32,
   "metadata": {},
   "outputs": [
    {
     "data": {
      "text/plain": [
       "{'pearson': 0.29877293492524915,\n",
       " 'spearman': 0.5384789768157436,\n",
       " 'r2': 0.037361452223696245,\n",
       " 'within_adm0_pearson': 0.1821231815199772,\n",
       " 'within_adm0_spearman': 0.4193306459273299,\n",
       " 'within_adm0_r2': -0.45284134631710327,\n",
       " 'within_adm1_pearson': 0.1491077628877553,\n",
       " 'within_adm1_spearman': 0.35996758165038767,\n",
       " 'within_adm1_r2': -0.7911636686200052}"
      ]
     },
     "execution_count": 32,
     "metadata": {},
     "output_type": "execute_result"
    }
   ],
   "source": [
    "adm0_rcf_perf_dict"
   ]
  },
  {
   "cell_type": "code",
   "execution_count": 33,
   "metadata": {},
   "outputs": [],
   "source": [
    "### Adm0, NL only\n",
    "\n",
    "path = (model_directory +\n",
    "           \"VIIRS_hist_bins_GHS_pop_weighted.pkl\")\n",
    "adm0_nl_kfold_dict = pickle.load(open(path, \"rb\"))\n",
    "\n",
    "preds = predict_y_from_kfold_dict(dhs_nl_X,adm0_nl_kfold_dict,task)\n",
    "truth = iwi_overlap[\"IWI\"]"
   ]
  },
  {
   "cell_type": "code",
   "execution_count": 34,
   "metadata": {},
   "outputs": [
    {
     "data": {
      "text/plain": [
       "{'pearson': 0.29150265242766865,\n",
       " 'spearman': 0.5293420489449648,\n",
       " 'r2': -0.4440560260801856,\n",
       " 'within_adm0_pearson': 0.15014376182444994,\n",
       " 'within_adm0_spearman': 0.38822105756720066,\n",
       " 'within_adm0_r2': -0.7294462286917764,\n",
       " 'within_adm1_pearson': 0.1596926270038024,\n",
       " 'within_adm1_spearman': 0.3774487054001503,\n",
       " 'within_adm1_r2': -0.929797060321744}"
      ]
     },
     "execution_count": 34,
     "metadata": {},
     "output_type": "execute_result"
    }
   ],
   "source": [
    "adm0_nl_perf_dict = dhs_pred_truth_to_metrics(preds, truth)\n",
    "adm0_nl_perf_dict"
   ]
  },
  {
   "cell_type": "code",
   "execution_count": 35,
   "metadata": {},
   "outputs": [],
   "source": [
    "### Adm0, RCF+NL\n",
    "path = (model_directory+\n",
    "           \"kfold_solve_adm0_level_GHS_pop_weighted_feats_rcf_nl_VIIRS_hist_bins_GHS_pop_weighted.pkl\")\n",
    "\n",
    "adm0_rcf_nl_kfold_dict = pickle.load(open(path, \"rb\"))\n",
    "\n",
    "preds = predict_y_from_kfold_dict(dhs_rcf_X,adm0_rcf_nl_kfold_dict,task,dhs_nl_X)\n",
    "truth = iwi_overlap[\"IWI\"]\n",
    "\n"
   ]
  },
  {
   "cell_type": "code",
   "execution_count": 36,
   "metadata": {},
   "outputs": [],
   "source": [
    "adm0_rcf_nl_perf_dict = dhs_pred_truth_to_metrics(preds, truth)"
   ]
  },
  {
   "cell_type": "code",
   "execution_count": 37,
   "metadata": {},
   "outputs": [
    {
     "data": {
      "text/plain": [
       "{'pearson': 0.31089509758194794,\n",
       " 'spearman': 0.5411070572036721,\n",
       " 'r2': -0.0537517633828537,\n",
       " 'within_adm0_pearson': 0.13390042439743066,\n",
       " 'within_adm0_spearman': 0.3541381251460316,\n",
       " 'within_adm0_r2': -0.45916229392976415,\n",
       " 'within_adm1_pearson': 0.12917409236241906,\n",
       " 'within_adm1_spearman': 0.3275553625463767,\n",
       " 'within_adm1_r2': -0.6967300853207079}"
      ]
     },
     "execution_count": 37,
     "metadata": {},
     "output_type": "execute_result"
    }
   ],
   "source": [
    "adm0_rcf_nl_perf_dict"
   ]
  },
  {
   "cell_type": "markdown",
   "metadata": {},
   "source": [
    "## Evaluate performance from within country models"
   ]
  },
  {
   "cell_type": "markdown",
   "metadata": {},
   "source": [
    "### Create demeaned Xs and Ys"
   ]
  },
  {
   "cell_type": "markdown",
   "metadata": {},
   "source": [
    "First we have to demean our Xs using the same country data as used in training. This is the mean of the ADM1 observations aggregated to the ADM1 level."
   ]
  },
  {
   "cell_type": "code",
   "execution_count": 38,
   "metadata": {},
   "outputs": [],
   "source": [
    "adm1_rcf_feats = pd.read_pickle( (data_dir + \"/features/mosaiks_features/\"\n",
    "                                  \"GDL_ADM1_polygon_X_creation_GHS_POP.p\")).drop(columns=\"GDLCODE\")\n",
    "\n",
    "adm0_mean_rcf_feats =  X_matrix_to_demeaned_X(adm1_rcf_feats, return_mean_frame=True)\n",
    "\n",
    "\n",
    "adm1_nl_feats = pd.read_pickle( (data_dir + \"/features/nl_features/GDL_HDI_polygons/\"\n",
    "                                 \"viirs_percentile_binned_feats_GHS_pop_weighted_rasterio_method.p\"))\n",
    "                                \n",
    "adm0_mean_nl_feats =  X_matrix_to_demeaned_X(adm1_nl_feats , return_mean_frame=True)"
   ]
  },
  {
   "cell_type": "code",
   "execution_count": 39,
   "metadata": {},
   "outputs": [],
   "source": [
    "dhs_id_to_iso = link_df[[\"DHSID\",\"alpha-3\"]]"
   ]
  },
  {
   "cell_type": "code",
   "execution_count": 40,
   "metadata": {},
   "outputs": [],
   "source": [
    "## Demean RCF X\n",
    "\n",
    "dhs_x_with_country = dhs_rcf_X.reset_index().merge(dhs_id_to_iso,\"left\", on = \"DHSID\").set_index(\"DHSID\")\n",
    "demean_dhs_X_rcf =  generalized_demean(dhs_x_with_country,adm0_mean_rcf_feats,\"alpha-3\")"
   ]
  },
  {
   "cell_type": "code",
   "execution_count": 41,
   "metadata": {},
   "outputs": [],
   "source": [
    "# Demean NL X\n",
    "dhs_nl_with_country = dhs_nl_X.reset_index().merge(dhs_id_to_iso,\"left\", on = \"DHSID\").set_index(\"DHSID\")\n",
    "demean_dhs_X_nl =  generalized_demean(dhs_nl_with_country,adm0_mean_nl_feats,\"alpha-3\")"
   ]
  },
  {
   "cell_type": "code",
   "execution_count": 42,
   "metadata": {},
   "outputs": [],
   "source": [
    "#demean y"
   ]
  },
  {
   "cell_type": "code",
   "execution_count": 43,
   "metadata": {},
   "outputs": [],
   "source": [
    "iwi_with_country = iwi_overlap.reset_index().merge(dhs_id_to_iso,\"left\", on = \"DHSID\").set_index(\"DHSID\")\n",
    "iwi_demean = iwi_with_country.merge(nat, \"left\", left_on=\"alpha-3\", right_index=True)\n",
    "\n",
    "iwi_demean[\"iwi demean\"] = iwi_demean[\"IWI\"] - iwi_demean[\"nat IWI\"]"
   ]
  },
  {
   "cell_type": "markdown",
   "metadata": {},
   "source": [
    "### Evaluate Performance"
   ]
  },
  {
   "cell_type": "code",
   "execution_count": 44,
   "metadata": {},
   "outputs": [],
   "source": [
    "### RCF only"
   ]
  },
  {
   "cell_type": "code",
   "execution_count": 45,
   "metadata": {},
   "outputs": [],
   "source": [
    "path = (model_directory+\n",
    "           \"within_country_demeaned_kfold_solve_all_outcomes_country_fold_DENSE_pop_weight=GHS_POP.pkl\")\n",
    "\n",
    "demeaned_kfold_dict = pickle.load(open(path, \"rb\"))\n",
    "\n",
    "preds = predict_y_from_kfold_dict(demean_dhs_X_rcf.loc[iwi_demean.index], demeaned_kfold_dict, task)\n",
    "truth = iwi_demean[\"iwi demean\"]\n",
    "\n",
    "n_train_demean = len(np.hstack(demeaned_kfold_dict[task][\"locations_test\"]))"
   ]
  },
  {
   "cell_type": "code",
   "execution_count": 46,
   "metadata": {},
   "outputs": [],
   "source": [
    "n_train_demean = len(np.hstack(demeaned_kfold_dict[task][\"locations_test\"]))"
   ]
  },
  {
   "cell_type": "code",
   "execution_count": 47,
   "metadata": {},
   "outputs": [],
   "source": [
    "write_path = data_dir + \"/preds/demean_iwi_rcf_at_dhs.p\"\n",
    "#write_path = None"
   ]
  },
  {
   "cell_type": "code",
   "execution_count": 48,
   "metadata": {},
   "outputs": [],
   "source": [
    "demean_rcf_perf_dict = dhs_pred_truth_to_metrics(preds, truth,write_path=write_path, demeaned_input=True, recenter_on = \"adm1\")"
   ]
  },
  {
   "cell_type": "code",
   "execution_count": 49,
   "metadata": {},
   "outputs": [],
   "source": [
    "## NL only"
   ]
  },
  {
   "cell_type": "code",
   "execution_count": 50,
   "metadata": {},
   "outputs": [],
   "source": [
    "path = (model_directory+\n",
    "           \"within_country_nl_demeaned_solve_all_outcomes_country_fold_VIIRS_hist_bins_GHS_pop_weighted.pkl\")\n",
    "\n",
    "nl_demeaned_kfold_dict = pickle.load(open(path, \"rb\"))\n",
    "\n",
    "preds = predict_y_from_kfold_dict(demean_dhs_X_nl.loc[iwi_demean.index], nl_demeaned_kfold_dict, task)\n",
    "truth = iwi_demean[\"iwi demean\"]\n"
   ]
  },
  {
   "cell_type": "code",
   "execution_count": 51,
   "metadata": {},
   "outputs": [],
   "source": [
    "write_path = data_dir + \"/preds/demean_iwi_nl_at_dhs.p\"\n",
    "#write_path=None\n"
   ]
  },
  {
   "cell_type": "code",
   "execution_count": 52,
   "metadata": {},
   "outputs": [],
   "source": [
    "demean_nl_perf_dict = dhs_pred_truth_to_metrics(preds, truth, write_path=write_path, \n",
    "                                                demeaned_input=True, recenter_on=\"adm1\")"
   ]
  },
  {
   "cell_type": "code",
   "execution_count": 53,
   "metadata": {},
   "outputs": [],
   "source": [
    "### RCF and NL"
   ]
  },
  {
   "cell_type": "code",
   "execution_count": 54,
   "metadata": {},
   "outputs": [],
   "source": [
    "path = (model_directory+\n",
    "           \"within_country_rcf_and_nl_demeaned_solve_all_outcomes_country_fold\"\n",
    "           \"_DENSE_pop_weight=GHS_VIIRS_hist_bins_GHS_pop_weighted.pkl\")\n",
    "\n",
    "nl_and_rcf_demeaned_kfold_dict = pickle.load(open(path, \"rb\"))\n",
    "\n",
    "preds = predict_y_from_kfold_dict(demean_dhs_X_rcf.loc[iwi_demean.index], \n",
    "                                  nl_and_rcf_demeaned_kfold_dict, \n",
    "                                  task,\n",
    "                                  demean_dhs_X_nl.loc[iwi_demean.index])\n",
    "truth = iwi_demean[\"iwi demean\"]"
   ]
  },
  {
   "cell_type": "code",
   "execution_count": 55,
   "metadata": {},
   "outputs": [],
   "source": [
    "iwi_demean[\"iwi demean\"] = iwi_demean[\"IWI\"] - iwi_demean[\"nat IWI\"]\n",
    "iwi_demean = iwi_demean.dropna(subset = [\"nat IWI\"])"
   ]
  },
  {
   "cell_type": "code",
   "execution_count": 56,
   "metadata": {},
   "outputs": [],
   "source": [
    "write_path = data_dir + \"/preds/demean_iwi_rcf_nl_at_dhs.p\"\n",
    "#write_path = None"
   ]
  },
  {
   "cell_type": "code",
   "execution_count": 57,
   "metadata": {},
   "outputs": [],
   "source": [
    "demean_rcf_and_nl_perf_dict = dhs_pred_truth_to_metrics(preds, truth, write_path=write_path, \n",
    "                                                        demeaned_input=True, recenter_on=\"adm1\")"
   ]
  },
  {
   "cell_type": "code",
   "execution_count": 58,
   "metadata": {},
   "outputs": [
    {
     "data": {
      "text/plain": [
       "{'pearson': 0.7129540897884649,\n",
       " 'spearman': 0.845396585000756,\n",
       " 'r2': 0.6682862025993591,\n",
       " 'within_adm0_pearson': 0.5645599942778138,\n",
       " 'within_adm0_spearman': 0.7564256492458935,\n",
       " 'within_adm0_r2': 0.564288768853132,\n",
       " 'within_adm1_pearson': 0.3647208343833832,\n",
       " 'within_adm1_spearman': 0.5868618792937746,\n",
       " 'within_adm1_r2': 0.36067240483089436}"
      ]
     },
     "execution_count": 58,
     "metadata": {},
     "output_type": "execute_result"
    }
   ],
   "source": [
    "demean_rcf_and_nl_perf_dict"
   ]
  },
  {
   "cell_type": "code",
   "execution_count": 59,
   "metadata": {
    "scrolled": false
   },
   "outputs": [],
   "source": [
    "#df = dhs_pred_truth_to_metrics(preds, truth, demeaned_input=True, return_df=True, recenter_on=\"adm1\")\n",
    "# make_scatterplot(\"demeaned adm1 scatter\", df[\"true_demean_adm1\"], df[\"preds_demean_adm1\"])\n",
    "\n",
    "# make_scatterplot(\"scatter\", df[\"truth\"], df[\"preds\"])"
   ]
  },
  {
   "cell_type": "markdown",
   "metadata": {},
   "source": [
    "### Make summary table"
   ]
  },
  {
   "cell_type": "code",
   "execution_count": 60,
   "metadata": {},
   "outputs": [],
   "source": [
    "outcomes = [adm0_rcf_perf_dict,\n",
    "           adm0_nl_perf_dict,\n",
    "           adm0_rcf_nl_perf_dict,\n",
    "           \n",
    "           adm1_rcf_perf_dict,\n",
    "           adm1_nl_perf_dict,\n",
    "           adm1_rcf_and_nl_perf_dict,\n",
    "           \n",
    "           demean_rcf_perf_dict,\n",
    "           demean_nl_perf_dict,\n",
    "           demean_rcf_and_nl_perf_dict\n",
    "           \n",
    "    \n",
    "    \n",
    "    \n",
    "]"
   ]
  },
  {
   "cell_type": "code",
   "execution_count": 61,
   "metadata": {},
   "outputs": [],
   "source": [
    "table = pd.DataFrame(outcomes).round(2)\n",
    "\n",
    "table[table < 0] = \"$< 0$\""
   ]
  },
  {
   "cell_type": "code",
   "execution_count": 62,
   "metadata": {},
   "outputs": [],
   "source": [
    "rename_dict = {\"pearson\": \"$\\rho^{2}$\", \"spearman\":\"Spearman r\", \"r2\":\"$R^2$\",\n",
    "               \"within_adm0_pearson\": \"$\\rho^{2}$\", \"within_adm0_spearman\":\"Spearman r\", \"within_adm0_r2\":\"$R^{2}$\",\n",
    "               \"within_adm1_pearson\": \"$\\rho^{2}$\", \"within_adm1_spearman\":\"Spearman r\", \"within_adm1_r2\":\"$R^{2}$\",\n",
    "    \n",
    "}"
   ]
  },
  {
   "cell_type": "code",
   "execution_count": 63,
   "metadata": {},
   "outputs": [],
   "source": [
    "table = table.rename(columns = rename_dict)"
   ]
  },
  {
   "cell_type": "code",
   "execution_count": 64,
   "metadata": {},
   "outputs": [],
   "source": [
    "table.loc[0:2,\"HDI\"] = \"\\textbf{Country level} \" + \"(n={:,})\".format(n_train_adm0)\n",
    "table.loc[3:5,\"HDI\"] = \"\\textbf{Province level} \" + \"(n={:,})\".format(n_train_adm1 )\n",
    "table.loc[6:8,\"HDI\"] = \"\\textbf{Within-country} \" + \"(n={:,})\".format(n_train_demean)\n",
    "\n"
   ]
  },
  {
   "cell_type": "code",
   "execution_count": 65,
   "metadata": {},
   "outputs": [],
   "source": [
    "table.loc[0:2,\"\"] = [\"\\textbf{MOSAIKS}\",\"\\textbf{VIIRS}\",\"\\textbf{MOSAIKS+VIIRS}\"]\n",
    "table.loc[3:5,\"\"] = [\"\\textbf{MOSAIKS}\",\"\\textbf{VIIRS}\",\"\\textbf{MOSAIKS+VIIRS}\"]\n",
    "table.loc[6:8,\"\"] = [\"\\textbf{MOSAIKS}\",\"\\textbf{VIIRS}\",\"\\textbf{MOSAIKS+VIIRS}\"]"
   ]
  },
  {
   "cell_type": "code",
   "execution_count": 66,
   "metadata": {},
   "outputs": [],
   "source": [
    "table.loc[9] = \"\\textbf{Predicted at DHS cluster level} \" + \"(n={:,})\".format(len(iwi_overlap))"
   ]
  },
  {
   "cell_type": "code",
   "execution_count": 67,
   "metadata": {},
   "outputs": [],
   "source": [
    "table.loc[10] = \"\\emph{Full variation performance}\"\n",
    "table.iloc[10,3:6] = \"\\emph{Within-country performance}\"\n",
    "table.iloc[10,6:10] = \"\\emph{Within-province performance}\"\n",
    "\n",
    "table = table.iloc[:,[0,2,3,5,6,8,9,10]] #Remove Spearman\n",
    "\n",
    "\n",
    "table.loc[11] = (\"(\" + pd.Series(np.arange(1,table.shape[1]+1)).astype(str) +\")\").to_numpy()"
   ]
  },
  {
   "cell_type": "code",
   "execution_count": 68,
   "metadata": {},
   "outputs": [],
   "source": [
    "table = table.T.reset_index().set_index([9,10,\"index\",11])"
   ]
  },
  {
   "cell_type": "code",
   "execution_count": 69,
   "metadata": {},
   "outputs": [],
   "source": [
    "tab = table.T"
   ]
  },
  {
   "cell_type": "code",
   "execution_count": 70,
   "metadata": {},
   "outputs": [],
   "source": [
    "tab.columns.names = ([None, None, None,None])"
   ]
  },
  {
   "cell_type": "code",
   "execution_count": 71,
   "metadata": {},
   "outputs": [],
   "source": [
    "table = tab.set_index([tab.columns[-2],tab.columns[-1]])"
   ]
  },
  {
   "cell_type": "code",
   "execution_count": 72,
   "metadata": {},
   "outputs": [],
   "source": [
    "table.index.names =[\"\\textbf{\\emph{IWI trained at}}:\", \"\\textbf{\\emph{Features}}\"]\n"
   ]
  },
  {
   "cell_type": "code",
   "execution_count": 73,
   "metadata": {},
   "outputs": [
    {
     "data": {
      "text/html": [
       "<div>\n",
       "<style scoped>\n",
       "    .dataframe tbody tr th:only-of-type {\n",
       "        vertical-align: middle;\n",
       "    }\n",
       "\n",
       "    .dataframe tbody tr th {\n",
       "        vertical-align: top;\n",
       "    }\n",
       "\n",
       "    .dataframe thead tr th {\n",
       "        text-align: left;\n",
       "    }\n",
       "\n",
       "    .dataframe thead tr:last-of-type th {\n",
       "        text-align: right;\n",
       "    }\n",
       "</style>\n",
       "<table border=\"1\" class=\"dataframe\">\n",
       "  <thead>\n",
       "    <tr>\n",
       "      <th></th>\n",
       "      <th></th>\n",
       "      <th colspan=\"6\" halign=\"left\">\\textbf{Predicted at DHS cluster level} (n=51,996)</th>\n",
       "    </tr>\n",
       "    <tr>\n",
       "      <th></th>\n",
       "      <th></th>\n",
       "      <th colspan=\"2\" halign=\"left\">\\emph{Full variation performance}</th>\n",
       "      <th colspan=\"2\" halign=\"left\">\\emph{Within-country performance}</th>\n",
       "      <th colspan=\"2\" halign=\"left\">\\emph{Within-province performance}</th>\n",
       "    </tr>\n",
       "    <tr>\n",
       "      <th></th>\n",
       "      <th></th>\n",
       "      <th>$\\rho^{2}$</th>\n",
       "      <th>$R^2$</th>\n",
       "      <th>$\\rho^{2}$</th>\n",
       "      <th>$R^{2}$</th>\n",
       "      <th>$\\rho^{2}$</th>\n",
       "      <th>$R^{2}$</th>\n",
       "    </tr>\n",
       "    <tr>\n",
       "      <th></th>\n",
       "      <th></th>\n",
       "      <th>(1)</th>\n",
       "      <th>(2)</th>\n",
       "      <th>(3)</th>\n",
       "      <th>(4)</th>\n",
       "      <th>(5)</th>\n",
       "      <th>(6)</th>\n",
       "    </tr>\n",
       "    <tr>\n",
       "      <th>extbf{\\emph{IWI trained at}}:</th>\n",
       "      <th>extbf{\\emph{Features}}</th>\n",
       "      <th></th>\n",
       "      <th></th>\n",
       "      <th></th>\n",
       "      <th></th>\n",
       "      <th></th>\n",
       "      <th></th>\n",
       "    </tr>\n",
       "  </thead>\n",
       "  <tbody>\n",
       "    <tr>\n",
       "      <th rowspan=\"3\" valign=\"top\">\\textbf{Within-country} (n=862)</th>\n",
       "      <th>\\textbf{MOSAIKS+VIIRS}</th>\n",
       "      <td>0.71</td>\n",
       "      <td>0.67</td>\n",
       "      <td>0.56</td>\n",
       "      <td>0.56</td>\n",
       "      <td>0.36</td>\n",
       "      <td>0.36</td>\n",
       "    </tr>\n",
       "    <tr>\n",
       "      <th>\\textbf{MOSAIKS}</th>\n",
       "      <td>0.66</td>\n",
       "      <td>0.62</td>\n",
       "      <td>0.48</td>\n",
       "      <td>0.48</td>\n",
       "      <td>0.24</td>\n",
       "      <td>0.22</td>\n",
       "    </tr>\n",
       "    <tr>\n",
       "      <th>\\textbf{VIIRS}</th>\n",
       "      <td>0.71</td>\n",
       "      <td>0.67</td>\n",
       "      <td>0.56</td>\n",
       "      <td>0.56</td>\n",
       "      <td>0.36</td>\n",
       "      <td>0.35</td>\n",
       "    </tr>\n",
       "    <tr>\n",
       "      <th rowspan=\"3\" valign=\"top\">\\textbf{Province level} (n=862)</th>\n",
       "      <th>\\textbf{MOSAIKS+VIIRS}</th>\n",
       "      <td>0.44</td>\n",
       "      <td>0.28</td>\n",
       "      <td>0.21</td>\n",
       "      <td>0.08</td>\n",
       "      <td>0.21</td>\n",
       "      <td>0.01</td>\n",
       "    </tr>\n",
       "    <tr>\n",
       "      <th>\\textbf{MOSAIKS}</th>\n",
       "      <td>0.42</td>\n",
       "      <td>0.33</td>\n",
       "      <td>0.18</td>\n",
       "      <td>$&lt; 0$</td>\n",
       "      <td>0.11</td>\n",
       "      <td>$&lt; 0$</td>\n",
       "    </tr>\n",
       "    <tr>\n",
       "      <th>\\textbf{VIIRS}</th>\n",
       "      <td>0.34</td>\n",
       "      <td>$&lt; 0$</td>\n",
       "      <td>0.18</td>\n",
       "      <td>$&lt; 0$</td>\n",
       "      <td>0.22</td>\n",
       "      <td>$&lt; 0$</td>\n",
       "    </tr>\n",
       "    <tr>\n",
       "      <th rowspan=\"3\" valign=\"top\">\\textbf{Country level} (n=85)</th>\n",
       "      <th>\\textbf{MOSAIKS+VIIRS}</th>\n",
       "      <td>0.31</td>\n",
       "      <td>$&lt; 0$</td>\n",
       "      <td>0.13</td>\n",
       "      <td>$&lt; 0$</td>\n",
       "      <td>0.13</td>\n",
       "      <td>$&lt; 0$</td>\n",
       "    </tr>\n",
       "    <tr>\n",
       "      <th>\\textbf{MOSAIKS}</th>\n",
       "      <td>0.3</td>\n",
       "      <td>0.04</td>\n",
       "      <td>0.18</td>\n",
       "      <td>$&lt; 0$</td>\n",
       "      <td>0.15</td>\n",
       "      <td>$&lt; 0$</td>\n",
       "    </tr>\n",
       "    <tr>\n",
       "      <th>\\textbf{VIIRS}</th>\n",
       "      <td>0.29</td>\n",
       "      <td>$&lt; 0$</td>\n",
       "      <td>0.15</td>\n",
       "      <td>$&lt; 0$</td>\n",
       "      <td>0.16</td>\n",
       "      <td>$&lt; 0$</td>\n",
       "    </tr>\n",
       "  </tbody>\n",
       "</table>\n",
       "</div>"
      ],
      "text/plain": [
       "                                                         \\textbf{Predicted at DHS cluster level} (n=51,996)  \\\n",
       "                                                                          \\emph{Full variation performance}   \n",
       "                                                                                                 $\\rho^{2}$   \n",
       "                                                                                                        (1)   \n",
       "\\textbf{\\emph{IWI trained at}}: \\textbf{\\emph{Features}}                                                      \n",
       "\\textbf{Within-country} (n=862) \\textbf{MOSAIKS+VIIRS}                                                 0.71   \n",
       "                                \\textbf{MOSAIKS}                                                       0.66   \n",
       "                                \\textbf{VIIRS}                                                         0.71   \n",
       "\\textbf{Province level} (n=862) \\textbf{MOSAIKS+VIIRS}                                                 0.44   \n",
       "                                \\textbf{MOSAIKS}                                                       0.42   \n",
       "                                \\textbf{VIIRS}                                                         0.34   \n",
       "\\textbf{Country level} (n=85)   \\textbf{MOSAIKS+VIIRS}                                                 0.31   \n",
       "                                \\textbf{MOSAIKS}                                                        0.3   \n",
       "                                \\textbf{VIIRS}                                                         0.29   \n",
       "\n",
       "                                                                 \\\n",
       "                                                                  \n",
       "                                                          $R^2$   \n",
       "                                                            (2)   \n",
       "\\textbf{\\emph{IWI trained at}}: \\textbf{\\emph{Features}}          \n",
       "\\textbf{Within-country} (n=862) \\textbf{MOSAIKS+VIIRS}     0.67   \n",
       "                                \\textbf{MOSAIKS}           0.62   \n",
       "                                \\textbf{VIIRS}             0.67   \n",
       "\\textbf{Province level} (n=862) \\textbf{MOSAIKS+VIIRS}     0.28   \n",
       "                                \\textbf{MOSAIKS}           0.33   \n",
       "                                \\textbf{VIIRS}            $< 0$   \n",
       "\\textbf{Country level} (n=85)   \\textbf{MOSAIKS+VIIRS}    $< 0$   \n",
       "                                \\textbf{MOSAIKS}           0.04   \n",
       "                                \\textbf{VIIRS}            $< 0$   \n",
       "\n",
       "                                                                                            \\\n",
       "                                                         \\emph{Within-country performance}   \n",
       "                                                                                $\\rho^{2}$   \n",
       "                                                                                       (3)   \n",
       "\\textbf{\\emph{IWI trained at}}: \\textbf{\\emph{Features}}                                     \n",
       "\\textbf{Within-country} (n=862) \\textbf{MOSAIKS+VIIRS}                                0.56   \n",
       "                                \\textbf{MOSAIKS}                                      0.48   \n",
       "                                \\textbf{VIIRS}                                        0.56   \n",
       "\\textbf{Province level} (n=862) \\textbf{MOSAIKS+VIIRS}                                0.21   \n",
       "                                \\textbf{MOSAIKS}                                      0.18   \n",
       "                                \\textbf{VIIRS}                                        0.18   \n",
       "\\textbf{Country level} (n=85)   \\textbf{MOSAIKS+VIIRS}                                0.13   \n",
       "                                \\textbf{MOSAIKS}                                      0.18   \n",
       "                                \\textbf{VIIRS}                                        0.15   \n",
       "\n",
       "                                                                  \\\n",
       "                                                                   \n",
       "                                                         $R^{2}$   \n",
       "                                                             (4)   \n",
       "\\textbf{\\emph{IWI trained at}}: \\textbf{\\emph{Features}}           \n",
       "\\textbf{Within-country} (n=862) \\textbf{MOSAIKS+VIIRS}      0.56   \n",
       "                                \\textbf{MOSAIKS}            0.48   \n",
       "                                \\textbf{VIIRS}              0.56   \n",
       "\\textbf{Province level} (n=862) \\textbf{MOSAIKS+VIIRS}      0.08   \n",
       "                                \\textbf{MOSAIKS}           $< 0$   \n",
       "                                \\textbf{VIIRS}             $< 0$   \n",
       "\\textbf{Country level} (n=85)   \\textbf{MOSAIKS+VIIRS}     $< 0$   \n",
       "                                \\textbf{MOSAIKS}           $< 0$   \n",
       "                                \\textbf{VIIRS}             $< 0$   \n",
       "\n",
       "                                                                                             \\\n",
       "                                                         \\emph{Within-province performance}   \n",
       "                                                                                 $\\rho^{2}$   \n",
       "                                                                                        (5)   \n",
       "\\textbf{\\emph{IWI trained at}}: \\textbf{\\emph{Features}}                                      \n",
       "\\textbf{Within-country} (n=862) \\textbf{MOSAIKS+VIIRS}                                 0.36   \n",
       "                                \\textbf{MOSAIKS}                                       0.24   \n",
       "                                \\textbf{VIIRS}                                         0.36   \n",
       "\\textbf{Province level} (n=862) \\textbf{MOSAIKS+VIIRS}                                 0.21   \n",
       "                                \\textbf{MOSAIKS}                                       0.11   \n",
       "                                \\textbf{VIIRS}                                         0.22   \n",
       "\\textbf{Country level} (n=85)   \\textbf{MOSAIKS+VIIRS}                                 0.13   \n",
       "                                \\textbf{MOSAIKS}                                       0.15   \n",
       "                                \\textbf{VIIRS}                                         0.16   \n",
       "\n",
       "                                                                  \n",
       "                                                                  \n",
       "                                                         $R^{2}$  \n",
       "                                                             (6)  \n",
       "\\textbf{\\emph{IWI trained at}}: \\textbf{\\emph{Features}}          \n",
       "\\textbf{Within-country} (n=862) \\textbf{MOSAIKS+VIIRS}      0.36  \n",
       "                                \\textbf{MOSAIKS}            0.22  \n",
       "                                \\textbf{VIIRS}              0.35  \n",
       "\\textbf{Province level} (n=862) \\textbf{MOSAIKS+VIIRS}      0.01  \n",
       "                                \\textbf{MOSAIKS}           $< 0$  \n",
       "                                \\textbf{VIIRS}             $< 0$  \n",
       "\\textbf{Country level} (n=85)   \\textbf{MOSAIKS+VIIRS}     $< 0$  \n",
       "                                \\textbf{MOSAIKS}           $< 0$  \n",
       "                                \\textbf{VIIRS}             $< 0$  "
      ]
     },
     "execution_count": 73,
     "metadata": {},
     "output_type": "execute_result"
    }
   ],
   "source": [
    "table = table.iloc[[8,6,7,5,3,4,2,0,1]]\n",
    "table"
   ]
  },
  {
   "cell_type": "code",
   "execution_count": 74,
   "metadata": {
    "scrolled": false
   },
   "outputs": [
    {
     "name": "stdout",
     "output_type": "stream",
     "text": [
      "\\begin{tabular}{ll||cc|cc|cc}\n",
      "\\toprule\n",
      "                              &                & \\multicolumn{6}{c}{\\textbf{Predicted at DHS cluster level} (n=51,996)} \\\\\n",
      "                              &                & \\multicolumn{2}{c}{\\emph{Full variation performance}} & \\multicolumn{2}{c}{\\emph{Within-country performance}} & \\multicolumn{2}{c}{\\emph{Within-province performance}} \\\\\n",
      "                              &                &                                         $\\rho^{2}$ &  $R^2$ &                        $\\rho^{2}$ & $R^{2}$ &                         $\\rho^{2}$ & $R^{2}$ \\\\\n",
      "                              &                &                                                (1) &    (2) &                               (3) &     (4) &                                (5) &     (6) \\\\\n",
      "\\textbf{\\emph{IWI trained at}}: & \\textbf{\\emph{Features}} &                                                    &        &                                   &         &                                    &         \\\\\n",
      "\\midrule\n",
      "\\textbf{Within-country} (n=862) & \\textbf{MOSAIKS+VIIRS} &                                               0.71 &   0.67 &                              0.56 &    0.56 &                               0.36 &    0.36 \\\\\n",
      "                              & \\textbf{MOSAIKS} &                                               0.66 &   0.62 &                              0.48 &    0.48 &                               0.24 &    0.22 \\\\\n",
      "                              & \\textbf{VIIRS} &                                               0.71 &   0.67 &                              0.56 &    0.56 &                               0.36 &    0.35 \\\\\n",
      "\\textbf{Province level} (n=862) & \\textbf{MOSAIKS+VIIRS} &                                               0.44 &   0.28 &                              0.21 &    0.08 &                               0.21 &    0.01 \\\\\n",
      "                              & \\textbf{MOSAIKS} &                                               0.42 &   0.33 &                              0.18 &   $< 0$ &                               0.11 &   $< 0$ \\\\\n",
      "                              & \\textbf{VIIRS} &                                               0.34 &  $< 0$ &                              0.18 &   $< 0$ &                               0.22 &   $< 0$ \\\\\n",
      "\\textbf{Country level} (n=85) & \\textbf{MOSAIKS+VIIRS} &                                               0.31 &  $< 0$ &                              0.13 &   $< 0$ &                               0.13 &   $< 0$ \\\\\n",
      "                              & \\textbf{MOSAIKS} &                                                0.3 &   0.04 &                              0.18 &   $< 0$ &                               0.15 &   $< 0$ \\\\\n",
      "                              & \\textbf{VIIRS} &                                               0.29 &  $< 0$ &                              0.15 &   $< 0$ &                               0.16 &   $< 0$ \\\\\n",
      "\\bottomrule\n",
      "\\end{tabular}\n",
      "\n"
     ]
    }
   ],
   "source": [
    "print(table.to_latex(bold_rows=False,column_format=\"ll||cc|cc|cc\",\n",
    "      escape=False, multicolumn_format=\"c\", na_rep = \"-\")  )"
   ]
  },
  {
   "cell_type": "code",
   "execution_count": null,
   "metadata": {},
   "outputs": [],
   "source": []
  }
 ],
 "metadata": {
  "kernelspec": {
   "display_name": "Python 3 (ipykernel)",
   "language": "python",
   "name": "python3"
  },
  "language_info": {
   "codemirror_mode": {
    "name": "ipython",
    "version": 3
   },
   "file_extension": ".py",
   "mimetype": "text/x-python",
   "name": "python",
   "nbconvert_exporter": "python",
   "pygments_lexer": "ipython3",
   "version": "3.7.15"
  }
 },
 "nbformat": 4,
 "nbformat_minor": 4
}

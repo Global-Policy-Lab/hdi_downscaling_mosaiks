{
 "cells": [
  {
   "cell_type": "code",
   "execution_count": 1,
   "id": "93d95c16",
   "metadata": {},
   "outputs": [],
   "source": [
    "import os\n",
    "\n",
    "repo_dir = os.environ.get(\"REPO_DIR\")\n",
    "code_dir = os.path.join(repo_dir, \"code/\")\n",
    "data_dir = os.path.join(repo_dir, \"data/\")\n",
    "\n",
    "os.chdir(code_dir)\n",
    "\n",
    "import matplotlib.pyplot as plt\n",
    "import numpy as np\n",
    "import scipy.linalg\n",
    "import pickle\n",
    "import sklearn \n",
    "import sys\n",
    "import pandas as pd\n",
    "from importlib import reload\n",
    "\n",
    "from sklearn.model_selection import KFold\n",
    "from sklearn.linear_model import Ridge\n",
    "import seaborn as sns\n",
    "\n",
    "from mosaiks.utils.imports import *\n",
    "\n",
    "# Key prediction functions are here\n",
    "from prediction_utils import (X_matrix_to_demeaned_X, df_to_demeaned_y_vars,\n",
    "                              get_within_perf_from_kfold_dict,cv_solve, solver_kwargs,\n",
    "                            get_test_idxs,predict_y_from_kfold_dict)\n",
    "                              \n",
    "from prediction_utils import make_train_pred_scatterplot as make_scatterplot"
   ]
  },
  {
   "cell_type": "markdown",
   "id": "88f870f4",
   "metadata": {},
   "source": [
    "## Evaluate on test set"
   ]
  },
  {
   "cell_type": "markdown",
   "id": "ef7d6262",
   "metadata": {},
   "source": [
    "On Feb 24, 2022 we decide to evaluate on the test set. We will implement all the same procedures as `code/analysis/hdi_and_iwi_model_training.ipynb` and produce the test set results table with the same structure.\n",
    "\n",
    "\n",
    "In July, 2023 we updated our label data from the Global Data Lab. Additional provincial observations were added to the training and test sets. The 35 test countries that were included in the test set originally have not changed.\n",
    "\n",
    "In Dec, 2023 we changed our NL data source to VIIRS from DMSP. After making this decision based on reviewer feedback, we ran this notebook again to report updated test set results.\n",
    "\n",
    "\n",
    "****\n",
    "\n",
    "In order to execute this notebook, you will need saved model information which is included in the GitHub repo."
   ]
  },
  {
   "cell_type": "markdown",
   "id": "3280299f",
   "metadata": {},
   "source": [
    "### Read in Xs and Ys"
   ]
  },
  {
   "cell_type": "code",
   "execution_count": 2,
   "id": "d6136612",
   "metadata": {},
   "outputs": [],
   "source": [
    "adm1_X = pd.read_pickle(\n",
    "(data_dir + \"features/mosaiks_features/\"\n",
    "\"GDL_ADM1_polygon_X_creation_GHS_POP.p\")).drop(columns=\"GDLCODE\")\n",
    "\n",
    "filepath = (data_dir+\"features/nl_features/GDL_HDI_polygons/\"\n",
    "            \"viirs_percentile_binned_feats_GHS_pop_weighted_rasterio_method.p\")\n",
    "\n",
    "nl = pd.read_pickle(filepath).loc[adm1_X.index]"
   ]
  },
  {
   "cell_type": "code",
   "execution_count": 3,
   "id": "215f00c7",
   "metadata": {},
   "outputs": [],
   "source": [
    "raw = pd.read_pickle( (data_dir + \"int/GDL_HDI/\"\n",
    "                     \"HDI_indicators_and_indices_clean.p\") ).loc[adm1_X.index]"
   ]
  },
  {
   "cell_type": "code",
   "execution_count": 4,
   "id": "f0e80344",
   "metadata": {},
   "outputs": [],
   "source": [
    "iwi_path = (data_dir + \"raw/GDL_IWI/\"\n",
    "\"GDL-Mean-International-Wealth-Index-(IWI)-score-of-region-data_linear_interp=True_nearest_val=8.csv\")\n",
    "#These specific value uses nearest neighbor linear interpolation for a max of 7 years. \n",
    "# This is consistent with treating the DHS cluster observations as a cross section\n",
    "iwi = pd.read_csv(iwi_path)\n",
    "# Issue in IWI data. No national observation for a select few obs (Argentina subnats). Going to drop as the data \n",
    "# quality is unreliable anyway\n",
    "g = iwi.groupby(\"ISO_Code\")\n",
    "no_country = g.first()[g[\"Region\"].agg(lambda x: \"Total\" not in list(x))].index\n",
    "iwi = iwi.set_index(\"ISO_Code\").drop(no_country).reset_index()\n",
    "# ARG is now dropped\n",
    "\n",
    "iwi = iwi.set_index(\"GDLCODE\").rename(columns = {\"2019\":\"iwi\"})\n"
   ]
  },
  {
   "cell_type": "code",
   "execution_count": 5,
   "id": "8de2815c",
   "metadata": {},
   "outputs": [],
   "source": [
    "raw = raw.join(iwi[[\"iwi\"]],how = \"left\" )"
   ]
  },
  {
   "cell_type": "markdown",
   "id": "6dc5b1f2",
   "metadata": {},
   "source": [
    "### Subset to test set"
   ]
  },
  {
   "cell_type": "code",
   "execution_count": 6,
   "id": "eadeb0b1",
   "metadata": {},
   "outputs": [],
   "source": [
    "test_idxs = get_test_idxs()\n",
    "test_locs = raw[\"ISO_Code\"].isin(test_idxs)\n",
    "\n",
    "test_df = raw.loc[test_locs].copy()\n",
    "\n",
    "X_test = adm1_X.loc[test_df.index]\n",
    "\n",
    "X_nl = nl.loc[test_df.index]"
   ]
  },
  {
   "cell_type": "code",
   "execution_count": 7,
   "id": "75127d28",
   "metadata": {},
   "outputs": [],
   "source": [
    "tasks = ['Sub-national HDI', \n",
    "         \"Life expectancy\", \n",
    "         \"Mean years schooling\", \n",
    "         \"Expected years schooling\",\n",
    "         \"GNI per capita in thousands of US$ (2011 PPP)\",\n",
    "         \"iwi\"\n",
    "        ]\n",
    "\n",
    "log_task = {'Sub-national HDI': False,\n",
    "              \"Life expectancy\": False,\n",
    "               \"Mean years schooling\" : False,\n",
    "               \"Expected years schooling\" : False,\n",
    "               \"GNI per capita in thousands of US$ (2011 PPP)\" : True,\n",
    "               \"iwi\":False}\n",
    "\n",
    "\n",
    "model_directory = data_dir + \"model_data/\"\n",
    "\n",
    "test_df[tasks] = test_df[tasks].astype(float)"
   ]
  },
  {
   "cell_type": "code",
   "execution_count": 8,
   "id": "24893ef8",
   "metadata": {},
   "outputs": [],
   "source": [
    "X_demeaned = X_matrix_to_demeaned_X(X_test)\n",
    "X_demeaned_nl = X_matrix_to_demeaned_X(X_nl)"
   ]
  },
  {
   "cell_type": "markdown",
   "id": "463d0931",
   "metadata": {},
   "source": [
    "### Cross-country RCF"
   ]
  },
  {
   "cell_type": "code",
   "execution_count": 9,
   "id": "3f7448ff",
   "metadata": {},
   "outputs": [],
   "source": [
    "path = (model_directory+\n",
    "           \"cross_country_kfold_solve_all_outcomes_country_fold_DENSE_pop_weight=GHS_POP.pkl\")\n",
    "kfold_dict = pickle.load(open(path, \"rb\"))\n"
   ]
  },
  {
   "cell_type": "code",
   "execution_count": 10,
   "id": "76214bd1",
   "metadata": {},
   "outputs": [],
   "source": [
    "cc_rcf_perf_dict = {}\n",
    "cc_train_n = {}\n",
    "\n",
    "for task in tasks:\n",
    "    preds = predict_y_from_kfold_dict(X_test,kfold_dict, task)\n",
    "    truth = test_df[task]\n",
    "    \n",
    "    if log_task[task]:\n",
    "        truth = np.log(truth)\n",
    "    \n",
    "    if task == \"iwi\":\n",
    "        keep = ~truth.isnull()\n",
    "    else:\n",
    "        keep = np.full(len(truth), True)\n",
    "    \n",
    "    cc_rcf_perf_dict[task] = get_within_perf_from_kfold_dict(None, \n",
    "    task, metric=\"ALL\", truth=truth[keep], preds=preds[keep])\n",
    "    \n",
    "    cc_train_n[task] = len(np.hstack(kfold_dict[task][\"locations_test\"]))\n"
   ]
  },
  {
   "cell_type": "markdown",
   "id": "372156cd",
   "metadata": {},
   "source": [
    "### Cross-country NL model"
   ]
  },
  {
   "cell_type": "code",
   "execution_count": 11,
   "id": "ecfffb65",
   "metadata": {},
   "outputs": [],
   "source": [
    "path = (model_directory+\n",
    "           \"cross_country_nl_solve_all_outcomes_country_fold_VIIRS_hist_bins_GHS_pop_weighted.pkl\")\n",
    "nl_kfold_dict = pickle.load(open(path, \"rb\"))"
   ]
  },
  {
   "cell_type": "code",
   "execution_count": 12,
   "id": "20b21842",
   "metadata": {},
   "outputs": [],
   "source": [
    "cc_nl_perf_dict = {}\n",
    "\n",
    "for task in tasks:\n",
    "    preds = predict_y_from_kfold_dict(X_nl,nl_kfold_dict, task)\n",
    "    truth = test_df[task]\n",
    "    \n",
    "    if log_task[task]:\n",
    "        truth = np.log(truth)\n",
    "    \n",
    "    if task == \"iwi\":\n",
    "        keep = ~truth.isnull()\n",
    "    else:\n",
    "        keep = np.full(len(truth), True)\n",
    "    \n",
    "    cc_nl_perf_dict[task] = get_within_perf_from_kfold_dict(None, \n",
    "    task, metric=\"ALL\", truth=truth[keep], preds=preds[keep])"
   ]
  },
  {
   "cell_type": "markdown",
   "id": "d7c97455",
   "metadata": {},
   "source": [
    "### Cross-country RCF + NL"
   ]
  },
  {
   "cell_type": "code",
   "execution_count": 13,
   "id": "1d64625e",
   "metadata": {},
   "outputs": [],
   "source": [
    "path = (model_directory+\n",
    "           \"cross_country_rcf_and_nl_solve_all_\"\n",
    "           \"outcomes_country_fold_DENSE_pop_weight=GHS_VIIRS_hist_bins_GHS_pop_weighted.pkl\")\n",
    "nl_and_rcf_kfold_dict = pickle.load(open(path, \"rb\"))"
   ]
  },
  {
   "cell_type": "code",
   "execution_count": 14,
   "id": "6ecadd62",
   "metadata": {},
   "outputs": [],
   "source": [
    "cc_nl_and_rcf_perf_dict = {}\n",
    "\n",
    "for task in tasks:\n",
    "    preds = predict_y_from_kfold_dict(X_test,nl_and_rcf_kfold_dict,task, X_nl)\n",
    "    truth = test_df[task]\n",
    "    \n",
    "    if log_task[task]:\n",
    "        truth = np.log(truth)\n",
    "    \n",
    "    if task == \"iwi\":\n",
    "        keep = ~truth.isnull()\n",
    "    else:\n",
    "        keep = np.full(len(truth), True)\n",
    "    \n",
    "    cc_nl_and_rcf_perf_dict[task] = get_within_perf_from_kfold_dict(None, \n",
    "    task, metric=\"ALL\", truth=truth[keep], preds=preds[keep])"
   ]
  },
  {
   "cell_type": "markdown",
   "id": "bb6b6503",
   "metadata": {},
   "source": [
    "## Now we repeat for the ADM0 models"
   ]
  },
  {
   "cell_type": "markdown",
   "id": "a6496367",
   "metadata": {},
   "source": [
    "### Cross-country RCF"
   ]
  },
  {
   "cell_type": "code",
   "execution_count": 15,
   "id": "3644c7c0",
   "metadata": {},
   "outputs": [],
   "source": [
    "path = (model_directory+\n",
    "           \"kfold_solve_adm0_model_full\"\n",
    "           \"GHS_pop_weighted_feats_DENSE.pkl\")\n",
    "\n",
    "adm0_kfold_dict = pickle.load(open(path, \"rb\"))"
   ]
  },
  {
   "cell_type": "code",
   "execution_count": 16,
   "id": "cdc268b3",
   "metadata": {
    "scrolled": true
   },
   "outputs": [],
   "source": [
    "adm0_pred_adm1_rcf_perf_dict = {}\n",
    "\n",
    "adm0_train_n = {}\n",
    "\n",
    "adm1_test_n = {}\n",
    "\n",
    "for task in tasks:\n",
    "    preds = predict_y_from_kfold_dict(X_test,adm0_kfold_dict, task)\n",
    "    truth = test_df[task]\n",
    "    \n",
    "    if log_task[task]:\n",
    "        truth = np.log(truth)\n",
    "    \n",
    "    if task == \"iwi\":\n",
    "        keep = ~truth.isnull()\n",
    "    else:\n",
    "        keep = np.full(len(truth), True)\n",
    "    \n",
    "    adm0_pred_adm1_rcf_perf_dict[task] = get_within_perf_from_kfold_dict(None, \n",
    "    task, metric=\"ALL\", truth=truth[keep], preds=preds[keep])\n",
    "    \n",
    "    adm0_train_n[task] = len(np.hstack(adm0_kfold_dict[task][\"locations_test\"]))\n",
    "    adm1_test_n[task] = keep.sum()"
   ]
  },
  {
   "cell_type": "markdown",
   "id": "b51f5ff3",
   "metadata": {},
   "source": [
    "### Cross-country NL"
   ]
  },
  {
   "cell_type": "code",
   "execution_count": 17,
   "id": "29ffea98",
   "metadata": {},
   "outputs": [],
   "source": [
    "path = (model_directory +\n",
    "           \"VIIRS_hist_bins_GHS_pop_weighted.pkl\")\n",
    "\n",
    "adm0_nl_kfold_dict = pickle.load(open(path, \"rb\"))\n"
   ]
  },
  {
   "cell_type": "code",
   "execution_count": 18,
   "id": "bda0d334",
   "metadata": {},
   "outputs": [],
   "source": [
    "adm0_pred_adm1_nl_perf_dict = {}\n",
    "\n",
    "for task in tasks:\n",
    "    preds = predict_y_from_kfold_dict(X_nl,adm0_nl_kfold_dict, task)\n",
    "    truth = test_df[task]\n",
    "    \n",
    "    if log_task[task]:\n",
    "        truth = np.log(truth)\n",
    "    \n",
    "    if task == \"iwi\":\n",
    "        keep = ~truth.isnull()\n",
    "    else:\n",
    "        keep = np.full(len(truth), True)\n",
    "    \n",
    "    adm0_pred_adm1_nl_perf_dict[task] = get_within_perf_from_kfold_dict(None, \n",
    "    task, metric=\"ALL\", truth=truth[keep], preds=preds[keep])"
   ]
  },
  {
   "cell_type": "markdown",
   "id": "3af2c2a0",
   "metadata": {},
   "source": [
    "### Cross-country RCF+NL"
   ]
  },
  {
   "cell_type": "code",
   "execution_count": 19,
   "id": "6267ee79",
   "metadata": {},
   "outputs": [],
   "source": [
    "path = (model_directory+\n",
    "           \"kfold_solve_adm0_level_GHS_pop_weighted_feats_rcf_nl_VIIRS_hist_bins_GHS_pop_weighted.pkl\")\n",
    "\n",
    "adm0_rcf_nl_kfold_dict = pickle.load(open(path, \"rb\"))\n",
    "\n"
   ]
  },
  {
   "cell_type": "code",
   "execution_count": 20,
   "id": "35f27a34",
   "metadata": {},
   "outputs": [],
   "source": [
    "adm0_preds = predict_y_from_kfold_dict(X_test,adm0_rcf_nl_kfold_dict, task, X_nl)"
   ]
  },
  {
   "cell_type": "code",
   "execution_count": 21,
   "id": "f14201de",
   "metadata": {},
   "outputs": [],
   "source": [
    "adm1_preds = predict_y_from_kfold_dict(X_test,nl_and_rcf_kfold_dict,task, X_nl)"
   ]
  },
  {
   "cell_type": "code",
   "execution_count": 22,
   "id": "c315f3d5",
   "metadata": {},
   "outputs": [
    {
     "name": "stdout",
     "output_type": "stream",
     "text": [
      "Sub-national HDI\n",
      "0.7916197010898719\n",
      "Life expectancy\n",
      "0.6517522803774589\n",
      "Mean years schooling\n",
      "0.6348670879171606\n",
      "Expected years schooling\n",
      "0.6996837574317191\n",
      "GNI per capita in thousands of US$ (2011 PPP)\n",
      "0.7612026273589092\n",
      "iwi\n",
      "0.5052681782969255\n"
     ]
    }
   ],
   "source": [
    "adm0_pred_adm1_rcf_nl_perf_dict  = {}\n",
    "\n",
    "for task in tasks:\n",
    "    preds = predict_y_from_kfold_dict(X_test,adm0_rcf_nl_kfold_dict, task, X_nl)\n",
    "    truth = test_df[task]\n",
    "    \n",
    "    if log_task[task]:\n",
    "        truth = np.log(truth)\n",
    "    \n",
    "    if task == \"iwi\":\n",
    "        keep = ~truth.isnull()\n",
    "    else:\n",
    "        keep = np.full(len(truth), True)\n",
    "    \n",
    "    print(task)\n",
    "    print(sklearn.metrics.r2_score(truth[keep],preds[keep]))\n",
    "    \n",
    "    adm0_pred_adm1_rcf_nl_perf_dict[task] = get_within_perf_from_kfold_dict(None, \n",
    "    task, metric=\"ALL\", truth=truth[keep], preds=preds[keep])"
   ]
  },
  {
   "cell_type": "markdown",
   "id": "c1e3d680",
   "metadata": {},
   "source": [
    "## Now we repeat for the demeaned models\n",
    "\n",
    "### Within-country RCF"
   ]
  },
  {
   "cell_type": "code",
   "execution_count": 23,
   "id": "0d310f5c",
   "metadata": {},
   "outputs": [],
   "source": [
    "def get_idxs_without_adm0_observations(df, country_col = \"ISO_Code\"):\n",
    "    \"\"\"\n",
    "    For country-demeaned outcomes, we want to remove all the ADM0 level observations. \n",
    "    \n",
    "    In other words, if there is no within-country we shouldn't keep this as training data\n",
    "    \n",
    "    \"\"\"\n",
    "    col = tasks[0]\n",
    "    g = df.groupby(\"ISO_Code\")\n",
    "    \n",
    "    country_counts = df.groupby(country_col)[col].count() \n",
    "\n",
    "    adm0_idxs = country_counts[country_counts == 1].index\n",
    "    adm1_idxs = df.reset_index().set_index(\"ISO_Code\").drop(adm0_idxs).set_index(df.index.name).index\n",
    "    \n",
    "    assert len(adm1_idxs) == len(df)-len(adm0_idxs)\n",
    "    \n",
    "    return adm1_idxs"
   ]
  },
  {
   "cell_type": "code",
   "execution_count": 24,
   "id": "b90b212b",
   "metadata": {},
   "outputs": [],
   "source": [
    "path = (model_directory+\n",
    "           \"within_country_demeaned_kfold_solve_all_outcomes_country_fold_DENSE_pop_weight=GHS_POP.pkl\")\n",
    "demeaned_kfold_dict = pickle.load(open(path, \"rb\"))"
   ]
  },
  {
   "cell_type": "code",
   "execution_count": 25,
   "id": "d12f0b46",
   "metadata": {},
   "outputs": [
    {
     "name": "stdout",
     "output_type": "stream",
     "text": [
      "Sub-national HDI\n",
      "Life expectancy\n",
      "Mean years schooling\n",
      "Expected years schooling\n",
      "GNI per capita in thousands of US$ (2011 PPP)\n",
      "iwi\n"
     ]
    }
   ],
   "source": [
    "demean_rcf_perf_dict = {}\n",
    "\n",
    "demean_n_train = {}\n",
    "\n",
    "demean_test_n = {}\n",
    "\n",
    "for task in tasks:\n",
    "    print(task)\n",
    "    preds = predict_y_from_kfold_dict(X_demeaned,demeaned_kfold_dict, task)\n",
    "    \n",
    "    truth = df_to_demeaned_y_vars(task, test_df, log_before_diff = log_task[task])\n",
    "    \n",
    "    within = get_idxs_without_adm0_observations(test_df)\n",
    "    preds = preds.loc[within]\n",
    "    truth = truth.loc[within]\n",
    "    \n",
    "    if task == \"iwi\":\n",
    "        keep = ~truth.isnull()\n",
    "    else:\n",
    "        keep = np.full(len(truth), True)\n",
    "\n",
    "    demean_rcf_perf_dict[task] = get_within_perf_from_kfold_dict(None, \n",
    "    task, metric=\"ALL\", truth=truth[keep], preds=preds[keep],\n",
    "                                                                demeaned_input=True, not_demeaned_df=test_df)\n",
    "    \n",
    "    demean_n_train[task] = len(np.hstack(demeaned_kfold_dict[task][\"locations_test\"]))\n",
    "    \n",
    "    demean_test_n[task] = keep.sum()\n",
    "    "
   ]
  },
  {
   "cell_type": "markdown",
   "id": "973b3ddc",
   "metadata": {},
   "source": [
    "### Within-country NL"
   ]
  },
  {
   "cell_type": "code",
   "execution_count": 26,
   "id": "c733c183",
   "metadata": {},
   "outputs": [],
   "source": [
    "path = (model_directory+\n",
    "           \"within_country_nl_demeaned_solve_all_outcomes_country_fold_VIIRS_hist_bins_GHS_pop_weighted.pkl\")\n",
    "nl_demeaned_kfold_dict = pickle.load(open(path, \"rb\"))\n"
   ]
  },
  {
   "cell_type": "code",
   "execution_count": 27,
   "id": "f3815770",
   "metadata": {},
   "outputs": [],
   "source": [
    "demean_nl_perf_dict = {}\n",
    "\n",
    "for task in tasks:\n",
    "    preds = predict_y_from_kfold_dict(X_demeaned_nl,nl_demeaned_kfold_dict, task)\n",
    "    \n",
    "    truth = df_to_demeaned_y_vars(task, test_df, log_before_diff = log_task[task])\n",
    "    \n",
    "    within = get_idxs_without_adm0_observations(test_df)\n",
    "    preds = preds.loc[within]\n",
    "    truth = truth.loc[within]\n",
    "    \n",
    "    if task == \"iwi\":\n",
    "        keep = ~truth.isnull()\n",
    "    else:\n",
    "        keep = np.full(len(truth), True)\n",
    "\n",
    "    demean_nl_perf_dict[task] = get_within_perf_from_kfold_dict(None, \n",
    "    task, metric=\"ALL\", truth=truth[keep], preds=preds[keep],\n",
    "                                                                demeaned_input=True, not_demeaned_df=test_df)\n",
    "\n"
   ]
  },
  {
   "cell_type": "markdown",
   "id": "7085bd31",
   "metadata": {},
   "source": [
    "### Within-country RCF+NL"
   ]
  },
  {
   "cell_type": "code",
   "execution_count": 28,
   "id": "b9269e55",
   "metadata": {},
   "outputs": [],
   "source": [
    "path = (model_directory+\n",
    "           \"within_country_rcf_and_nl_demeaned_solve_all_outcomes_country_fold\"\n",
    "           \"_DENSE_pop_weight=GHS_VIIRS_hist_bins_GHS_pop_weighted.pkl\")\n",
    "\n",
    "nl_and_rcf_demeaned_kfold_dict = pickle.load(open(path, \"rb\"))\n"
   ]
  },
  {
   "cell_type": "code",
   "execution_count": 29,
   "id": "6667bcdd",
   "metadata": {},
   "outputs": [],
   "source": [
    "demeaned_nl_and_rcf_demeaned_perf_dict = {}\n",
    "\n",
    "for task in tasks:\n",
    "    preds = predict_y_from_kfold_dict(X_demeaned,nl_and_rcf_demeaned_kfold_dict, task,X_demeaned_nl)\n",
    "    \n",
    "    truth = df_to_demeaned_y_vars(task, test_df, log_before_diff = log_task[task])\n",
    "    \n",
    "    within = get_idxs_without_adm0_observations(test_df)\n",
    "    preds = preds.loc[within]\n",
    "    truth = truth.loc[within]\n",
    "    \n",
    "    if task == \"iwi\":\n",
    "        keep = ~truth.isnull()\n",
    "    else:\n",
    "        keep = np.full(len(truth), True)\n",
    "\n",
    "    demeaned_nl_and_rcf_demeaned_perf_dict[task] = get_within_perf_from_kfold_dict(None, \n",
    "    task, metric=\"ALL\", truth=truth[keep], preds=preds[keep],\n",
    "                                                                                   demeaned_input=True, not_demeaned_df=test_df)\n",
    "    \n",
    "    # Save HDI preds from demeaned (primary model). This is needed for maps\n",
    "    if task == tasks[0]:\n",
    "        path = data_dir + \"preds/hdi_test_set_preds_df_demean_rcf_nl.p\"\n",
    "        df = get_within_perf_from_kfold_dict(None, task, metric=\"ALL\", \n",
    "                                     truth=truth[keep],\n",
    "                                     preds=preds[keep],\n",
    "                                     return_df=True,\n",
    "                                    demeaned_input=True, \n",
    "                                     not_demeaned_df=test_df)\n",
    "        df.to_pickle(path)\n",
    "        \n",
    "        \n",
    "    \n",
    "    \n"
   ]
  },
  {
   "cell_type": "markdown",
   "id": "0988a1b2",
   "metadata": {},
   "source": [
    "### Make test set tables"
   ]
  },
  {
   "cell_type": "code",
   "execution_count": 30,
   "id": "5b771dc1",
   "metadata": {},
   "outputs": [],
   "source": [
    "task = tasks[0]\n",
    "\n",
    "outcomes_dicts =[\n",
    "    \n",
    "adm0_pred_adm1_rcf_perf_dict,\n",
    "adm0_pred_adm1_nl_perf_dict,\n",
    "adm0_pred_adm1_rcf_nl_perf_dict,\n",
    "    \n",
    "cc_rcf_perf_dict,\n",
    "cc_nl_perf_dict,\n",
    "cc_nl_and_rcf_perf_dict,\n",
    "\n",
    "demean_rcf_perf_dict,\n",
    "demean_nl_perf_dict,\n",
    "demeaned_nl_and_rcf_demeaned_perf_dict\n",
    "\n",
    "]\n",
    "\n",
    "outcomes = [outcome[task] for outcome in outcomes_dicts]\n",
    "\n",
    "table = pd.DataFrame(outcomes).round(2)\n",
    "\n",
    "table[table < 0] = \"$< 0$\"\n",
    "\n",
    "\n",
    "rename_dict = {\"pearson\": \"$\\rho^{2}$\", \"spearman\":\"Spearman r\", \"r2\":\"$R^{2}$\",\n",
    "               \"within_adm0_pearson\": \"$\\rho^{2}$\", \"within_adm0_spearman\":\"Spearman r\", \"within_adm0_r2\":\"$R^{2}$\",\n",
    "    \n",
    "}\n",
    "\n",
    "table = table.rename(columns = rename_dict)\n",
    "\n",
    "table.loc[0:2,\"HDI\"] = \"\\textbf{Country level}\"\n",
    "table.loc[3:5,\"HDI\"] = \"\\textbf{Province level}\"\n",
    "table.loc[6:8,\"HDI\"] = \"\\textbf{Within-country}\" \n",
    "\n",
    "table.loc[0:2,\"\"] = [\"\\textbf{MOSAIKS}\",\"\\textbf{NL}\",\"\\textbf{MOSAIKS+NL}\"]\n",
    "table.loc[3:5,\"\"] = [\"\\textbf{MOSAIKS}\",\"\\textbf{NL}\",\"\\textbf{MOSAIKS+NL}\"]\n",
    "table.loc[6:8,\"\"] = [\"\\textbf{MOSAIKS}\",\"\\textbf{NL}\",\"\\textbf{MOSAIKS+NL}\"]\n",
    "\n",
    "table.loc[9] = \"\\textbf{Predicted at ADM1 level} \" + \"(n={:,})\".format(adm1_test_n[task])\n",
    "\n",
    "table.loc[10] = \"\\emph{Full variation performance}\"\n",
    "table.iloc[10,3:6] = \"\\emph{Within-country performance}\"\n",
    "\n",
    "table.drop(columns = \"Spearman r\", inplace=True)\n",
    "\n",
    "table.loc[11] = (\"(\" + pd.Series(np.arange(1,table.shape[1]+1)).astype(str) +\")\").to_numpy()\n",
    "\n",
    "table = table.T.reset_index().set_index([9,10,\"index\",11])\n",
    "\n",
    "tab = table.T\n",
    "\n",
    "tab.columns.names = ([None, None, None, None])\n",
    "\n",
    "table = tab.set_index([tab.columns[-2],tab.columns[-1]])\n",
    "\n",
    "table.index.names =[\"\\emph{\\textbf{HDI trained at:}}\", \"\\emph{\\textbf{Features}}\"]\n",
    "\n",
    "table = table.iloc[[8,6,7,5,3,4,2,0,1]]"
   ]
  },
  {
   "cell_type": "code",
   "execution_count": 31,
   "id": "765d343c",
   "metadata": {},
   "outputs": [
    {
     "data": {
      "text/html": [
       "<div>\n",
       "<style scoped>\n",
       "    .dataframe tbody tr th:only-of-type {\n",
       "        vertical-align: middle;\n",
       "    }\n",
       "\n",
       "    .dataframe tbody tr th {\n",
       "        vertical-align: top;\n",
       "    }\n",
       "\n",
       "    .dataframe thead tr th {\n",
       "        text-align: left;\n",
       "    }\n",
       "\n",
       "    .dataframe thead tr:last-of-type th {\n",
       "        text-align: right;\n",
       "    }\n",
       "</style>\n",
       "<table border=\"1\" class=\"dataframe\">\n",
       "  <thead>\n",
       "    <tr>\n",
       "      <th></th>\n",
       "      <th></th>\n",
       "      <th colspan=\"4\" halign=\"left\">\\textbf{Predicted at ADM1 level} (n=378)</th>\n",
       "    </tr>\n",
       "    <tr>\n",
       "      <th></th>\n",
       "      <th></th>\n",
       "      <th colspan=\"2\" halign=\"left\">\\emph{Full variation performance}</th>\n",
       "      <th colspan=\"2\" halign=\"left\">\\emph{Within-country performance}</th>\n",
       "    </tr>\n",
       "    <tr>\n",
       "      <th></th>\n",
       "      <th></th>\n",
       "      <th>$\\rho^{2}$</th>\n",
       "      <th>$R^{2}$</th>\n",
       "      <th>$\\rho^{2}$</th>\n",
       "      <th>$R^{2}$</th>\n",
       "    </tr>\n",
       "    <tr>\n",
       "      <th></th>\n",
       "      <th></th>\n",
       "      <th>(1)</th>\n",
       "      <th>(2)</th>\n",
       "      <th>(3)</th>\n",
       "      <th>(4)</th>\n",
       "    </tr>\n",
       "    <tr>\n",
       "      <th>\\emph{\textbf{HDI trained at:}}</th>\n",
       "      <th>\\emph{\textbf{Features}}</th>\n",
       "      <th></th>\n",
       "      <th></th>\n",
       "      <th></th>\n",
       "      <th></th>\n",
       "    </tr>\n",
       "  </thead>\n",
       "  <tbody>\n",
       "    <tr>\n",
       "      <th rowspan=\"3\" valign=\"top\">\\textbf{Within-country}</th>\n",
       "      <th>\\textbf{MOSAIKS+NL}</th>\n",
       "      <td>0.97</td>\n",
       "      <td>0.97</td>\n",
       "      <td>0.43</td>\n",
       "      <td>0.42</td>\n",
       "    </tr>\n",
       "    <tr>\n",
       "      <th>\\textbf{MOSAIKS}</th>\n",
       "      <td>0.96</td>\n",
       "      <td>0.96</td>\n",
       "      <td>0.25</td>\n",
       "      <td>0.21</td>\n",
       "    </tr>\n",
       "    <tr>\n",
       "      <th>\\textbf{NL}</th>\n",
       "      <td>0.97</td>\n",
       "      <td>0.97</td>\n",
       "      <td>0.45</td>\n",
       "      <td>0.45</td>\n",
       "    </tr>\n",
       "    <tr>\n",
       "      <th rowspan=\"3\" valign=\"top\">\\textbf{Province level}</th>\n",
       "      <th>\\textbf{MOSAIKS+NL}</th>\n",
       "      <td>0.87</td>\n",
       "      <td>0.87</td>\n",
       "      <td>0.4</td>\n",
       "      <td>0.09</td>\n",
       "    </tr>\n",
       "    <tr>\n",
       "      <th>\\textbf{MOSAIKS}</th>\n",
       "      <td>0.8</td>\n",
       "      <td>0.8</td>\n",
       "      <td>0.19</td>\n",
       "      <td>$&lt; 0$</td>\n",
       "    </tr>\n",
       "    <tr>\n",
       "      <th>\\textbf{NL}</th>\n",
       "      <td>0.64</td>\n",
       "      <td>0.62</td>\n",
       "      <td>0.42</td>\n",
       "      <td>$&lt; 0$</td>\n",
       "    </tr>\n",
       "    <tr>\n",
       "      <th rowspan=\"3\" valign=\"top\">\\textbf{Country level}</th>\n",
       "      <th>\\textbf{MOSAIKS+NL}</th>\n",
       "      <td>0.79</td>\n",
       "      <td>0.79</td>\n",
       "      <td>0.29</td>\n",
       "      <td>$&lt; 0$</td>\n",
       "    </tr>\n",
       "    <tr>\n",
       "      <th>\\textbf{MOSAIKS}</th>\n",
       "      <td>0.66</td>\n",
       "      <td>0.62</td>\n",
       "      <td>0.13</td>\n",
       "      <td>$&lt; 0$</td>\n",
       "    </tr>\n",
       "    <tr>\n",
       "      <th>\\textbf{NL}</th>\n",
       "      <td>0.6</td>\n",
       "      <td>0.56</td>\n",
       "      <td>0.38</td>\n",
       "      <td>$&lt; 0$</td>\n",
       "    </tr>\n",
       "  </tbody>\n",
       "</table>\n",
       "</div>"
      ],
      "text/plain": [
       "                                                         \\textbf{Predicted at ADM1 level} (n=378)  \\\n",
       "                                                                \\emph{Full variation performance}   \n",
       "                                                                                       $\\rho^{2}$   \n",
       "                                                                                              (1)   \n",
       "\\emph{\\textbf{HDI trained at:}} \\emph{\\textbf{Features}}                                            \n",
       "\\textbf{Within-country}         \\textbf{MOSAIKS+NL}                                          0.97   \n",
       "                                \\textbf{MOSAIKS}                                             0.96   \n",
       "                                \\textbf{NL}                                                  0.97   \n",
       "\\textbf{Province level}         \\textbf{MOSAIKS+NL}                                          0.87   \n",
       "                                \\textbf{MOSAIKS}                                              0.8   \n",
       "                                \\textbf{NL}                                                  0.64   \n",
       "\\textbf{Country level}          \\textbf{MOSAIKS+NL}                                          0.79   \n",
       "                                \\textbf{MOSAIKS}                                             0.66   \n",
       "                                \\textbf{NL}                                                   0.6   \n",
       "\n",
       "                                                                  \\\n",
       "                                                                   \n",
       "                                                         $R^{2}$   \n",
       "                                                             (2)   \n",
       "\\emph{\\textbf{HDI trained at:}} \\emph{\\textbf{Features}}           \n",
       "\\textbf{Within-country}         \\textbf{MOSAIKS+NL}         0.97   \n",
       "                                \\textbf{MOSAIKS}            0.96   \n",
       "                                \\textbf{NL}                 0.97   \n",
       "\\textbf{Province level}         \\textbf{MOSAIKS+NL}         0.87   \n",
       "                                \\textbf{MOSAIKS}             0.8   \n",
       "                                \\textbf{NL}                 0.62   \n",
       "\\textbf{Country level}          \\textbf{MOSAIKS+NL}         0.79   \n",
       "                                \\textbf{MOSAIKS}            0.62   \n",
       "                                \\textbf{NL}                 0.56   \n",
       "\n",
       "                                                                                            \\\n",
       "                                                         \\emph{Within-country performance}   \n",
       "                                                                                $\\rho^{2}$   \n",
       "                                                                                       (3)   \n",
       "\\emph{\\textbf{HDI trained at:}} \\emph{\\textbf{Features}}                                     \n",
       "\\textbf{Within-country}         \\textbf{MOSAIKS+NL}                                   0.43   \n",
       "                                \\textbf{MOSAIKS}                                      0.25   \n",
       "                                \\textbf{NL}                                           0.45   \n",
       "\\textbf{Province level}         \\textbf{MOSAIKS+NL}                                    0.4   \n",
       "                                \\textbf{MOSAIKS}                                      0.19   \n",
       "                                \\textbf{NL}                                           0.42   \n",
       "\\textbf{Country level}          \\textbf{MOSAIKS+NL}                                   0.29   \n",
       "                                \\textbf{MOSAIKS}                                      0.13   \n",
       "                                \\textbf{NL}                                           0.38   \n",
       "\n",
       "                                                                  \n",
       "                                                                  \n",
       "                                                         $R^{2}$  \n",
       "                                                             (4)  \n",
       "\\emph{\\textbf{HDI trained at:}} \\emph{\\textbf{Features}}          \n",
       "\\textbf{Within-country}         \\textbf{MOSAIKS+NL}         0.42  \n",
       "                                \\textbf{MOSAIKS}            0.21  \n",
       "                                \\textbf{NL}                 0.45  \n",
       "\\textbf{Province level}         \\textbf{MOSAIKS+NL}         0.09  \n",
       "                                \\textbf{MOSAIKS}           $< 0$  \n",
       "                                \\textbf{NL}                $< 0$  \n",
       "\\textbf{Country level}          \\textbf{MOSAIKS+NL}        $< 0$  \n",
       "                                \\textbf{MOSAIKS}           $< 0$  \n",
       "                                \\textbf{NL}                $< 0$  "
      ]
     },
     "execution_count": 31,
     "metadata": {},
     "output_type": "execute_result"
    }
   ],
   "source": [
    "table"
   ]
  },
  {
   "cell_type": "code",
   "execution_count": 36,
   "id": "c4d9889b",
   "metadata": {},
   "outputs": [
    {
     "name": "stdout",
     "output_type": "stream",
     "text": [
      "\\begin{tabular}{ll||cc|cc}\n",
      "\\toprule\n",
      "                       &             & \\multicolumn{4}{c}{\\textbf{Predicted at ADM1 level} (n=378)} \\\\\n",
      "                       &             & \\multicolumn{2}{c}{\\emph{Full variation performance}} & \\multicolumn{2}{c}{\\emph{Within-country performance}} \\\\\n",
      "                       &             &                               $\\rho^{2}$ & $R^{2}$ &                        $\\rho^{2}$ & $R^{2}$ \\\\\n",
      "                       &             &                                      (1) &     (2) &                               (3) &     (4) \\\\\n",
      "\\emph{\\textbf{HDI trained at:}} & \\emph{\\textbf{Features}} &                                          &         &                                   &         \\\\\n",
      "\\midrule\n",
      "\\textbf{Within-country} & \\textbf{MOSAIKS+NL} &                                     0.97 &    0.97 &                              0.43 &    0.42 \\\\\n",
      "                       & \\textbf{MOSAIKS} &                                     0.96 &    0.96 &                              0.25 &    0.21 \\\\\n",
      "                       & \\textbf{NL} &                                     0.97 &    0.97 &                              0.45 &    0.45 \\\\\n",
      "\\textbf{Province level} & \\textbf{MOSAIKS+NL} &                                     0.87 &    0.87 &                               0.4 &    0.09 \\\\\n",
      "                       & \\textbf{MOSAIKS} &                                      0.8 &     0.8 &                              0.19 &   $< 0$ \\\\\n",
      "                       & \\textbf{NL} &                                     0.64 &    0.62 &                              0.42 &   $< 0$ \\\\\n",
      "\\textbf{Country level} & \\textbf{MOSAIKS+NL} &                                     0.79 &    0.79 &                              0.29 &   $< 0$ \\\\\n",
      "                       & \\textbf{MOSAIKS} &                                     0.66 &    0.62 &                              0.13 &   $< 0$ \\\\\n",
      "                       & \\textbf{NL} &                                      0.6 &    0.56 &                              0.38 &   $< 0$ \\\\\n",
      "\\bottomrule\n",
      "\\end{tabular}\n",
      "\n"
     ]
    }
   ],
   "source": [
    "print(table.to_latex(bold_rows=False,column_format=\"ll||cc|cc\",\n",
    "      escape=False, multicolumn_format=\"c\")  )"
   ]
  },
  {
   "cell_type": "code",
   "execution_count": null,
   "id": "b61db0b5",
   "metadata": {},
   "outputs": [],
   "source": []
  }
 ],
 "metadata": {
  "kernelspec": {
   "display_name": "Python 3 (ipykernel)",
   "language": "python",
   "name": "python3"
  },
  "language_info": {
   "codemirror_mode": {
    "name": "ipython",
    "version": 3
   },
   "file_extension": ".py",
   "mimetype": "text/x-python",
   "name": "python",
   "nbconvert_exporter": "python",
   "pygments_lexer": "ipython3",
   "version": "3.7.15"
  }
 },
 "nbformat": 4,
 "nbformat_minor": 5
}

{
 "cells": [
  {
   "cell_type": "code",
   "execution_count": 1,
   "id": "94dd23e6",
   "metadata": {},
   "outputs": [],
   "source": [
    "import os\n",
    "repo_dir = os.environ.get(\"REPO_DIR\")\n",
    "code_dir = os.path.join(repo_dir, \"code/\")\n",
    "data_dir = os.path.join(repo_dir, \"data/\")\n",
    "os.chdir(code_dir)\n",
    "\n",
    "import matplotlib.pyplot as plt\n",
    "import numpy as np\n",
    "import scipy.linalg\n",
    "# import pickle\n",
    "# import sklearn \n",
    "import sys\n",
    "import pandas as pd\n",
    "from importlib import reload\n",
    "import sklearn.metrics\n",
    "\n",
    "import geopandas as gpd\n",
    "\n",
    "import warnings\n",
    "\n",
    "from scipy.stats import spearmanr"
   ]
  },
  {
   "cell_type": "markdown",
   "id": "ef0a446f",
   "metadata": {},
   "source": [
    "## Compare satellite-based HDI ADM2 estimates in Mexico to census-derived estimates"
   ]
  },
  {
   "cell_type": "markdown",
   "id": "d7561652",
   "metadata": {},
   "source": [
    "In order to replicate, this analysis, the user will need to create the `data/preds/hdi_preds_at_adm2.p` file which is created in the `hdi_preds_at_adm2.ipynb` notebook. This pickle file also contains the ADM2 shapes.\n",
    "\n",
    "Alternatively, users can manually merge the tabular ADM2 estimates in `hdi_preds_at_adm2.csv` with the ADM2 geoBoundaries shapefile.\n",
    "\n",
    "In addition, replication will require the Mexico census ADM2 shapefile, which can be downloaded from https://datacatalog.worldbank.org/search/dataset/0039294"
   ]
  },
  {
   "cell_type": "code",
   "execution_count": 2,
   "id": "5b081523",
   "metadata": {},
   "outputs": [],
   "source": [
    "mex_dir = data_dir + \"raw/Permanyer_MHDI/\"\n",
    "\n",
    "# Satellite-derived HDI for Mexican municipalities\n",
    "sat = pd.read_pickle(data_dir + \"preds/hdi_preds_at_adm2.p\")\n",
    "\n",
    "sat = sat[sat[\"shapeGroup\"] == \"MEX\"]\n",
    "\n",
    "# Census-derived HDI for Mexican municipalities \n",
    "census = pd.read_csv(mex_dir+ \"mexico_municipality_hdi.csv\")"
   ]
  },
  {
   "cell_type": "code",
   "execution_count": 3,
   "id": "1c0da699",
   "metadata": {},
   "outputs": [],
   "source": [
    "sat.rename(columns = {\"adjusted_preds\" : \"adm2_pred\",\"adm1_mean\":\"adm1_truth\"},inplace=True)"
   ]
  },
  {
   "cell_type": "code",
   "execution_count": 4,
   "id": "792e6340",
   "metadata": {},
   "outputs": [],
   "source": [
    "census_shape = gpd.read_file(mex_dir + \"muni_2012gw/Muni_2012gw.shp\")\n",
    "\n",
    "\n",
    "# ### Make combined unique id (primary key) for census shapes\n",
    "census_shape[\"id\"] = census_shape[\"CVE_ENT\"] + census_shape[\"CVE_MUN\"]"
   ]
  },
  {
   "cell_type": "code",
   "execution_count": 5,
   "id": "0665bde8",
   "metadata": {},
   "outputs": [],
   "source": [
    "### Add leading 0s to survey identifier"
   ]
  },
  {
   "cell_type": "code",
   "execution_count": 6,
   "id": "52c33677",
   "metadata": {},
   "outputs": [],
   "source": [
    "def fix_leading_0s(x, correct_length=5):\n",
    "    assert type(x) is str\n",
    "    while len(x) < correct_length:\n",
    "        x = \"0\" + x\n",
    "    return x"
   ]
  },
  {
   "cell_type": "code",
   "execution_count": 7,
   "id": "2daab7c3",
   "metadata": {},
   "outputs": [],
   "source": [
    "census[\"code\"] = census[\"code\"].astype(str)\n",
    "census[\"code\"] = census[\"code\"].apply(fix_leading_0s)"
   ]
  },
  {
   "cell_type": "markdown",
   "id": "1403bdf7",
   "metadata": {},
   "source": [
    "### Inspect data"
   ]
  },
  {
   "cell_type": "code",
   "execution_count": 8,
   "id": "47d70b46",
   "metadata": {},
   "outputs": [
    {
     "data": {
      "text/html": [
       "<div>\n",
       "<style scoped>\n",
       "    .dataframe tbody tr th:only-of-type {\n",
       "        vertical-align: middle;\n",
       "    }\n",
       "\n",
       "    .dataframe tbody tr th {\n",
       "        vertical-align: top;\n",
       "    }\n",
       "\n",
       "    .dataframe thead th {\n",
       "        text-align: right;\n",
       "    }\n",
       "</style>\n",
       "<table border=\"1\" class=\"dataframe\">\n",
       "  <thead>\n",
       "    <tr style=\"text-align: right;\">\n",
       "      <th></th>\n",
       "      <th>CVE_ENT</th>\n",
       "      <th>CVE_MUN</th>\n",
       "      <th>NOM_MUN</th>\n",
       "      <th>OID_1</th>\n",
       "      <th>cov_</th>\n",
       "      <th>cov_id</th>\n",
       "      <th>geometry</th>\n",
       "      <th>id</th>\n",
       "    </tr>\n",
       "  </thead>\n",
       "  <tbody>\n",
       "    <tr>\n",
       "      <th>0</th>\n",
       "      <td>01</td>\n",
       "      <td>005</td>\n",
       "      <td>Jesús María</td>\n",
       "      <td>1</td>\n",
       "      <td>1</td>\n",
       "      <td>2</td>\n",
       "      <td>POLYGON ((-102.33568 22.05067, -102.33348 22.0...</td>\n",
       "      <td>01005</td>\n",
       "    </tr>\n",
       "    <tr>\n",
       "      <th>1</th>\n",
       "      <td>01</td>\n",
       "      <td>011</td>\n",
       "      <td>San Francisco de los Romo</td>\n",
       "      <td>2</td>\n",
       "      <td>2</td>\n",
       "      <td>3</td>\n",
       "      <td>POLYGON ((-102.15272 22.08962, -102.15100 22.0...</td>\n",
       "      <td>01011</td>\n",
       "    </tr>\n",
       "    <tr>\n",
       "      <th>2</th>\n",
       "      <td>01</td>\n",
       "      <td>001</td>\n",
       "      <td>Aguascalientes</td>\n",
       "      <td>3</td>\n",
       "      <td>3</td>\n",
       "      <td>4</td>\n",
       "      <td>POLYGON ((-102.10641 22.06035, -102.10368 22.0...</td>\n",
       "      <td>01001</td>\n",
       "    </tr>\n",
       "    <tr>\n",
       "      <th>3</th>\n",
       "      <td>01</td>\n",
       "      <td>008</td>\n",
       "      <td>San José de Gracia</td>\n",
       "      <td>4</td>\n",
       "      <td>4</td>\n",
       "      <td>5</td>\n",
       "      <td>POLYGON ((-102.45611 22.32323, -102.45537 22.3...</td>\n",
       "      <td>01008</td>\n",
       "    </tr>\n",
       "    <tr>\n",
       "      <th>4</th>\n",
       "      <td>01</td>\n",
       "      <td>007</td>\n",
       "      <td>Rincón de Romos</td>\n",
       "      <td>5</td>\n",
       "      <td>5</td>\n",
       "      <td>6</td>\n",
       "      <td>POLYGON ((-102.22684 22.37393, -102.22661 22.3...</td>\n",
       "      <td>01007</td>\n",
       "    </tr>\n",
       "  </tbody>\n",
       "</table>\n",
       "</div>"
      ],
      "text/plain": [
       "  CVE_ENT CVE_MUN                    NOM_MUN  OID_1  cov_  cov_id  \\\n",
       "0      01     005                Jesús María      1     1       2   \n",
       "1      01     011  San Francisco de los Romo      2     2       3   \n",
       "2      01     001             Aguascalientes      3     3       4   \n",
       "3      01     008         San José de Gracia      4     4       5   \n",
       "4      01     007            Rincón de Romos      5     5       6   \n",
       "\n",
       "                                            geometry     id  \n",
       "0  POLYGON ((-102.33568 22.05067, -102.33348 22.0...  01005  \n",
       "1  POLYGON ((-102.15272 22.08962, -102.15100 22.0...  01011  \n",
       "2  POLYGON ((-102.10641 22.06035, -102.10368 22.0...  01001  \n",
       "3  POLYGON ((-102.45611 22.32323, -102.45537 22.3...  01008  \n",
       "4  POLYGON ((-102.22684 22.37393, -102.22661 22.3...  01007  "
      ]
     },
     "execution_count": 8,
     "metadata": {},
     "output_type": "execute_result"
    }
   ],
   "source": [
    "census_shape.head()"
   ]
  },
  {
   "cell_type": "code",
   "execution_count": 9,
   "id": "eb344079",
   "metadata": {},
   "outputs": [
    {
     "data": {
      "text/html": [
       "<div>\n",
       "<style scoped>\n",
       "    .dataframe tbody tr th:only-of-type {\n",
       "        vertical-align: middle;\n",
       "    }\n",
       "\n",
       "    .dataframe tbody tr th {\n",
       "        vertical-align: top;\n",
       "    }\n",
       "\n",
       "    .dataframe thead th {\n",
       "        text-align: right;\n",
       "    }\n",
       "</style>\n",
       "<table border=\"1\" class=\"dataframe\">\n",
       "  <thead>\n",
       "    <tr style=\"text-align: right;\">\n",
       "      <th></th>\n",
       "      <th>code</th>\n",
       "      <th>name</th>\n",
       "      <th>mhdi</th>\n",
       "    </tr>\n",
       "  </thead>\n",
       "  <tbody>\n",
       "    <tr>\n",
       "      <th>0</th>\n",
       "      <td>01001</td>\n",
       "      <td>Aguascalientes</td>\n",
       "      <td>0.800166</td>\n",
       "    </tr>\n",
       "    <tr>\n",
       "      <th>1</th>\n",
       "      <td>01002</td>\n",
       "      <td>Asientos</td>\n",
       "      <td>0.699480</td>\n",
       "    </tr>\n",
       "    <tr>\n",
       "      <th>2</th>\n",
       "      <td>01003</td>\n",
       "      <td>Calvillo</td>\n",
       "      <td>0.720626</td>\n",
       "    </tr>\n",
       "    <tr>\n",
       "      <th>3</th>\n",
       "      <td>01004</td>\n",
       "      <td>Cosío</td>\n",
       "      <td>0.732867</td>\n",
       "    </tr>\n",
       "    <tr>\n",
       "      <th>4</th>\n",
       "      <td>01005</td>\n",
       "      <td>Jesús María</td>\n",
       "      <td>0.750694</td>\n",
       "    </tr>\n",
       "  </tbody>\n",
       "</table>\n",
       "</div>"
      ],
      "text/plain": [
       "    code            name      mhdi\n",
       "0  01001  Aguascalientes  0.800166\n",
       "1  01002        Asientos  0.699480\n",
       "2  01003        Calvillo  0.720626\n",
       "3  01004           Cosío  0.732867\n",
       "4  01005     Jesús María  0.750694"
      ]
     },
     "execution_count": 9,
     "metadata": {},
     "output_type": "execute_result"
    }
   ],
   "source": [
    "census.head()"
   ]
  },
  {
   "cell_type": "code",
   "execution_count": 10,
   "id": "79de0a4d",
   "metadata": {},
   "outputs": [
    {
     "data": {
      "text/html": [
       "<div>\n",
       "<style scoped>\n",
       "    .dataframe tbody tr th:only-of-type {\n",
       "        vertical-align: middle;\n",
       "    }\n",
       "\n",
       "    .dataframe tbody tr th {\n",
       "        vertical-align: top;\n",
       "    }\n",
       "\n",
       "    .dataframe thead th {\n",
       "        text-align: right;\n",
       "    }\n",
       "</style>\n",
       "<table border=\"1\" class=\"dataframe\">\n",
       "  <thead>\n",
       "    <tr style=\"text-align: right;\">\n",
       "      <th></th>\n",
       "      <th>shapeName</th>\n",
       "      <th>shapeISO</th>\n",
       "      <th>shapeGroup</th>\n",
       "      <th>shapeType</th>\n",
       "      <th>ADM1_shapeID</th>\n",
       "      <th>ADM0_shapeID</th>\n",
       "      <th>ADMHIERARCHY</th>\n",
       "      <th>geometry</th>\n",
       "      <th>GDL_ADM1</th>\n",
       "      <th>percent_overlap_GDL_ADM1</th>\n",
       "      <th>predicted_dev_from_adm0</th>\n",
       "      <th>adm1_truth</th>\n",
       "      <th>mean_of_pred_adm2_obs</th>\n",
       "      <th>adj_factor</th>\n",
       "      <th>adm2_pred</th>\n",
       "      <th>total_pop</th>\n",
       "      <th>area_sq_km</th>\n",
       "    </tr>\n",
       "    <tr>\n",
       "      <th>shapeID</th>\n",
       "      <th></th>\n",
       "      <th></th>\n",
       "      <th></th>\n",
       "      <th></th>\n",
       "      <th></th>\n",
       "      <th></th>\n",
       "      <th></th>\n",
       "      <th></th>\n",
       "      <th></th>\n",
       "      <th></th>\n",
       "      <th></th>\n",
       "      <th></th>\n",
       "      <th></th>\n",
       "      <th></th>\n",
       "      <th></th>\n",
       "      <th></th>\n",
       "      <th></th>\n",
       "    </tr>\n",
       "  </thead>\n",
       "  <tbody>\n",
       "    <tr>\n",
       "      <th>MEX-ADM2-3_0_0-B1</th>\n",
       "      <td>Asientos</td>\n",
       "      <td>None</td>\n",
       "      <td>MEX</td>\n",
       "      <td>ADM2</td>\n",
       "      <td>MEX-ADM1-3_0_0-B1</td>\n",
       "      <td>MEX-ADM0-3_0_0-B1</td>\n",
       "      <td>MEX-ADM2-3_0_0-B1|MEX-ADM1-3_0_0-B1|MEX-ADM0-3...</td>\n",
       "      <td>POLYGON ((-101.99940 22.21948, -101.99955 22.2...</td>\n",
       "      <td>MEXr101</td>\n",
       "      <td>59.83</td>\n",
       "      <td>-0.034347</td>\n",
       "      <td>0.797</td>\n",
       "      <td>-0.007321</td>\n",
       "      <td>0.804321</td>\n",
       "      <td>0.769975</td>\n",
       "      <td>55286</td>\n",
       "      <td>548.953175</td>\n",
       "    </tr>\n",
       "    <tr>\n",
       "      <th>MEX-ADM2-3_0_0-B2</th>\n",
       "      <td>San Francisco de los Romo</td>\n",
       "      <td>None</td>\n",
       "      <td>MEX</td>\n",
       "      <td>ADM2</td>\n",
       "      <td>MEX-ADM1-3_0_0-B1</td>\n",
       "      <td>MEX-ADM0-3_0_0-B1</td>\n",
       "      <td>MEX-ADM2-3_0_0-B2|MEX-ADM1-3_0_0-B1|MEX-ADM0-3...</td>\n",
       "      <td>POLYGON ((-102.19107 22.06615, -102.19091 22.0...</td>\n",
       "      <td>MEXr101</td>\n",
       "      <td>100.00</td>\n",
       "      <td>0.015127</td>\n",
       "      <td>0.797</td>\n",
       "      <td>-0.007321</td>\n",
       "      <td>0.804321</td>\n",
       "      <td>0.819448</td>\n",
       "      <td>42300</td>\n",
       "      <td>139.226606</td>\n",
       "    </tr>\n",
       "    <tr>\n",
       "      <th>MEX-ADM2-3_0_0-B3</th>\n",
       "      <td>Rincón de Romos</td>\n",
       "      <td>None</td>\n",
       "      <td>MEX</td>\n",
       "      <td>ADM2</td>\n",
       "      <td>MEX-ADM1-3_0_0-B1</td>\n",
       "      <td>MEX-ADM0-3_0_0-B1</td>\n",
       "      <td>MEX-ADM2-3_0_0-B3|MEX-ADM1-3_0_0-B1|MEX-ADM0-3...</td>\n",
       "      <td>POLYGON ((-102.18902 22.36240, -102.21198 22.3...</td>\n",
       "      <td>MEXr101</td>\n",
       "      <td>81.70</td>\n",
       "      <td>-0.000460</td>\n",
       "      <td>0.797</td>\n",
       "      <td>-0.007321</td>\n",
       "      <td>0.804321</td>\n",
       "      <td>0.803862</td>\n",
       "      <td>61636</td>\n",
       "      <td>376.199316</td>\n",
       "    </tr>\n",
       "    <tr>\n",
       "      <th>MEX-ADM2-3_0_0-B4</th>\n",
       "      <td>San José de Gracia</td>\n",
       "      <td>None</td>\n",
       "      <td>MEX</td>\n",
       "      <td>ADM2</td>\n",
       "      <td>MEX-ADM1-3_0_0-B1</td>\n",
       "      <td>MEX-ADM0-3_0_0-B1</td>\n",
       "      <td>MEX-ADM2-3_0_0-B4|MEX-ADM1-3_0_0-B1|MEX-ADM0-3...</td>\n",
       "      <td>POLYGON ((-102.46218 22.32281, -102.46325 22.3...</td>\n",
       "      <td>MEXr101</td>\n",
       "      <td>88.67</td>\n",
       "      <td>-0.017141</td>\n",
       "      <td>0.797</td>\n",
       "      <td>-0.007321</td>\n",
       "      <td>0.804321</td>\n",
       "      <td>0.787180</td>\n",
       "      <td>10809</td>\n",
       "      <td>866.545535</td>\n",
       "    </tr>\n",
       "    <tr>\n",
       "      <th>MEX-ADM2-3_0_0-B5</th>\n",
       "      <td>Jesús María</td>\n",
       "      <td>None</td>\n",
       "      <td>MEX</td>\n",
       "      <td>ADM2</td>\n",
       "      <td>MEX-ADM1-3_0_0-B1</td>\n",
       "      <td>MEX-ADM0-3_0_0-B1</td>\n",
       "      <td>MEX-ADM2-3_0_0-B5|MEX-ADM1-3_0_0-B1|MEX-ADM0-3...</td>\n",
       "      <td>POLYGON ((-102.31032 22.03719, -102.31940 22.0...</td>\n",
       "      <td>MEXr101</td>\n",
       "      <td>100.00</td>\n",
       "      <td>0.015477</td>\n",
       "      <td>0.797</td>\n",
       "      <td>-0.007321</td>\n",
       "      <td>0.804321</td>\n",
       "      <td>0.819798</td>\n",
       "      <td>116804</td>\n",
       "      <td>505.043857</td>\n",
       "    </tr>\n",
       "  </tbody>\n",
       "</table>\n",
       "</div>"
      ],
      "text/plain": [
       "                                   shapeName shapeISO shapeGroup shapeType  \\\n",
       "shapeID                                                                      \n",
       "MEX-ADM2-3_0_0-B1                   Asientos     None        MEX      ADM2   \n",
       "MEX-ADM2-3_0_0-B2  San Francisco de los Romo     None        MEX      ADM2   \n",
       "MEX-ADM2-3_0_0-B3            Rincón de Romos     None        MEX      ADM2   \n",
       "MEX-ADM2-3_0_0-B4         San José de Gracia     None        MEX      ADM2   \n",
       "MEX-ADM2-3_0_0-B5                Jesús María     None        MEX      ADM2   \n",
       "\n",
       "                        ADM1_shapeID       ADM0_shapeID  \\\n",
       "shapeID                                                   \n",
       "MEX-ADM2-3_0_0-B1  MEX-ADM1-3_0_0-B1  MEX-ADM0-3_0_0-B1   \n",
       "MEX-ADM2-3_0_0-B2  MEX-ADM1-3_0_0-B1  MEX-ADM0-3_0_0-B1   \n",
       "MEX-ADM2-3_0_0-B3  MEX-ADM1-3_0_0-B1  MEX-ADM0-3_0_0-B1   \n",
       "MEX-ADM2-3_0_0-B4  MEX-ADM1-3_0_0-B1  MEX-ADM0-3_0_0-B1   \n",
       "MEX-ADM2-3_0_0-B5  MEX-ADM1-3_0_0-B1  MEX-ADM0-3_0_0-B1   \n",
       "\n",
       "                                                        ADMHIERARCHY  \\\n",
       "shapeID                                                                \n",
       "MEX-ADM2-3_0_0-B1  MEX-ADM2-3_0_0-B1|MEX-ADM1-3_0_0-B1|MEX-ADM0-3...   \n",
       "MEX-ADM2-3_0_0-B2  MEX-ADM2-3_0_0-B2|MEX-ADM1-3_0_0-B1|MEX-ADM0-3...   \n",
       "MEX-ADM2-3_0_0-B3  MEX-ADM2-3_0_0-B3|MEX-ADM1-3_0_0-B1|MEX-ADM0-3...   \n",
       "MEX-ADM2-3_0_0-B4  MEX-ADM2-3_0_0-B4|MEX-ADM1-3_0_0-B1|MEX-ADM0-3...   \n",
       "MEX-ADM2-3_0_0-B5  MEX-ADM2-3_0_0-B5|MEX-ADM1-3_0_0-B1|MEX-ADM0-3...   \n",
       "\n",
       "                                                            geometry GDL_ADM1  \\\n",
       "shapeID                                                                         \n",
       "MEX-ADM2-3_0_0-B1  POLYGON ((-101.99940 22.21948, -101.99955 22.2...  MEXr101   \n",
       "MEX-ADM2-3_0_0-B2  POLYGON ((-102.19107 22.06615, -102.19091 22.0...  MEXr101   \n",
       "MEX-ADM2-3_0_0-B3  POLYGON ((-102.18902 22.36240, -102.21198 22.3...  MEXr101   \n",
       "MEX-ADM2-3_0_0-B4  POLYGON ((-102.46218 22.32281, -102.46325 22.3...  MEXr101   \n",
       "MEX-ADM2-3_0_0-B5  POLYGON ((-102.31032 22.03719, -102.31940 22.0...  MEXr101   \n",
       "\n",
       "                   percent_overlap_GDL_ADM1  predicted_dev_from_adm0  \\\n",
       "shapeID                                                                \n",
       "MEX-ADM2-3_0_0-B1                     59.83                -0.034347   \n",
       "MEX-ADM2-3_0_0-B2                    100.00                 0.015127   \n",
       "MEX-ADM2-3_0_0-B3                     81.70                -0.000460   \n",
       "MEX-ADM2-3_0_0-B4                     88.67                -0.017141   \n",
       "MEX-ADM2-3_0_0-B5                    100.00                 0.015477   \n",
       "\n",
       "                   adm1_truth  mean_of_pred_adm2_obs  adj_factor  adm2_pred  \\\n",
       "shapeID                                                                       \n",
       "MEX-ADM2-3_0_0-B1       0.797              -0.007321    0.804321   0.769975   \n",
       "MEX-ADM2-3_0_0-B2       0.797              -0.007321    0.804321   0.819448   \n",
       "MEX-ADM2-3_0_0-B3       0.797              -0.007321    0.804321   0.803862   \n",
       "MEX-ADM2-3_0_0-B4       0.797              -0.007321    0.804321   0.787180   \n",
       "MEX-ADM2-3_0_0-B5       0.797              -0.007321    0.804321   0.819798   \n",
       "\n",
       "                   total_pop  area_sq_km  \n",
       "shapeID                                   \n",
       "MEX-ADM2-3_0_0-B1      55286  548.953175  \n",
       "MEX-ADM2-3_0_0-B2      42300  139.226606  \n",
       "MEX-ADM2-3_0_0-B3      61636  376.199316  \n",
       "MEX-ADM2-3_0_0-B4      10809  866.545535  \n",
       "MEX-ADM2-3_0_0-B5     116804  505.043857  "
      ]
     },
     "execution_count": 10,
     "metadata": {},
     "output_type": "execute_result"
    }
   ],
   "source": [
    "sat.head()"
   ]
  },
  {
   "cell_type": "markdown",
   "id": "f7c8ffb9",
   "metadata": {},
   "source": [
    "#### Spatially join the datasets"
   ]
  },
  {
   "cell_type": "code",
   "execution_count": 11,
   "id": "45dd9153",
   "metadata": {},
   "outputs": [],
   "source": [
    "def get_adm2_to_census_intersection(adm2, census):\n",
    "    \n",
    "    \"\"\"\n",
    "    This function takes the two polygons and calculates the overlap, including the % overlap. \n",
    "    \n",
    "    It returns a merged geodataframe object\n",
    "    \n",
    "    \"\"\"\n",
    "    overlaps_list = []\n",
    "    percentages_list = []\n",
    "    \n",
    "    \n",
    "    for adm2_geometry in adm2[\"geometry\"]:\n",
    "        bools = census.intersects(adm2_geometry)\n",
    "        \n",
    "        overlaps = list(census[\"id\"].loc[bools])\n",
    "        \n",
    "        with warnings.catch_warnings():\n",
    "            #Ignore warnings about area calculations. We do not need \n",
    "            warnings.simplefilter(\"ignore\")\n",
    "            percentages = list(census.loc[bools].intersection(adm2_geometry).area / adm2_geometry.area)\n",
    "\n",
    "        overlaps_list.append(overlaps)\n",
    "        percentages_list.append(percentages)\n",
    "\n",
    "    adm2_copy = adm2.copy()\n",
    "    adm2_copy[\"overlaps\"] = overlaps_list\n",
    "    adm2_copy[\"percent_overlaps\"] = percentages_list\n",
    "    \n",
    "    return adm2_copy\n",
    "    "
   ]
  },
  {
   "cell_type": "code",
   "execution_count": 12,
   "id": "de9885a0",
   "metadata": {
    "scrolled": false
   },
   "outputs": [],
   "source": [
    "out = get_adm2_to_census_intersection(sat, census_shape)"
   ]
  },
  {
   "cell_type": "code",
   "execution_count": 13,
   "id": "cf882845",
   "metadata": {},
   "outputs": [
    {
     "data": {
      "text/plain": [
       "<AxesSubplot:>"
      ]
     },
     "execution_count": 13,
     "metadata": {},
     "output_type": "execute_result"
    },
    {
     "data": {
      "image/png": "[encoded data removed]",
      "text/plain": [
       "<Figure size 640x480 with 1 Axes>"
      ]
     },
     "metadata": {},
     "output_type": "display_data"
    }
   ],
   "source": [
    "out[\"percent_overlaps\"].apply(max).hist()"
   ]
  },
  {
   "cell_type": "code",
   "execution_count": 14,
   "id": "32dcaeea",
   "metadata": {},
   "outputs": [
    {
     "data": {
      "text/plain": [
       "0.7924573250561853"
      ]
     },
     "execution_count": 14,
     "metadata": {},
     "output_type": "execute_result"
    }
   ],
   "source": [
    "## The smallest intersection is 80%. This is great.\n",
    "\n",
    "out[\"percent_overlaps\"].apply(max).min()"
   ]
  },
  {
   "cell_type": "code",
   "execution_count": 15,
   "id": "3a5bdad0",
   "metadata": {},
   "outputs": [],
   "source": [
    "arg_maxes = out[\"percent_overlaps\"].apply(np.argmax)\n",
    "final_overlap_percentages = [out[\"percent_overlaps\"].iloc[i][item] for i,item in enumerate(arg_maxes)]\n",
    "final_overlap_code = [out[\"overlaps\"].iloc[i][item] for i,item in enumerate(arg_maxes)]"
   ]
  },
  {
   "cell_type": "code",
   "execution_count": 16,
   "id": "bb2d40b3",
   "metadata": {},
   "outputs": [],
   "source": [
    "sat[\"census_code\"] = final_overlap_code \n",
    "sat[\"overlap_perc\"] = final_overlap_percentages"
   ]
  },
  {
   "cell_type": "markdown",
   "id": "d35409bf",
   "metadata": {},
   "source": [
    "### Let's make sure the names appear the same as well"
   ]
  },
  {
   "cell_type": "code",
   "execution_count": 17,
   "id": "fd2a8a28",
   "metadata": {},
   "outputs": [],
   "source": [
    "sat_names = sat[\"shapeName\"]"
   ]
  },
  {
   "cell_type": "code",
   "execution_count": 18,
   "id": "8d4d36f6",
   "metadata": {},
   "outputs": [],
   "source": [
    "census_names = census_shape.set_index(\"id\").loc[sat[\"census_code\"]][\"NOM_MUN\"]"
   ]
  },
  {
   "cell_type": "code",
   "execution_count": 19,
   "id": "9ee68e25",
   "metadata": {},
   "outputs": [],
   "source": [
    "#sat_names[~(sat_names.to_numpy() == census_names.to_numpy())]"
   ]
  },
  {
   "cell_type": "code",
   "execution_count": 20,
   "id": "823aa5f9",
   "metadata": {},
   "outputs": [],
   "source": [
    "#census_names[~(sat_names.to_numpy() == census_names.to_numpy())]"
   ]
  },
  {
   "cell_type": "markdown",
   "id": "9ba0b04e",
   "metadata": {},
   "source": [
    "These match very well. The only concerning is Benito Juárez and Puerto Morelos. They overlap 97% however, which indicats that the name may be entered incorrectly in the ADM2 data. Since they are geographically the same, we will not drop."
   ]
  },
  {
   "cell_type": "markdown",
   "id": "f9bc06aa",
   "metadata": {},
   "source": [
    "## Now we can compare performance"
   ]
  },
  {
   "cell_type": "code",
   "execution_count": 21,
   "id": "98908d16",
   "metadata": {},
   "outputs": [],
   "source": [
    "data = sat[[\"shapeName\",\"shapeGroup\",\"ADM1_shapeID\",\"census_code\",\"total_pop\"]].reset_index()"
   ]
  },
  {
   "cell_type": "code",
   "execution_count": 22,
   "id": "96b85bd6",
   "metadata": {},
   "outputs": [],
   "source": [
    "data = data.merge(census,\"left\", left_on=\"census_code\", right_on=\"code\")"
   ]
  },
  {
   "cell_type": "code",
   "execution_count": 23,
   "id": "871d1125",
   "metadata": {},
   "outputs": [],
   "source": [
    "data = data.merge(sat[[\"adm2_pred\",\"GDL_ADM1\",\"adm1_truth\"]],\n",
    "                  \"left\", left_on=\"shapeID\", right_index=True)"
   ]
  },
  {
   "cell_type": "code",
   "execution_count": 24,
   "id": "4d7f0344",
   "metadata": {},
   "outputs": [
    {
     "name": "stdout",
     "output_type": "stream",
     "text": [
      "We dont have preds for 1 ADM2 observations. These will be dropped\n",
      "This is 0.04 % of the data.\n"
     ]
    }
   ],
   "source": [
    "null_count = data[\"adm2_pred\"].isnull().sum() + data[\"mhdi\"].isnull().sum()\n",
    "\n",
    "print(\"We dont have preds for\", null_count, \"ADM2 observations. These will be dropped\")\n",
    "\n",
    "print(\"This is\", round(null_count/len(data) * 100,2), \"% of the data.\")"
   ]
  },
  {
   "cell_type": "code",
   "execution_count": 25,
   "id": "327cbc55",
   "metadata": {},
   "outputs": [],
   "source": [
    "data.dropna(subset = [\"adm2_pred\", \"mhdi\"], inplace=True)"
   ]
  },
  {
   "cell_type": "code",
   "execution_count": 26,
   "id": "cf9bb346",
   "metadata": {},
   "outputs": [],
   "source": [
    "data[\"within_adm0_true\"] = data[\"mhdi\"] - data[\"mhdi\"].mean()\n",
    "data[\"within_adm0_pred\"] = data[\"adm2_pred\"] - data[\"adm2_pred\"].mean()"
   ]
  },
  {
   "cell_type": "markdown",
   "id": "dc81d683",
   "metadata": {},
   "source": [
    "## Now we need to look within ADM1"
   ]
  },
  {
   "cell_type": "code",
   "execution_count": 27,
   "id": "721a9353",
   "metadata": {},
   "outputs": [],
   "source": [
    "adm1_pred_means = data.groupby(\"GDL_ADM1\")[\"adm2_pred\"].mean().rename(\"adm1_pred_mean\")\n",
    "adm1_true_means = data.groupby(\"GDL_ADM1\")[\"mhdi\"].mean().rename(\"adm1_true_mean\")"
   ]
  },
  {
   "cell_type": "code",
   "execution_count": 28,
   "id": "330edea4",
   "metadata": {},
   "outputs": [],
   "source": [
    "data = data.merge(adm1_pred_means, \"left\", left_on=\"GDL_ADM1\", right_index=True)\n",
    "data = data.merge(adm1_true_means, \"left\", left_on=\"GDL_ADM1\", right_index=True)"
   ]
  },
  {
   "cell_type": "code",
   "execution_count": 29,
   "id": "489a78b8",
   "metadata": {},
   "outputs": [],
   "source": [
    "data[\"within_adm1_pred\"] = data[\"adm2_pred\"] - data[\"adm1_pred_mean\"]\n",
    "data[\"within_adm1_true\"] = data[\"mhdi\"] - data[\"adm1_true_mean\"]"
   ]
  },
  {
   "cell_type": "code",
   "execution_count": 30,
   "id": "b09613ab",
   "metadata": {},
   "outputs": [],
   "source": [
    "data.to_pickle(data_dir + \"preds/mexico_pred_and_observed.p\")"
   ]
  },
  {
   "cell_type": "markdown",
   "id": "1bd1f9d7",
   "metadata": {},
   "source": [
    "### Now we make a performance table"
   ]
  },
  {
   "cell_type": "code",
   "execution_count": 31,
   "id": "ce3fc139",
   "metadata": {},
   "outputs": [],
   "source": [
    "all_model_preds = pd.read_pickle(data_dir + \"preds/hdi_preds_from_all_models_at_adm2.p\").loc[data[\"shapeID\"]]"
   ]
  },
  {
   "cell_type": "code",
   "execution_count": 32,
   "id": "0d2dafe5",
   "metadata": {},
   "outputs": [],
   "source": [
    "all_model_preds = all_model_preds.merge(data.set_index(\"shapeID\")[[\"GDL_ADM1\",\"mhdi\"]], \"left\", left_index=True, right_index=True)"
   ]
  },
  {
   "cell_type": "code",
   "execution_count": 33,
   "id": "79da98b2",
   "metadata": {},
   "outputs": [
    {
     "name": "stderr",
     "output_type": "stream",
     "text": [
      "/home/lsherman/miniconda3/envs/hdi/lib/python3.7/site-packages/ipykernel_launcher.py:1: FutureWarning: Dropping of nuisance columns in DataFrame reductions (with 'numeric_only=None') is deprecated; in a future version this will raise TypeError.  Select only valid columns before calling the reduction.\n",
      "  \"\"\"Entry point for launching an IPython kernel.\n"
     ]
    },
    {
     "data": {
      "text/plain": [
       "rcf_and_nl_cc_preds        0.063446\n",
       "rcf_cc_preds               0.088614\n",
       "nl_cc_preds                0.121603\n",
       "adm0_rcf_and_nl_preds      0.107296\n",
       "adm0_rcf_preds             0.168883\n",
       "adm0_nl_preds              0.175912\n",
       "within_rcf_and_nl_preds    0.047109\n",
       "within_rcf_preds           0.050891\n",
       "within_nl_preds            0.047461\n",
       "mhdi                       0.097229\n",
       "dtype: float64"
      ]
     },
     "execution_count": 33,
     "metadata": {},
     "output_type": "execute_result"
    }
   ],
   "source": [
    "all_model_preds.std()"
   ]
  },
  {
   "cell_type": "code",
   "execution_count": 34,
   "id": "400ee24b",
   "metadata": {},
   "outputs": [],
   "source": [
    "def get_perf_metrics(col, df, truth_col=\"mhdi\"):\n",
    "    perf = {}\n",
    "    \n",
    "    within_adm0_true = df[truth_col] - df[truth_col].mean()\n",
    "    within_adm0_pred = df[col] - df[col].mean()\n",
    "    \n",
    "    perf[\"within_adm0_pearson\"] = np.corrcoef( within_adm0_true,within_adm0_pred )[0,1] **2\n",
    "    perf[\"within_adm0_spearman\"] = spearmanr(within_adm0_true,within_adm0_pred ).correlation\n",
    "    perf[\"within_adm0_r2\"]  = sklearn.metrics.r2_score(within_adm0_true,within_adm0_pred )\n",
    "    \n",
    "    grouped = all_model_preds.groupby(\"GDL_ADM1\")[[col, truth_col]].mean().rename(columns = {col:\"adm1_pred_grouped_mean\", \n",
    "                                                                              truth_col:\"adm1_truth_grouped_mean\"})\n",
    "    df = df.merge(grouped, \"left\", left_on=\"GDL_ADM1\", right_index=True )\n",
    "    \n",
    "    within_adm1_true = df[truth_col] - df[\"adm1_truth_grouped_mean\"]\n",
    "    within_adm1_pred = df[col] - df[\"adm1_pred_grouped_mean\"]\n",
    "    \n",
    "    perf[\"within_adm1_pearson\"] = np.corrcoef( within_adm1_true,within_adm1_pred )[0,1] **2\n",
    "    perf[\"within_adm1_spearman\"] = spearmanr(within_adm1_true,within_adm1_pred ).correlation\n",
    "    perf[\"within_adm1_r2\"]  = sklearn.metrics.r2_score(within_adm1_true,within_adm1_pred )\n",
    "    \n",
    "    return perf\n",
    "    \n",
    "    \n",
    "    \n",
    "    \n"
   ]
  },
  {
   "cell_type": "code",
   "execution_count": 35,
   "id": "1624200d",
   "metadata": {},
   "outputs": [],
   "source": [
    "perf_dict = {}\n",
    "for col in all_model_preds.columns[:-2]:\n",
    "    perf_dict[col] = get_perf_metrics(col, all_model_preds)\n",
    "\n",
    "    "
   ]
  },
  {
   "cell_type": "markdown",
   "id": "ccd02e73",
   "metadata": {},
   "source": [
    "### Create output table"
   ]
  },
  {
   "cell_type": "code",
   "execution_count": 36,
   "id": "8b9a5c0e",
   "metadata": {},
   "outputs": [],
   "source": [
    "rename_dict = { \"within_adm0_pearson\": \"$\\rho^{2}$\", \"within_adm0_spearman\":\"Spearman r\", \"within_adm0_r2\":\"$R^{2}$\",\n",
    "               \"within_adm1_pearson\": \"$\\rho^{2}$\", \"within_adm1_spearman\":\"Spearman r\", \"within_adm1_r2\":\"$R^{2}$\"}"
   ]
  },
  {
   "cell_type": "code",
   "execution_count": 37,
   "id": "a651eda6",
   "metadata": {},
   "outputs": [],
   "source": [
    "table = pd.DataFrame(perf_dict).T.round(2)\n",
    "table[table <= 0] = \"$< 0$\"\n",
    "table = table.rename(columns = rename_dict)"
   ]
  },
  {
   "cell_type": "code",
   "execution_count": 38,
   "id": "535deb0a",
   "metadata": {},
   "outputs": [
    {
     "name": "stderr",
     "output_type": "stream",
     "text": [
      "/home/lsherman/miniconda3/envs/hdi/lib/python3.7/site-packages/pandas/core/indexing.py:719: FutureWarning: Slicing a positional slice with .loc is not supported, and will raise TypeError in a future version.  Use .loc with labels or .iloc with positions instead.\n",
      "  indexer = self._get_setitem_indexer(key)\n"
     ]
    },
    {
     "data": {
      "text/html": [
       "<div>\n",
       "<style scoped>\n",
       "    .dataframe tbody tr th:only-of-type {\n",
       "        vertical-align: middle;\n",
       "    }\n",
       "\n",
       "    .dataframe tbody tr th {\n",
       "        vertical-align: top;\n",
       "    }\n",
       "\n",
       "    .dataframe thead tr th {\n",
       "        text-align: left;\n",
       "    }\n",
       "\n",
       "    .dataframe thead tr:last-of-type th {\n",
       "        text-align: right;\n",
       "    }\n",
       "</style>\n",
       "<table border=\"1\" class=\"dataframe\">\n",
       "  <thead>\n",
       "    <tr>\n",
       "      <th></th>\n",
       "      <th></th>\n",
       "      <th colspan=\"4\" halign=\"left\">\\textbf{Predicted at municipality level in Mexico (n=2,457)</th>\n",
       "    </tr>\n",
       "    <tr>\n",
       "      <th></th>\n",
       "      <th></th>\n",
       "      <th colspan=\"2\" halign=\"left\">\\emph{Within-country performance}</th>\n",
       "      <th colspan=\"2\" halign=\"left\">\\emph{Within-province performance}</th>\n",
       "    </tr>\n",
       "    <tr>\n",
       "      <th></th>\n",
       "      <th></th>\n",
       "      <th>$\\rho^{2}$</th>\n",
       "      <th>$R^{2}$</th>\n",
       "      <th>$\\rho^{2}$</th>\n",
       "      <th>$R^{2}$</th>\n",
       "    </tr>\n",
       "    <tr>\n",
       "      <th></th>\n",
       "      <th></th>\n",
       "      <th>(1)</th>\n",
       "      <th>(2)</th>\n",
       "      <th>(3)</th>\n",
       "      <th>(4)</th>\n",
       "    </tr>\n",
       "    <tr>\n",
       "      <th>\\emph{ \textbf{HDI trained at:}}</th>\n",
       "      <th>\\emph{ \textbf{Features}}</th>\n",
       "      <th></th>\n",
       "      <th></th>\n",
       "      <th></th>\n",
       "      <th></th>\n",
       "    </tr>\n",
       "  </thead>\n",
       "  <tbody>\n",
       "    <tr>\n",
       "      <th rowspan=\"3\" valign=\"top\">\\textbf{Within-country}</th>\n",
       "      <th>\\textbf{MOSAIKS+NL}</th>\n",
       "      <td>0.5</td>\n",
       "      <td>0.45</td>\n",
       "      <td>0.31</td>\n",
       "      <td>0.29</td>\n",
       "    </tr>\n",
       "    <tr>\n",
       "      <th>\\textbf{MOSAIKS}</th>\n",
       "      <td>0.41</td>\n",
       "      <td>0.4</td>\n",
       "      <td>0.21</td>\n",
       "      <td>0.21</td>\n",
       "    </tr>\n",
       "    <tr>\n",
       "      <th>\\textbf{NL}</th>\n",
       "      <td>0.58</td>\n",
       "      <td>0.5</td>\n",
       "      <td>0.44</td>\n",
       "      <td>0.38</td>\n",
       "    </tr>\n",
       "    <tr>\n",
       "      <th rowspan=\"3\" valign=\"top\">\\textbf{Province level}</th>\n",
       "      <th>\\textbf{MOSAIKS+NL}</th>\n",
       "      <td>0.31</td>\n",
       "      <td>0.31</td>\n",
       "      <td>0.26</td>\n",
       "      <td>0.23</td>\n",
       "    </tr>\n",
       "    <tr>\n",
       "      <th>\\textbf{MOSAIKS}</th>\n",
       "      <td>0.3</td>\n",
       "      <td>0.16</td>\n",
       "      <td>0.22</td>\n",
       "      <td>$&lt; 0$</td>\n",
       "    </tr>\n",
       "    <tr>\n",
       "      <th>\\textbf{NL}</th>\n",
       "      <td>0.29</td>\n",
       "      <td>$&lt; 0$</td>\n",
       "      <td>0.25</td>\n",
       "      <td>$&lt; 0$</td>\n",
       "    </tr>\n",
       "    <tr>\n",
       "      <th rowspan=\"3\" valign=\"top\">\\textbf{Country level}</th>\n",
       "      <th>\\textbf{MOSAIKS+NL}</th>\n",
       "      <td>0.16</td>\n",
       "      <td>$&lt; 0$</td>\n",
       "      <td>0.14</td>\n",
       "      <td>$&lt; 0$</td>\n",
       "    </tr>\n",
       "    <tr>\n",
       "      <th>\\textbf{MOSAIKS}</th>\n",
       "      <td>0.16</td>\n",
       "      <td>$&lt; 0$</td>\n",
       "      <td>0.12</td>\n",
       "      <td>$&lt; 0$</td>\n",
       "    </tr>\n",
       "    <tr>\n",
       "      <th>\\textbf{NL}</th>\n",
       "      <td>0.34</td>\n",
       "      <td>$&lt; 0$</td>\n",
       "      <td>0.3</td>\n",
       "      <td>$&lt; 0$</td>\n",
       "    </tr>\n",
       "  </tbody>\n",
       "</table>\n",
       "</div>"
      ],
      "text/plain": [
       "                                                           \\textbf{Predicted at municipality level in Mexico (n=2,457)  \\\n",
       "                                                                                     \\emph{Within-country performance}   \n",
       "                                                                                                            $\\rho^{2}$   \n",
       "                                                                                                                   (1)   \n",
       "\\emph{ \\textbf{HDI trained at:}} \\emph{ \\textbf{Features}}                                                               \n",
       "\\textbf{Within-country}          \\textbf{MOSAIKS+NL}                                                      0.5            \n",
       "                                 \\textbf{MOSAIKS}                                                        0.41            \n",
       "                                 \\textbf{NL}                                                             0.58            \n",
       "\\textbf{Province level}          \\textbf{MOSAIKS+NL}                                                     0.31            \n",
       "                                 \\textbf{MOSAIKS}                                                         0.3            \n",
       "                                 \\textbf{NL}                                                             0.29            \n",
       "\\textbf{Country level}           \\textbf{MOSAIKS+NL}                                                     0.16            \n",
       "                                 \\textbf{MOSAIKS}                                                        0.16            \n",
       "                                 \\textbf{NL}                                                             0.34            \n",
       "\n",
       "                                                                    \\\n",
       "                                                                     \n",
       "                                                           $R^{2}$   \n",
       "                                                               (2)   \n",
       "\\emph{ \\textbf{HDI trained at:}} \\emph{ \\textbf{Features}}           \n",
       "\\textbf{Within-country}          \\textbf{MOSAIKS+NL}          0.45   \n",
       "                                 \\textbf{MOSAIKS}              0.4   \n",
       "                                 \\textbf{NL}                   0.5   \n",
       "\\textbf{Province level}          \\textbf{MOSAIKS+NL}          0.31   \n",
       "                                 \\textbf{MOSAIKS}             0.16   \n",
       "                                 \\textbf{NL}                 $< 0$   \n",
       "\\textbf{Country level}           \\textbf{MOSAIKS+NL}         $< 0$   \n",
       "                                 \\textbf{MOSAIKS}            $< 0$   \n",
       "                                 \\textbf{NL}                 $< 0$   \n",
       "\n",
       "                                                                                               \\\n",
       "                                                           \\emph{Within-province performance}   \n",
       "                                                                                   $\\rho^{2}$   \n",
       "                                                                                          (3)   \n",
       "\\emph{ \\textbf{HDI trained at:}} \\emph{ \\textbf{Features}}                                      \n",
       "\\textbf{Within-country}          \\textbf{MOSAIKS+NL}                                     0.31   \n",
       "                                 \\textbf{MOSAIKS}                                        0.21   \n",
       "                                 \\textbf{NL}                                             0.44   \n",
       "\\textbf{Province level}          \\textbf{MOSAIKS+NL}                                     0.26   \n",
       "                                 \\textbf{MOSAIKS}                                        0.22   \n",
       "                                 \\textbf{NL}                                             0.25   \n",
       "\\textbf{Country level}           \\textbf{MOSAIKS+NL}                                     0.14   \n",
       "                                 \\textbf{MOSAIKS}                                        0.12   \n",
       "                                 \\textbf{NL}                                              0.3   \n",
       "\n",
       "                                                                    \n",
       "                                                                    \n",
       "                                                           $R^{2}$  \n",
       "                                                               (4)  \n",
       "\\emph{ \\textbf{HDI trained at:}} \\emph{ \\textbf{Features}}          \n",
       "\\textbf{Within-country}          \\textbf{MOSAIKS+NL}          0.29  \n",
       "                                 \\textbf{MOSAIKS}             0.21  \n",
       "                                 \\textbf{NL}                  0.38  \n",
       "\\textbf{Province level}          \\textbf{MOSAIKS+NL}          0.23  \n",
       "                                 \\textbf{MOSAIKS}            $< 0$  \n",
       "                                 \\textbf{NL}                 $< 0$  \n",
       "\\textbf{Country level}           \\textbf{MOSAIKS+NL}         $< 0$  \n",
       "                                 \\textbf{MOSAIKS}            $< 0$  \n",
       "                                 \\textbf{NL}                 $< 0$  "
      ]
     },
     "execution_count": 38,
     "metadata": {},
     "output_type": "execute_result"
    }
   ],
   "source": [
    "table.loc[0:3,\"Mexico HDI\"] = \"\\textbf{Province level}\"\n",
    "table.loc[3:6,\"Mexico HDI\"] = \"\\textbf{Country level}\"\n",
    "table.loc[6:10,\"Mexico HDI\"] = \"\\textbf{Within-country}\"\n",
    "\n",
    "table.loc[0:3,\"\"] = [\"\\textbf{MOSAIKS+NL}\",\"\\textbf{MOSAIKS}\",\"\\textbf{NL}\"]\n",
    "table.loc[3:6,\"\"] = [\"\\textbf{MOSAIKS+NL}\",\"\\textbf{MOSAIKS}\",\"\\textbf{NL}\"]\n",
    "table.loc[6:9,\"\"] = [\"\\textbf{MOSAIKS+NL}\",\"\\textbf{MOSAIKS}\",\"\\textbf{NL}\"]\n",
    "\n",
    "table.loc[9] = \"\\textbf{Predicted at municipality level in Mexico\" +  \" (n={:,})\".format(len(data))\n",
    "\n",
    "table.loc[10] = \"\\emph{Within-country performance}\"\n",
    "table.iloc[10,3:6] = \"\\emph{Within-province performance}\"\n",
    "\n",
    "table.drop(columns=\"Spearman r\", inplace=True)\n",
    "\n",
    "table.loc[11] = (\"(\" + pd.Series(np.arange(1,table.shape[1]+1)).astype(str) +\")\").to_numpy()\n",
    "\n",
    "table = table.T.reset_index().set_index([9,10,\"index\",11])\n",
    "\n",
    "tab = table.T\n",
    "\n",
    "tab.columns.names = ([None, None, None,None])\n",
    "\n",
    "table = tab.set_index([tab.columns[-2],tab.columns[-1]])\n",
    "\n",
    "table.index.names =[\"\\emph{ \\textbf{\" + \"HDI\" + \" trained at:}}\", \"\\emph{ \\textbf{Features}}\"]\n",
    "table = table.iloc[[6,7,8,0,1,2,3,4,5]]\n",
    "table"
   ]
  },
  {
   "cell_type": "code",
   "execution_count": 39,
   "id": "d7de55d5",
   "metadata": {},
   "outputs": [],
   "source": [
    "table.insert(0,\"\\phantom{TT}\",\"\")\n",
    "table.insert(0,\"\\phantom{TT.}\",\"\")"
   ]
  },
  {
   "cell_type": "code",
   "execution_count": 40,
   "id": "a35f5cbe",
   "metadata": {},
   "outputs": [
    {
     "name": "stdout",
     "output_type": "stream",
     "text": [
      "\\begin{tabular}{ll||cc|cc|cc}\n",
      "\\toprule\n",
      "                       &             & \\phantom{TT.} & \\phantom{TT} & \\multicolumn{4}{c}{\\textbf{Predicted at municipality level in Mexico (n=2,457)} \\\\\n",
      "                       &             & \\multicolumn{2}{c}{\\emph{Within-country performance}} & \\multicolumn{2}{c}{\\emph{Within-province performance}} \\\\\n",
      "                       &             &                                                  $\\rho^{2}$ & $R^{2}$ &                         $\\rho^{2}$ & $R^{2}$ \\\\\n",
      "                       &             &                                                         (1) &     (2) &                                (3) &     (4) \\\\\n",
      "\\emph{ \\textbf{HDI trained at:}} & \\emph{ \\textbf{Features}} &               &              &                                                             &         &                                    &         \\\\\n",
      "\\midrule\n",
      "\\textbf{Within-country} & \\textbf{MOSAIKS+NL} &               &              &                                                0.5 &    0.45 &                               0.31 &    0.29 \\\\\n",
      "                       & \\textbf{MOSAIKS} &               &              &                                               0.41 &     0.4 &                               0.21 &    0.21 \\\\\n",
      "                       & \\textbf{NL} &               &              &                                               0.58 &     0.5 &                               0.44 &    0.38 \\\\\n",
      "\\textbf{Province level} & \\textbf{MOSAIKS+NL} &               &              &                                               0.31 &    0.31 &                               0.26 &    0.23 \\\\\n",
      "                       & \\textbf{MOSAIKS} &               &              &                                                0.3 &    0.16 &                               0.22 &   $< 0$ \\\\\n",
      "                       & \\textbf{NL} &               &              &                                               0.29 &   $< 0$ &                               0.25 &   $< 0$ \\\\\n",
      "\\textbf{Country level} & \\textbf{MOSAIKS+NL} &               &              &                                               0.16 &   $< 0$ &                               0.14 &   $< 0$ \\\\\n",
      "                       & \\textbf{MOSAIKS} &               &              &                                               0.16 &   $< 0$ &                               0.12 &   $< 0$ \\\\\n",
      "                       & \\textbf{NL} &               &              &                                               0.34 &   $< 0$ &                                0.3 &   $< 0$ \\\\\n",
      "\\bottomrule\n",
      "\\end{tabular}\n",
      "\n"
     ]
    }
   ],
   "source": [
    "print(table.to_latex(bold_rows=False,column_format=\"ll||cc|cc|cc\",\n",
    "          escape=False, multicolumn_format=\"c\"))"
   ]
  },
  {
   "cell_type": "code",
   "execution_count": null,
   "id": "dcd09fb2",
   "metadata": {},
   "outputs": [],
   "source": []
  },
  {
   "cell_type": "code",
   "execution_count": null,
   "id": "a1534673",
   "metadata": {},
   "outputs": [],
   "source": []
  }
 ],
 "metadata": {
  "kernelspec": {
   "display_name": "Python 3 (ipykernel)",
   "language": "python",
   "name": "python3"
  },
  "language_info": {
   "codemirror_mode": {
    "name": "ipython",
    "version": 3
   },
   "file_extension": ".py",
   "mimetype": "text/x-python",
   "name": "python",
   "nbconvert_exporter": "python",
   "pygments_lexer": "ipython3",
   "version": "3.7.15"
  }
 },
 "nbformat": 4,
 "nbformat_minor": 5
}

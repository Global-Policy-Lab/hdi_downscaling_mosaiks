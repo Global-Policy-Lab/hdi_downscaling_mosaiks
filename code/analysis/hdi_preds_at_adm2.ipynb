{
 "cells": [
  {
   "cell_type": "code",
   "execution_count": 1,
   "id": "3c7728f0",
   "metadata": {},
   "outputs": [],
   "source": [
    "import os\n",
    "\n",
    "repo_dir = os.environ.get(\"REPO_DIR\")\n",
    "code_dir = os.path.join(repo_dir, \"code/\")\n",
    "data_dir = os.path.join(repo_dir, \"data/\")\n",
    "\n",
    "os.chdir(code_dir)\n",
    "\n",
    "import matplotlib.pyplot as plt\n",
    "import numpy as np\n",
    "import scipy.linalg\n",
    "import pickle\n",
    "import sklearn \n",
    "import sys\n",
    "import pandas as pd\n",
    "from importlib import reload\n",
    "\n",
    "from sklearn.model_selection import KFold\n",
    "from sklearn.linear_model import Ridge\n",
    "import seaborn as sns\n",
    "\n",
    "from scipy.stats import spearmanr\n",
    "\n",
    "import geopandas as gpd\n",
    "\n",
    "import warnings\n",
    "\n",
    "from mosaiks.utils.imports import *\n",
    "\n",
    "# Key prediction functions are here\n",
    "from analysis.prediction_utils import (X_matrix_to_demeaned_X,df_to_demeaned_y_vars,\n",
    "make_train_pred_scatterplot as make_scatterplot, cv_solve, solver_kwargs, get_truth_preds_from_kfold_results,\n",
    "                             predict_y_from_kfold_dict, generalized_demean)"
   ]
  },
  {
   "cell_type": "markdown",
   "id": "25c1cf57",
   "metadata": {},
   "source": [
    "### Generate ADM2 preds of HDI\n",
    "\n",
    "Methodologically, we match the methods using the NL and IWI downscaling experiments"
   ]
  },
  {
   "cell_type": "code",
   "execution_count": 2,
   "id": "e5d1c57e",
   "metadata": {},
   "outputs": [],
   "source": [
    "task = \"Sub-national HDI\"\n",
    "\n",
    "model_directory = data_dir + \"/model_data/\"\n",
    "\n",
    "pop_df = pd.read_pickle(data_dir + \"/int/GHS_pop/pop_count_sums_for_ADM2_polygons.p\")"
   ]
  },
  {
   "cell_type": "code",
   "execution_count": 3,
   "id": "a6a31f74",
   "metadata": {},
   "outputs": [],
   "source": [
    "path = (model_directory+\n",
    "           \"within_country_rcf_and_nl_demeaned_solve_all_outcomes_country_fold\"\n",
    "           \"_DENSE_pop_weight=GHS_VIIRS_hist_bins_GHS_pop_weighted.pkl\")\n",
    "\n",
    "nl_and_rcf_demeaned_kfold_dict = pickle.load(open(path, \"rb\"))"
   ]
  },
  {
   "cell_type": "code",
   "execution_count": 4,
   "id": "0b970c5e",
   "metadata": {},
   "outputs": [],
   "source": [
    "mosaiks_features_direc = data_dir + \"/features/mosaiks_features/\"\n",
    "X_adm2 = pd.read_pickle(mosaiks_features_direc + \"ADM_2_regions_RCF_global_dense_GHS_POP_pop_weight=True.p\").drop(columns = \"shapeID\")\n",
    "X_adm1 = pd.read_pickle(mosaiks_features_direc + \"ADM_2_regions_RCF_global_dense_aggregated_to_ADM1_GHS_POP_pop_weight=True.p\")\n",
    "\n",
    "\n",
    "X_adm0_not_weighted =X_matrix_to_demeaned_X(X_adm1, return_mean_frame = True)\n",
    "\n",
    "X_adm2[\"shapeGroup\"] = pd.Series(X_adm2.index).apply(lambda x : x[:3]).to_numpy()\n",
    "X_adm2_demeaned = generalized_demean(X_adm2, X_adm0_not_weighted, \"shapeGroup\")\n",
    "\n",
    "X_adm2.drop(columns = \"shapeGroup\", inplace=True)\n"
   ]
  },
  {
   "cell_type": "code",
   "execution_count": 5,
   "id": "d0a8e130",
   "metadata": {},
   "outputs": [],
   "source": [
    "nl_features_direc = data_dir + \"features/nl_features/\""
   ]
  },
  {
   "cell_type": "code",
   "execution_count": 6,
   "id": "7e834a9a",
   "metadata": {},
   "outputs": [
    {
     "data": {
      "text/plain": [
       "['GDL_ADM0_polygons', 'geoBoundaries_ADM2', 'GDL_HDI_polygons', 'DHS_polygons']"
      ]
     },
     "execution_count": 6,
     "metadata": {},
     "output_type": "execute_result"
    }
   ],
   "source": [
    "os.listdir(nl_features_direc)"
   ]
  },
  {
   "cell_type": "code",
   "execution_count": 7,
   "id": "a50b513d",
   "metadata": {},
   "outputs": [],
   "source": [
    "nl_adm1 = pd.read_pickle(nl_features_direc +\n",
    "                         \"GDL_HDI_polygons/viirs_percentile_binned_feats_GHS_pop_weighted_rasterio_method.p\")\n",
    "nl_adm2 = pd.read_pickle(nl_features_direc + \n",
    "                         \"geoBoundaries_ADM2/viirs_geoBoundaries_ADM2_percentile_binned_feats_GHS_pop_weighted_rasterio_method.p\")\n",
    "\n",
    "\n",
    "nl_adm2[\"shapeGroup\"] = pd.Series(nl_adm2.index).apply(lambda x : x[:3]).to_numpy()"
   ]
  },
  {
   "cell_type": "code",
   "execution_count": 8,
   "id": "bc40f424",
   "metadata": {},
   "outputs": [],
   "source": [
    "## Make demeaned nl feats at ADM2\n",
    "### Make demeaned X_adm2\n",
    "\n",
    "nl_adm0_not_weighted = X_matrix_to_demeaned_X(nl_adm1, return_mean_frame = True)\n",
    "\n",
    "nl_adm2_demean = generalized_demean(nl_adm2, nl_adm0_not_weighted, \"shapeGroup\")\n",
    "\n",
    "nl_adm2_demean = nl_adm2_demean.loc[X_adm2_demeaned.index]\n",
    "\n",
    "\n",
    "nl_adm2.drop(columns = \"shapeGroup\", inplace=True)\n",
    "nl_adm2 = nl_adm2.loc[X_adm2.index]"
   ]
  },
  {
   "cell_type": "markdown",
   "id": "82751e91",
   "metadata": {},
   "source": [
    "## Now we can generate predictions"
   ]
  },
  {
   "cell_type": "code",
   "execution_count": 9,
   "id": "84cee08f",
   "metadata": {},
   "outputs": [],
   "source": [
    "predicted_deviations_from_adm0_mean = predict_y_from_kfold_dict(X_adm2_demeaned,\n",
    "                                                                nl_and_rcf_demeaned_kfold_dict,\n",
    "                                                               task,\n",
    "                                                               nl_adm2_demean)"
   ]
  },
  {
   "cell_type": "markdown",
   "id": "1dd2391a",
   "metadata": {},
   "source": [
    "### We pull from the notebook that hierachally links ADM1 and ADM2 shapefiles"
   ]
  },
  {
   "cell_type": "code",
   "execution_count": 10,
   "id": "8d977beb",
   "metadata": {},
   "outputs": [],
   "source": [
    "path = data_dir + \"/int/ADM2_to_GDL_link/adm2_polygons_linked_to_GDL_adm1.p\"\n",
    "adm2_shp = pd.read_pickle(path)\n",
    "\n",
    "gpdf = pd.read_pickle(data_dir + \"/int/GDL_HDI/HDI_ADM1_shapefile_clean.p\")\n",
    "\n",
    "raw = pd.read_pickle( (data_dir + \"/int/GDL_HDI/\"\n",
    "                     \"HDI_indicators_and_indices_clean.p\") )"
   ]
  },
  {
   "cell_type": "code",
   "execution_count": 11,
   "id": "034d2723",
   "metadata": {},
   "outputs": [],
   "source": [
    "#compare size of polygons here\n",
    "\n",
    "#adm2.to_crs({'init': 'epsg:6933'})[\"geometry\"].area.mean()/1e6\n",
    "# gpdf.crs = {\"init\": \"EPSG:4326\"}\n",
    "# gpdf.to_crs({'init': 'epsg:6933'})[\"geometry\"].area.mean()/1e6"
   ]
  },
  {
   "cell_type": "code",
   "execution_count": 12,
   "id": "f147e2ac",
   "metadata": {},
   "outputs": [],
   "source": [
    "# gpdf.crs = {\"init\": \"EPSG:4326\"}\n",
    "# gpdf.to_crs({'init': 'epsg:6933'})[\"geometry\"].area.mean()/1e6"
   ]
  },
  {
   "cell_type": "code",
   "execution_count": 13,
   "id": "22d8a118",
   "metadata": {},
   "outputs": [],
   "source": [
    "adm2_shp = adm2_shp.merge(predicted_deviations_from_adm0_mean.rename(\"predicted_dev_from_adm0\"), \n",
    "                                                          \"left\", \n",
    "                                                          left_on = \"shapeID\", right_index=True)\n",
    "\n",
    "adm2_shp = adm2_shp.merge(raw[task].rename(\"adm1_mean\"),\n",
    "                          \"left\", left_on=\"GDL_ADM1\", right_index=True)\n",
    "\n",
    "adm1_pred_means = adm2_shp.groupby(\"GDL_ADM1\")[\"predicted_dev_from_adm0\"].mean().rename(\"mean_of_pred_adm2_obs\")\n",
    "adm2_shp = adm2_shp.merge(adm1_pred_means, \"left\", left_on = \"GDL_ADM1\", right_index=True)\n",
    "\n",
    "adm2_shp[\"adj_factor\"] = adm2_shp[\"adm1_mean\"] - adm2_shp[\"mean_of_pred_adm2_obs\"]\n",
    "\n",
    "adm2_shp[\"adjusted_preds\"] = adm2_shp[\"predicted_dev_from_adm0\"] + adm2_shp[\"adj_factor\"]\n",
    "\n",
    "#Clip to [0,1] for HDI. Can be outside range after re-centering.\n",
    "adm2_shp[\"adjusted_preds\"] = np.clip(adm2_shp[\"adjusted_preds\"],0,1)\n",
    "\n",
    "adm2_shp.set_index(\"shapeID\", inplace=True)"
   ]
  },
  {
   "cell_type": "code",
   "execution_count": 14,
   "id": "c146f564",
   "metadata": {
    "scrolled": false
   },
   "outputs": [
    {
     "data": {
      "text/html": [
       "<div>\n",
       "<style scoped>\n",
       "    .dataframe tbody tr th:only-of-type {\n",
       "        vertical-align: middle;\n",
       "    }\n",
       "\n",
       "    .dataframe tbody tr th {\n",
       "        vertical-align: top;\n",
       "    }\n",
       "\n",
       "    .dataframe thead th {\n",
       "        text-align: right;\n",
       "    }\n",
       "</style>\n",
       "<table border=\"1\" class=\"dataframe\">\n",
       "  <thead>\n",
       "    <tr style=\"text-align: right;\">\n",
       "      <th></th>\n",
       "      <th>shapeName</th>\n",
       "      <th>shapeISO</th>\n",
       "      <th>shapeGroup</th>\n",
       "      <th>shapeType</th>\n",
       "      <th>ADM1_shapeID</th>\n",
       "      <th>ADM0_shapeID</th>\n",
       "      <th>ADMHIERARCHY</th>\n",
       "      <th>geometry</th>\n",
       "      <th>GDL_ADM1</th>\n",
       "      <th>percent_overlap_GDL_ADM1</th>\n",
       "      <th>predicted_dev_from_adm0</th>\n",
       "      <th>adm1_mean</th>\n",
       "      <th>mean_of_pred_adm2_obs</th>\n",
       "      <th>adj_factor</th>\n",
       "      <th>adjusted_preds</th>\n",
       "    </tr>\n",
       "    <tr>\n",
       "      <th>shapeID</th>\n",
       "      <th></th>\n",
       "      <th></th>\n",
       "      <th></th>\n",
       "      <th></th>\n",
       "      <th></th>\n",
       "      <th></th>\n",
       "      <th></th>\n",
       "      <th></th>\n",
       "      <th></th>\n",
       "      <th></th>\n",
       "      <th></th>\n",
       "      <th></th>\n",
       "      <th></th>\n",
       "      <th></th>\n",
       "      <th></th>\n",
       "    </tr>\n",
       "  </thead>\n",
       "  <tbody>\n",
       "    <tr>\n",
       "      <th>BRN-ADM2-3_0_0-B1</th>\n",
       "      <td>Kota Batu</td>\n",
       "      <td>None</td>\n",
       "      <td>BRN</td>\n",
       "      <td>ADM2</td>\n",
       "      <td>BRN-ADM1-3_0_0-B3</td>\n",
       "      <td>BRN-ADM0-3_0_0-B1</td>\n",
       "      <td>BRN-ADM2-3_0_0-B1|BRN-ADM1-3_0_0-B3|BRN-ADM0-3...</td>\n",
       "      <td>POLYGON ((115.01400 4.93203, 114.99643 4.94485...</td>\n",
       "      <td>BRNt</td>\n",
       "      <td>87.00</td>\n",
       "      <td>-0.030022</td>\n",
       "      <td>0.83</td>\n",
       "      <td>-0.039444</td>\n",
       "      <td>0.869444</td>\n",
       "      <td>0.839422</td>\n",
       "    </tr>\n",
       "    <tr>\n",
       "      <th>BRN-ADM2-3_0_0-B2</th>\n",
       "      <td>Kilanas</td>\n",
       "      <td>None</td>\n",
       "      <td>BRN</td>\n",
       "      <td>ADM2</td>\n",
       "      <td>BRN-ADM1-3_0_0-B3</td>\n",
       "      <td>BRN-ADM0-3_0_0-B1</td>\n",
       "      <td>BRN-ADM2-3_0_0-B2|BRN-ADM1-3_0_0-B3|BRN-ADM0-3...</td>\n",
       "      <td>POLYGON ((114.90051 4.87061, 114.87530 4.86444...</td>\n",
       "      <td>BRNt</td>\n",
       "      <td>100.00</td>\n",
       "      <td>0.018980</td>\n",
       "      <td>0.83</td>\n",
       "      <td>-0.039444</td>\n",
       "      <td>0.869444</td>\n",
       "      <td>0.888425</td>\n",
       "    </tr>\n",
       "    <tr>\n",
       "      <th>BRN-ADM2-3_0_0-B3</th>\n",
       "      <td>Tanjong Maya</td>\n",
       "      <td>None</td>\n",
       "      <td>BRN</td>\n",
       "      <td>ADM2</td>\n",
       "      <td>BRN-ADM1-3_0_0-B4</td>\n",
       "      <td>BRN-ADM0-3_0_0-B1</td>\n",
       "      <td>BRN-ADM2-3_0_0-B3|BRN-ADM1-3_0_0-B4|BRN-ADM0-3...</td>\n",
       "      <td>POLYGON ((114.70729 4.75307, 114.66990 4.78399...</td>\n",
       "      <td>BRNt</td>\n",
       "      <td>100.00</td>\n",
       "      <td>-0.074511</td>\n",
       "      <td>0.83</td>\n",
       "      <td>-0.039444</td>\n",
       "      <td>0.869444</td>\n",
       "      <td>0.794934</td>\n",
       "    </tr>\n",
       "    <tr>\n",
       "      <th>BRN-ADM2-3_0_0-B4</th>\n",
       "      <td>Serasa</td>\n",
       "      <td>None</td>\n",
       "      <td>BRN</td>\n",
       "      <td>ADM2</td>\n",
       "      <td>BRN-ADM1-3_0_0-B3</td>\n",
       "      <td>BRN-ADM0-3_0_0-B1</td>\n",
       "      <td>BRN-ADM2-3_0_0-B4|BRN-ADM1-3_0_0-B3|BRN-ADM0-3...</td>\n",
       "      <td>POLYGON ((115.04237 4.96770, 115.04136 4.97294...</td>\n",
       "      <td>BRNt</td>\n",
       "      <td>96.12</td>\n",
       "      <td>0.024899</td>\n",
       "      <td>0.83</td>\n",
       "      <td>-0.039444</td>\n",
       "      <td>0.869444</td>\n",
       "      <td>0.894344</td>\n",
       "    </tr>\n",
       "    <tr>\n",
       "      <th>BRN-ADM2-3_0_0-B5</th>\n",
       "      <td>Mentiri</td>\n",
       "      <td>None</td>\n",
       "      <td>BRN</td>\n",
       "      <td>ADM2</td>\n",
       "      <td>BRN-ADM1-3_0_0-B3</td>\n",
       "      <td>BRN-ADM0-3_0_0-B1</td>\n",
       "      <td>BRN-ADM2-3_0_0-B5|BRN-ADM1-3_0_0-B3|BRN-ADM0-3...</td>\n",
       "      <td>POLYGON ((115.01400 4.93203, 115.01859 4.93775...</td>\n",
       "      <td>BRNt</td>\n",
       "      <td>99.23</td>\n",
       "      <td>0.018028</td>\n",
       "      <td>0.83</td>\n",
       "      <td>-0.039444</td>\n",
       "      <td>0.869444</td>\n",
       "      <td>0.887473</td>\n",
       "    </tr>\n",
       "  </tbody>\n",
       "</table>\n",
       "</div>"
      ],
      "text/plain": [
       "                      shapeName shapeISO shapeGroup shapeType  \\\n",
       "shapeID                                                         \n",
       "BRN-ADM2-3_0_0-B1     Kota Batu     None        BRN      ADM2   \n",
       "BRN-ADM2-3_0_0-B2       Kilanas     None        BRN      ADM2   \n",
       "BRN-ADM2-3_0_0-B3  Tanjong Maya     None        BRN      ADM2   \n",
       "BRN-ADM2-3_0_0-B4        Serasa     None        BRN      ADM2   \n",
       "BRN-ADM2-3_0_0-B5       Mentiri     None        BRN      ADM2   \n",
       "\n",
       "                        ADM1_shapeID       ADM0_shapeID  \\\n",
       "shapeID                                                   \n",
       "BRN-ADM2-3_0_0-B1  BRN-ADM1-3_0_0-B3  BRN-ADM0-3_0_0-B1   \n",
       "BRN-ADM2-3_0_0-B2  BRN-ADM1-3_0_0-B3  BRN-ADM0-3_0_0-B1   \n",
       "BRN-ADM2-3_0_0-B3  BRN-ADM1-3_0_0-B4  BRN-ADM0-3_0_0-B1   \n",
       "BRN-ADM2-3_0_0-B4  BRN-ADM1-3_0_0-B3  BRN-ADM0-3_0_0-B1   \n",
       "BRN-ADM2-3_0_0-B5  BRN-ADM1-3_0_0-B3  BRN-ADM0-3_0_0-B1   \n",
       "\n",
       "                                                        ADMHIERARCHY  \\\n",
       "shapeID                                                                \n",
       "BRN-ADM2-3_0_0-B1  BRN-ADM2-3_0_0-B1|BRN-ADM1-3_0_0-B3|BRN-ADM0-3...   \n",
       "BRN-ADM2-3_0_0-B2  BRN-ADM2-3_0_0-B2|BRN-ADM1-3_0_0-B3|BRN-ADM0-3...   \n",
       "BRN-ADM2-3_0_0-B3  BRN-ADM2-3_0_0-B3|BRN-ADM1-3_0_0-B4|BRN-ADM0-3...   \n",
       "BRN-ADM2-3_0_0-B4  BRN-ADM2-3_0_0-B4|BRN-ADM1-3_0_0-B3|BRN-ADM0-3...   \n",
       "BRN-ADM2-3_0_0-B5  BRN-ADM2-3_0_0-B5|BRN-ADM1-3_0_0-B3|BRN-ADM0-3...   \n",
       "\n",
       "                                                            geometry GDL_ADM1  \\\n",
       "shapeID                                                                         \n",
       "BRN-ADM2-3_0_0-B1  POLYGON ((115.01400 4.93203, 114.99643 4.94485...     BRNt   \n",
       "BRN-ADM2-3_0_0-B2  POLYGON ((114.90051 4.87061, 114.87530 4.86444...     BRNt   \n",
       "BRN-ADM2-3_0_0-B3  POLYGON ((114.70729 4.75307, 114.66990 4.78399...     BRNt   \n",
       "BRN-ADM2-3_0_0-B4  POLYGON ((115.04237 4.96770, 115.04136 4.97294...     BRNt   \n",
       "BRN-ADM2-3_0_0-B5  POLYGON ((115.01400 4.93203, 115.01859 4.93775...     BRNt   \n",
       "\n",
       "                   percent_overlap_GDL_ADM1  predicted_dev_from_adm0  \\\n",
       "shapeID                                                                \n",
       "BRN-ADM2-3_0_0-B1                     87.00                -0.030022   \n",
       "BRN-ADM2-3_0_0-B2                    100.00                 0.018980   \n",
       "BRN-ADM2-3_0_0-B3                    100.00                -0.074511   \n",
       "BRN-ADM2-3_0_0-B4                     96.12                 0.024899   \n",
       "BRN-ADM2-3_0_0-B5                     99.23                 0.018028   \n",
       "\n",
       "                   adm1_mean  mean_of_pred_adm2_obs  adj_factor  \\\n",
       "shapeID                                                           \n",
       "BRN-ADM2-3_0_0-B1       0.83              -0.039444    0.869444   \n",
       "BRN-ADM2-3_0_0-B2       0.83              -0.039444    0.869444   \n",
       "BRN-ADM2-3_0_0-B3       0.83              -0.039444    0.869444   \n",
       "BRN-ADM2-3_0_0-B4       0.83              -0.039444    0.869444   \n",
       "BRN-ADM2-3_0_0-B5       0.83              -0.039444    0.869444   \n",
       "\n",
       "                   adjusted_preds  \n",
       "shapeID                            \n",
       "BRN-ADM2-3_0_0-B1        0.839422  \n",
       "BRN-ADM2-3_0_0-B2        0.888425  \n",
       "BRN-ADM2-3_0_0-B3        0.794934  \n",
       "BRN-ADM2-3_0_0-B4        0.894344  \n",
       "BRN-ADM2-3_0_0-B5        0.887473  "
      ]
     },
     "execution_count": 14,
     "metadata": {},
     "output_type": "execute_result"
    }
   ],
   "source": [
    "adm2_shp.head()"
   ]
  },
  {
   "cell_type": "markdown",
   "id": "ad54f923",
   "metadata": {},
   "source": [
    "#### Add population totals"
   ]
  },
  {
   "cell_type": "code",
   "execution_count": 15,
   "id": "93d4ff61",
   "metadata": {},
   "outputs": [],
   "source": [
    "adm2_shp = adm2_shp.merge(pop_df, how=\"left\", left_index=True,right_index=True)"
   ]
  },
  {
   "cell_type": "markdown",
   "id": "62558ce1",
   "metadata": {},
   "source": [
    "#### Replace Ireland estimates with NANs. These cannot be verified"
   ]
  },
  {
   "cell_type": "code",
   "execution_count": 16,
   "id": "1fda6939",
   "metadata": {},
   "outputs": [],
   "source": [
    "adm2_shp.loc[adm2_shp[\"shapeGroup\"] == \"IRL\",\"adjusted_preds\"] = np.nan"
   ]
  },
  {
   "cell_type": "code",
   "execution_count": 17,
   "id": "5aa0a23d",
   "metadata": {},
   "outputs": [],
   "source": [
    "## Drop Ireland\n",
    "adm2_shp_drop_irl = adm2_shp[adm2_shp[\"shapeGroup\"] != \"IRL\"]\n",
    "adm2_shp_drop_irl.to_pickle(data_dir + \"/preds/hdi_preds_at_adm2.p\")"
   ]
  },
  {
   "cell_type": "markdown",
   "id": "31af168f",
   "metadata": {},
   "source": [
    "## Save a clean CSV version -- This is what we will release publicly"
   ]
  },
  {
   "cell_type": "code",
   "execution_count": 18,
   "id": "964845af",
   "metadata": {},
   "outputs": [],
   "source": [
    "adm2_shp[[\"shapeName\",\"shapeGroup\",\n",
    "          \"ADM1_shapeID\",\"GDL_ADM1\",\"percent_overlap_GDL_ADM1\",\n",
    "          \"adm1_mean\",\"total_pop\",\"adjusted_preds\"]].rename(columns={\"adm1_mean\":\"adm1_HDI_Smits\",\"adjusted_preds\":\"predicted_adm2_HDI\",\n",
    "                                                                    \"total_pop\":\"est_total_pop\"}).to_csv(data_dir + \"/preds/hdi_preds_at_adm2.csv\")\n"
   ]
  },
  {
   "cell_type": "code",
   "execution_count": 19,
   "id": "a2f33666",
   "metadata": {},
   "outputs": [],
   "source": [
    "## Double check centering. True without truncating, False when truncating to [0,1] HDI range\n",
    "#all(adm2_shp_drop_irl.groupby(\"GDL_ADM1\")[\"adjusted_preds\"].mean().round(8) == adm2_shp_drop_irl.groupby(\"GDL_ADM1\")[\"adm1_mean\"].first().round(8))"
   ]
  },
  {
   "cell_type": "markdown",
   "id": "8bbd840a",
   "metadata": {},
   "source": [
    "## Now produce HDI preds from other, not primary models"
   ]
  },
  {
   "cell_type": "code",
   "execution_count": 20,
   "id": "591dfb37",
   "metadata": {},
   "outputs": [],
   "source": [
    "model_directory = data_dir + \"/model_data/\""
   ]
  },
  {
   "cell_type": "markdown",
   "id": "70613bf7",
   "metadata": {},
   "source": [
    "### Cross country models"
   ]
  },
  {
   "cell_type": "code",
   "execution_count": 21,
   "id": "8a7a261b",
   "metadata": {},
   "outputs": [],
   "source": [
    "path = (model_directory+\n",
    "           \"cross_country_kfold_solve_all_outcomes_country_fold_DENSE_pop_weight=GHS_POP.pkl\")\n",
    "\n",
    "kfold_dict = pickle.load(open(path, \"rb\"))\n",
    "\n",
    "path = (model_directory+\n",
    "           \"cross_country_nl_solve_all_outcomes_country_fold_VIIRS_hist_bins_GHS_pop_weighted.pkl\")\n",
    "nl_kfold_dict = pickle.load(open(path, \"rb\"))\n",
    "\n",
    "\n",
    "path = (model_directory+\n",
    "           \"cross_country_rcf_and_nl_solve_all_outcomes_country_fold_DENSE_pop_weight=GHS_VIIRS_hist_bins_GHS_pop_weighted.pkl\")\n",
    "nl_and_rcf_kfold_dict = pickle.load(open(path, \"rb\"))\n"
   ]
  },
  {
   "cell_type": "code",
   "execution_count": 22,
   "id": "2bd2cc23",
   "metadata": {},
   "outputs": [],
   "source": [
    "rcf_nl_cc_preds = predict_y_from_kfold_dict(X_adm2,\n",
    "                                                                nl_and_rcf_kfold_dict,\n",
    "                                                               task,\n",
    "                                                               nl_adm2).rename(\"rcf_and_nl_cc_preds\")\n",
    "\n",
    "\n",
    "rcf_cc_preds = predict_y_from_kfold_dict(X_adm2,\n",
    "                                                                kfold_dict,\n",
    "                                                               task,\n",
    "                                                               None).rename(\"rcf_cc_preds\")\n",
    "\n",
    "nl_cc_preds = predict_y_from_kfold_dict(nl_adm2,\n",
    "                                                                nl_kfold_dict,\n",
    "                                                               task,\n",
    "                                                               None).rename(\"nl_cc_preds\")\n"
   ]
  },
  {
   "cell_type": "code",
   "execution_count": 23,
   "id": "083f1a8e",
   "metadata": {},
   "outputs": [],
   "source": [
    "## adm0 models\n",
    "\n",
    "path = (model_directory+\n",
    "           \"kfold_solve_adm0_level_GHS_pop_weighted_feats_rcf_nl_VIIRS_hist_bins_GHS_pop_weighted.pkl\")\n",
    "adm0_rcf_nl_kfold_dict = pickle.load(open(path, \"rb\"))\n",
    "\n",
    "path = (model_directory+\n",
    "           \"kfold_solve_adm0_model_full\"\n",
    "           \"GHS_pop_weighted_feats_DENSE.pkl\")\n",
    "\n",
    "adm0_kfold_dict = pickle.load(open(path, \"rb\"))\n",
    "\n",
    "path = (model_directory +\n",
    "           \"VIIRS_hist_bins_GHS_pop_weighted.pkl\")\n",
    "adm0_nl_kfold_dict = pickle.load(open(path, \"rb\"))"
   ]
  },
  {
   "cell_type": "code",
   "execution_count": 24,
   "id": "e346f8df",
   "metadata": {},
   "outputs": [],
   "source": [
    "adm0_rcf_nl_preds = predict_y_from_kfold_dict(X_adm2,\n",
    "                                                                adm0_rcf_nl_kfold_dict ,\n",
    "                                                               task,\n",
    "                                                               nl_adm2).rename(\"adm0_rcf_and_nl_preds\")\n",
    "\n",
    "\n",
    "adm0_rcf_preds = predict_y_from_kfold_dict(X_adm2,\n",
    "                                                                adm0_kfold_dict,\n",
    "                                                               task,\n",
    "                                                               None).rename(\"adm0_rcf_preds\")\n",
    "\n",
    "adm0_nl_preds = predict_y_from_kfold_dict(nl_adm2,\n",
    "                                                                adm0_nl_kfold_dict,\n",
    "                                                               task,\n",
    "                                                               None).rename(\"adm0_nl_preds\")\n"
   ]
  },
  {
   "cell_type": "code",
   "execution_count": 25,
   "id": "13fa8555",
   "metadata": {},
   "outputs": [],
   "source": [
    "## Within country model\n",
    "path = (model_directory+\n",
    "           \"within_country_demeaned_kfold_solve_all_outcomes_country_fold_DENSE_pop_weight=GHS_POP.pkl\")\n",
    "demeaned_kfold_dict = pickle.load(open(path, \"rb\"))\n",
    "\n",
    "path = (model_directory+\n",
    "           \"within_country_nl_demeaned_solve_all_outcomes_country_fold_VIIRS_hist_bins_GHS_pop_weighted.pkl\")\n",
    "nl_demeaned_kfold_dict = pickle.load(open(path, \"rb\"))"
   ]
  },
  {
   "cell_type": "code",
   "execution_count": 26,
   "id": "2031f38e",
   "metadata": {},
   "outputs": [],
   "source": [
    "within_rcf_and_nl_preds = predict_y_from_kfold_dict(X_adm2_demeaned,\n",
    "                                                                nl_and_rcf_demeaned_kfold_dict ,\n",
    "                                                               task,\n",
    "                                                               nl_adm2_demean).rename(\"within_rcf_and_nl_preds\")\n",
    "\n",
    "\n",
    "within_rcf_preds = predict_y_from_kfold_dict(X_adm2_demeaned,\n",
    "                                                               demeaned_kfold_dict,\n",
    "                                                               task,\n",
    "                                                               None).rename(\"within_rcf_preds\")\n",
    "\n",
    "within_nl_preds = predict_y_from_kfold_dict(nl_adm2_demean,\n",
    "                                                                nl_demeaned_kfold_dict,\n",
    "                                                               task,\n",
    "                                                               None).rename(\"within_nl_preds\")\n"
   ]
  },
  {
   "cell_type": "code",
   "execution_count": 27,
   "id": "c1c90ae0",
   "metadata": {},
   "outputs": [],
   "source": [
    "def recenter_adm1(pred_series, adm2_shp=adm2_shp, clip_bounds=[0,1]):\n",
    "    \n",
    "    col = pred_series.name\n",
    "    temp_merged = pred_series.to_frame().merge(adm2_shp[[\"adm1_mean\",\"GDL_ADM1\"]], how=\"left\", left_index=True, right_index=True)\n",
    "\n",
    "    adj = temp_merged.groupby(\"GDL_ADM1\")[\"adm1_mean\"].first() - temp_merged.groupby(\"GDL_ADM1\")[col].mean()\n",
    "    temp_merged = temp_merged.merge(adj.rename(\"adj\"),left_on=\"GDL_ADM1\", right_index=True)\n",
    "    temp_merged[col] = (temp_merged[\"adj\"] + temp_merged[col])\n",
    "    \n",
    "    assert all(temp_merged.groupby(\"GDL_ADM1\")[\"adm1_mean\"].mean().round(6) == temp_merged.groupby(\"GDL_ADM1\")[col].mean().round(6))\n",
    "    \n",
    "    return np.clip(temp_merged[col],*clip_bounds)\n",
    "    \n",
    "    "
   ]
  },
  {
   "cell_type": "code",
   "execution_count": 28,
   "id": "90c3eed7",
   "metadata": {},
   "outputs": [],
   "source": [
    "joint_preds = pd.concat([rcf_nl_cc_preds, \n",
    "                         rcf_cc_preds,\n",
    "                         nl_cc_preds,\n",
    "                         \n",
    "                         adm0_rcf_nl_preds,\n",
    "                         adm0_rcf_preds,\n",
    "                         adm0_nl_preds,\n",
    "                        \n",
    "                         recenter_adm1(within_rcf_and_nl_preds),\n",
    "                         recenter_adm1(within_rcf_preds),\n",
    "                         recenter_adm1(within_nl_preds)\n",
    "                        ], axis=1)"
   ]
  },
  {
   "cell_type": "code",
   "execution_count": 29,
   "id": "d071a044",
   "metadata": {},
   "outputs": [],
   "source": [
    "# drop Ireand\n",
    "joint_preds = joint_preds[~pd.Series(joint_preds.index.str.startswith(\"IRL\")).to_numpy()]"
   ]
  },
  {
   "cell_type": "code",
   "execution_count": 30,
   "id": "8d73069f",
   "metadata": {},
   "outputs": [],
   "source": [
    "idxs = adm2_shp.index[adm2_shp.index.isin(joint_preds.index)]"
   ]
  },
  {
   "cell_type": "code",
   "execution_count": 31,
   "id": "8a67ca82",
   "metadata": {},
   "outputs": [],
   "source": [
    "## Check that these are identical"
   ]
  },
  {
   "cell_type": "code",
   "execution_count": 32,
   "id": "c67a4674",
   "metadata": {},
   "outputs": [
    {
     "data": {
      "text/plain": [
       "True"
      ]
     },
     "execution_count": 32,
     "metadata": {},
     "output_type": "execute_result"
    }
   ],
   "source": [
    "all(joint_preds.loc[idxs, \"within_rcf_and_nl_preds\"].round(6) == adm2_shp.loc[idxs,\"adjusted_preds\"].round(6))"
   ]
  },
  {
   "cell_type": "code",
   "execution_count": 33,
   "id": "ba124d56",
   "metadata": {},
   "outputs": [],
   "source": [
    "joint_preds.to_pickle(data_dir + \"preds/hdi_preds_from_all_models_at_adm2.p\")"
   ]
  }
 ],
 "metadata": {
  "kernelspec": {
   "display_name": "Python 3 (ipykernel)",
   "language": "python",
   "name": "python3"
  },
  "language_info": {
   "codemirror_mode": {
    "name": "ipython",
    "version": 3
   },
   "file_extension": ".py",
   "mimetype": "text/x-python",
   "name": "python",
   "nbconvert_exporter": "python",
   "pygments_lexer": "ipython3",
   "version": "3.7.15"
  }
 },
 "nbformat": 4,
 "nbformat_minor": 5
}

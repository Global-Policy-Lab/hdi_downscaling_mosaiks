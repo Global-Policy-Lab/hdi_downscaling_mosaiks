{
 "cells": [
  {
   "cell_type": "code",
   "execution_count": 1,
   "id": "3c7728f0",
   "metadata": {},
   "outputs": [],
   "source": [
    "import os\n",
    "repo_dir = os.environ.get(\"REPO_DIR\")\n",
    "code_dir = os.path.join(repo_dir, \"code/\")\n",
    "data_dir = os.path.join(repo_dir, \"data/\")\n",
    "os.chdir(code_dir)\n",
    "\n",
    "import matplotlib.pyplot as plt\n",
    "import numpy as np\n",
    "import scipy.linalg\n",
    "import pickle\n",
    "import sklearn \n",
    "import sys\n",
    "import pandas as pd\n",
    "from importlib import reload\n",
    "\n",
    "from sklearn.model_selection import KFold\n",
    "from sklearn.linear_model import Ridge\n",
    "import seaborn as sns\n",
    "\n",
    "from scipy.stats import spearmanr\n",
    "\n",
    "import geopandas as gpd\n",
    "\n",
    "import warnings\n",
    "\n",
    "from mosaiks.utils.imports import *\n",
    "\n",
    "\n",
    "# Key prediction functions are here\n",
    "from analysis.prediction_utils import (X_matrix_to_demeaned_X, df_to_demeaned_y_vars,\n",
    "make_train_pred_scatterplot as make_scatterplot, cv_solve, solver_kwargs, get_truth_preds_from_kfold_results,\n",
    "                             predict_y_from_kfold_dict, generalized_demean)"
   ]
  },
  {
   "cell_type": "markdown",
   "id": "2ae3d139",
   "metadata": {},
   "source": [
    "# Movement in quintile analysis\n",
    "\n",
    "Here we compare quintile assignments for the global population using ADM1 data and compare to assignments based on our newly created ADM2 and grid-level data products.\n",
    "\n",
    "This notebook is fully replicable with only code and data in the GitHub repo."
   ]
  },
  {
   "cell_type": "markdown",
   "id": "57bced26",
   "metadata": {},
   "source": [
    "## Set colors"
   ]
  },
  {
   "cell_type": "code",
   "execution_count": 2,
   "id": "1fd470ce",
   "metadata": {},
   "outputs": [],
   "source": [
    "from matplotlib.cm import get_cmap\n",
    "\n",
    "cmap = get_cmap('plasma')\n",
    "color1 = cmap(0.1)\n",
    "color2 = cmap(0.55)\n",
    "color3 = cmap(0.9)"
   ]
  },
  {
   "cell_type": "markdown",
   "id": "fc01b875",
   "metadata": {},
   "source": [
    "## Define functions"
   ]
  },
  {
   "cell_type": "code",
   "execution_count": 3,
   "id": "ad0f4d17",
   "metadata": {},
   "outputs": [],
   "source": [
    "def get_country_bins(df,country, pop_weight=True, true_colname=\"adm2_pred\", alt_colname=\"adm1_truth\", \n",
    "                     diff_threshs = False):\n",
    "    \"\"\"\n",
    "    For a country, e.g., \"ETH\" asssume all population within country has ADM2 HDI consistent with our preds.\n",
    "    \n",
    "    Set up quintile bins based on the population and the known ADM2 values.\n",
    "    \n",
    "    Assign a numeric (1-5) quintile bin to each ADM2 observation using ADM2 predictions\n",
    "    \n",
    "    Assign a numeric (1-5) quintile bin to each ADM2 observation using only the ADM1 observation.\n",
    "    \"\"\"\n",
    "    inc_country = df[df[\"shapeGroup\"] == country].copy()\n",
    "    \n",
    "    if pop_weight:\n",
    "        pops = []\n",
    "        alt_pops = []\n",
    "        for i, row in inc_country.iterrows():\n",
    "            a = np.full(row[\"total_pop\"], row[true_colname])\n",
    "            pops.append(a)\n",
    "            \n",
    "            if diff_threshs:\n",
    "                b = np.full(row[\"total_pop\"],row[alt_colname])\n",
    "                alt_pops.append(b)\n",
    "        pops = np.hstack(pops)\n",
    "        threshs = np.quantile(pops, [0.2,.4,.6,.8])\n",
    "        del pops\n",
    "        \n",
    "        if diff_threshs:\n",
    "            alt_pops = np.hstack(alt_pops)\n",
    "        \n",
    "            alt_threshs = np.quantile(alt_pops, [0.2,.4,.6,.8])\n",
    "            \n",
    "            del alt_pops\n",
    "        else:\n",
    "            alt_threshs = threshs\n",
    "    else:\n",
    "        threshs = np.quantile(inc_country[true_colname], [0.2,.4,.6,.8])\n",
    "        \n",
    "        if diff_threshs:\n",
    "            alt_threshs = np.quantile(inc_country[alt_colname], [0.2,.4,.6,.8])\n",
    "        else:\n",
    "            alt_threshs = threshs\n",
    "    \n",
    "    inc_country[\"true_bin\"] = np.nan\n",
    "    inc_country[\"alt_bin\"] = np.nan\n",
    "    \n",
    "    inc_country.loc[inc_country[true_colname] < threshs[0],\"true_bin\"] = 1\n",
    "    inc_country.loc[inc_country[true_colname] > threshs[3],\"true_bin\"] = 5\n",
    "    ## These are going to be bias toward the middle quartile\n",
    "    inc_country.loc[((inc_country[true_colname] >= threshs[0]) & (inc_country[true_colname] < threshs[1]) ),\"true_bin\"] = 2\n",
    "    inc_country.loc[((inc_country[true_colname] > threshs[2]) & (inc_country[true_colname] <= threshs[3]) ),\"true_bin\"] = 4\n",
    "    inc_country.loc[((inc_country[true_colname] >= threshs[1]) & (inc_country[true_colname] <= threshs[2]) ),\"true_bin\"] = 3\n",
    "    \n",
    "    \n",
    "    inc_country.loc[inc_country[alt_colname] < alt_threshs[0],\"alt_bin\"] = 1\n",
    "    inc_country.loc[inc_country[alt_colname] > alt_threshs[3],\"alt_bin\"] = 5\n",
    "    \n",
    "    inc_country.loc[((inc_country[alt_colname] >= alt_threshs[0]) & (inc_country[alt_colname] < alt_threshs[1]) ),\"alt_bin\"] = 2\n",
    "    inc_country.loc[((inc_country[alt_colname] > alt_threshs[2]) & (inc_country[alt_colname] <= alt_threshs[3]) ),\"alt_bin\"] = 4\n",
    "        \n",
    "    inc_country.loc[((inc_country[alt_colname] >= alt_threshs[1]) & (inc_country[alt_colname] <= alt_threshs[2]) ),\"alt_bin\"] = 3\n",
    "\n",
    "\n",
    "    \n",
    "    return inc_country\n",
    "    "
   ]
  },
  {
   "cell_type": "code",
   "execution_count": 4,
   "id": "fd0f0be1",
   "metadata": {},
   "outputs": [],
   "source": [
    "def tot_array(data, inc=5):\n",
    "    arr = []\n",
    "    for i in range(inc):\n",
    "        start = i * inc\n",
    "        end = start + inc\n",
    "        tot = data.iloc[start:end].sum()\n",
    "        arr.append(np.full(inc,tot))\n",
    "    return np.hstack(arr)"
   ]
  },
  {
   "cell_type": "code",
   "execution_count": 5,
   "id": "eca6359e",
   "metadata": {},
   "outputs": [],
   "source": [
    "def add_missing_zeros(data):\n",
    "\n",
    "    for i in range(1,6):\n",
    "        for j in range(1,6):\n",
    "            try:\n",
    "                data.loc[(i,j)]\n",
    "            except:\n",
    "                data.loc[(i,j)] = 0\n",
    "    return data.reset_index().groupby([\"true_bin\", \"alt_bin\"])[\"total_pop\"].sum()"
   ]
  },
  {
   "cell_type": "code",
   "execution_count": 6,
   "id": "b694d1bc",
   "metadata": {},
   "outputs": [],
   "source": [
    "def make_bar_plot(df, pop_weight=True, \n",
    "                  alt_bin_text = \"ADM1 assumed quintile = \", \n",
    "                  true_bin_text = \"Predicted \\nquintile = \",\n",
    "                 x_lab_text = \" \\nMunicipality-level HDI quintile (this study)\",\n",
    "                 legend_title = \"Province-level HDI quintile (Smits & Permanyer)\", \n",
    "                  savepath = None):\n",
    "    if pop_weight:\n",
    "        data = df.groupby([\"true_bin\", \"alt_bin\"])[\"total_pop\"].sum()\n",
    "    \n",
    "    else:\n",
    "        data = df.groupby([\"true_bin\", \"alt_bin\"])[\"total_pop\"].count()\n",
    "    \n",
    "    data = add_missing_zeros(data)\n",
    "    \n",
    "    data_perc = data/tot_array(data)\n",
    "    data_df = data_perc.reset_index()\n",
    "    \n",
    "    data_df[\"true_bin_lab\"] = true_bin_text + data_df[\"true_bin\"].astype(int).astype(str)\n",
    "    data_df[\"alt_bin_lab\"] = alt_bin_text + data_df[\"alt_bin\"].astype(int).astype(str)\n",
    "    \n",
    "    \n",
    "    fig, ax = plt.subplots(figsize=(10,10))\n",
    "    labels = data_df[\"alt_bin_lab\"].unique()\n",
    "\n",
    "    for i, label in enumerate(labels):\n",
    "        rgba = cmap((i+3)/7)\n",
    "        if i == 0:\n",
    "            tots = np.full(5,0)\n",
    "        subset = data_df[data_df[\"alt_bin_lab\"] == label]\n",
    "        values = subset[\"total_pop\"].to_numpy() * 100\n",
    "        names = subset[\"true_bin_lab\"]\n",
    "\n",
    "        hatch = [None,None,None,None,None]\n",
    "        hatch[i] = '/'\n",
    "        bar = ax.bar(names,values, width=0.35, label = label, bottom=tots, color=rgba, hatch=hatch,\n",
    "                     edgecolor='white',\n",
    "                    linewidth=0)\n",
    "        tots = values+tots\n",
    "        val_prnt = pd.Series(values.round().astype(int).astype(str)) + \"%\"\n",
    "        val_prnt[values < 3.5] = \"\"\n",
    "\n",
    "        ax.bar_label(bar, labels = val_prnt, label_type=\"center\", color=\"black\", size=14.5) \n",
    "\n",
    "    leg = ax.legend(bbox_to_anchor=(.9, 1.12),title=legend_title, frameon=True, prop={'size':16}, \n",
    "                    title_fontsize=16,ncol=5)\n",
    "    leg._legend_box.align = \"top\"\n",
    "    leg._legend_box.sep = 10\n",
    "\n",
    "    ax.set_xlabel(x_lab_text, size=16)\n",
    "    ax.tick_params(axis='x', labelsize=14 )\n",
    "    ax.tick_params(axis='y', labelsize=14 )\n",
    "    \n",
    "    ax.set_ylim(0,100)\n",
    "    if pop_weight:\n",
    "        ax.set_ylabel(\"Population (%)\", size=16)\n",
    "    else:\n",
    "        ax.set_ylabel(\"ADM2 obs (%)\", size=16)\n",
    "    if savepath:\n",
    "        fig.savefig(savepath, dpi=300, bbox_inches=\"tight\")"
   ]
  },
  {
   "cell_type": "code",
   "execution_count": 7,
   "id": "d653e2e1",
   "metadata": {},
   "outputs": [],
   "source": [
    "data = pd.read_csv(data_dir + \"preds/hdi_preds_at_adm2.csv\").rename(\n",
    "columns = {\"predicted_adm2_HDI\":\"adm2_pred\",\"adm1_HDI_Smits\":\"adm1_truth\", \n",
    "          \"est_total_pop\":\"total_pop\"})\n",
    "    \n",
    "data = data.loc[data[\"adm2_pred\"].dropna().index]"
   ]
  },
  {
   "cell_type": "code",
   "execution_count": 9,
   "id": "20062420",
   "metadata": {},
   "outputs": [
    {
     "data": {
      "text/html": [
       "<div>\n",
       "<style scoped>\n",
       "    .dataframe tbody tr th:only-of-type {\n",
       "        vertical-align: middle;\n",
       "    }\n",
       "\n",
       "    .dataframe tbody tr th {\n",
       "        vertical-align: top;\n",
       "    }\n",
       "\n",
       "    .dataframe thead th {\n",
       "        text-align: right;\n",
       "    }\n",
       "</style>\n",
       "<table border=\"1\" class=\"dataframe\">\n",
       "  <thead>\n",
       "    <tr style=\"text-align: right;\">\n",
       "      <th></th>\n",
       "      <th>shapeID</th>\n",
       "      <th>shapeName</th>\n",
       "      <th>shapeGroup</th>\n",
       "      <th>ADM1_shapeID</th>\n",
       "      <th>GDL_ADM1</th>\n",
       "      <th>percent_overlap_GDL_ADM1</th>\n",
       "      <th>adm1_truth</th>\n",
       "      <th>total_pop</th>\n",
       "      <th>adm2_pred</th>\n",
       "    </tr>\n",
       "  </thead>\n",
       "  <tbody>\n",
       "    <tr>\n",
       "      <th>0</th>\n",
       "      <td>BRN-ADM2-3_0_0-B1</td>\n",
       "      <td>Kota Batu</td>\n",
       "      <td>BRN</td>\n",
       "      <td>BRN-ADM1-3_0_0-B3</td>\n",
       "      <td>BRNt</td>\n",
       "      <td>87.00</td>\n",
       "      <td>0.830</td>\n",
       "      <td>20463</td>\n",
       "      <td>0.839422</td>\n",
       "    </tr>\n",
       "    <tr>\n",
       "      <th>1</th>\n",
       "      <td>BRN-ADM2-3_0_0-B2</td>\n",
       "      <td>Kilanas</td>\n",
       "      <td>BRN</td>\n",
       "      <td>BRN-ADM1-3_0_0-B3</td>\n",
       "      <td>BRNt</td>\n",
       "      <td>100.00</td>\n",
       "      <td>0.830</td>\n",
       "      <td>33308</td>\n",
       "      <td>0.888425</td>\n",
       "    </tr>\n",
       "    <tr>\n",
       "      <th>2</th>\n",
       "      <td>BRN-ADM2-3_0_0-B3</td>\n",
       "      <td>Tanjong Maya</td>\n",
       "      <td>BRN</td>\n",
       "      <td>BRN-ADM1-3_0_0-B4</td>\n",
       "      <td>BRNt</td>\n",
       "      <td>100.00</td>\n",
       "      <td>0.830</td>\n",
       "      <td>2942</td>\n",
       "      <td>0.794934</td>\n",
       "    </tr>\n",
       "    <tr>\n",
       "      <th>3</th>\n",
       "      <td>BRN-ADM2-3_0_0-B4</td>\n",
       "      <td>Serasa</td>\n",
       "      <td>BRN</td>\n",
       "      <td>BRN-ADM1-3_0_0-B3</td>\n",
       "      <td>BRNt</td>\n",
       "      <td>96.12</td>\n",
       "      <td>0.830</td>\n",
       "      <td>8955</td>\n",
       "      <td>0.894344</td>\n",
       "    </tr>\n",
       "    <tr>\n",
       "      <th>4</th>\n",
       "      <td>BRN-ADM2-3_0_0-B5</td>\n",
       "      <td>Mentiri</td>\n",
       "      <td>BRN</td>\n",
       "      <td>BRN-ADM1-3_0_0-B3</td>\n",
       "      <td>BRNt</td>\n",
       "      <td>99.23</td>\n",
       "      <td>0.830</td>\n",
       "      <td>20040</td>\n",
       "      <td>0.887473</td>\n",
       "    </tr>\n",
       "    <tr>\n",
       "      <th>...</th>\n",
       "      <td>...</td>\n",
       "      <td>...</td>\n",
       "      <td>...</td>\n",
       "      <td>...</td>\n",
       "      <td>...</td>\n",
       "      <td>...</td>\n",
       "      <td>...</td>\n",
       "      <td>...</td>\n",
       "      <td>...</td>\n",
       "    </tr>\n",
       "    <tr>\n",
       "      <th>111912</th>\n",
       "      <td>ZWE-ADM2-3_0_0-B85</td>\n",
       "      <td>Kwekwe Urban</td>\n",
       "      <td>ZWE</td>\n",
       "      <td>ZWE-ADM1-3_0_0-B6</td>\n",
       "      <td>ZWEr107</td>\n",
       "      <td>100.00</td>\n",
       "      <td>0.598</td>\n",
       "      <td>139439</td>\n",
       "      <td>0.681628</td>\n",
       "    </tr>\n",
       "    <tr>\n",
       "      <th>111913</th>\n",
       "      <td>ZWE-ADM2-3_0_0-B86</td>\n",
       "      <td>Epworth</td>\n",
       "      <td>ZWE</td>\n",
       "      <td>ZWE-ADM1-3_0_0-B10</td>\n",
       "      <td>ZWEr109</td>\n",
       "      <td>87.72</td>\n",
       "      <td>0.674</td>\n",
       "      <td>159170</td>\n",
       "      <td>0.650765</td>\n",
       "    </tr>\n",
       "    <tr>\n",
       "      <th>111914</th>\n",
       "      <td>ZWE-ADM2-3_0_0-B87</td>\n",
       "      <td>Ruwa</td>\n",
       "      <td>ZWE</td>\n",
       "      <td>ZWE-ADM1-3_0_0-B9</td>\n",
       "      <td>ZWEr103</td>\n",
       "      <td>91.10</td>\n",
       "      <td>0.588</td>\n",
       "      <td>83145</td>\n",
       "      <td>0.646362</td>\n",
       "    </tr>\n",
       "    <tr>\n",
       "      <th>111915</th>\n",
       "      <td>ZWE-ADM2-3_0_0-B88</td>\n",
       "      <td>Bindura Urban</td>\n",
       "      <td>ZWE</td>\n",
       "      <td>ZWE-ADM1-3_0_0-B4</td>\n",
       "      <td>ZWEr102</td>\n",
       "      <td>100.00</td>\n",
       "      <td>0.542</td>\n",
       "      <td>57773</td>\n",
       "      <td>0.617709</td>\n",
       "    </tr>\n",
       "    <tr>\n",
       "      <th>111916</th>\n",
       "      <td>ZWE-ADM2-3_0_0-B89</td>\n",
       "      <td>Chegutu Urban</td>\n",
       "      <td>ZWE</td>\n",
       "      <td>ZWE-ADM1-3_0_0-B8</td>\n",
       "      <td>ZWEr104</td>\n",
       "      <td>100.00</td>\n",
       "      <td>0.567</td>\n",
       "      <td>70774</td>\n",
       "      <td>0.617312</td>\n",
       "    </tr>\n",
       "  </tbody>\n",
       "</table>\n",
       "<p>61530 rows × 9 columns</p>\n",
       "</div>"
      ],
      "text/plain": [
       "                   shapeID      shapeName shapeGroup        ADM1_shapeID  \\\n",
       "0        BRN-ADM2-3_0_0-B1      Kota Batu        BRN   BRN-ADM1-3_0_0-B3   \n",
       "1        BRN-ADM2-3_0_0-B2        Kilanas        BRN   BRN-ADM1-3_0_0-B3   \n",
       "2        BRN-ADM2-3_0_0-B3   Tanjong Maya        BRN   BRN-ADM1-3_0_0-B4   \n",
       "3        BRN-ADM2-3_0_0-B4         Serasa        BRN   BRN-ADM1-3_0_0-B3   \n",
       "4        BRN-ADM2-3_0_0-B5        Mentiri        BRN   BRN-ADM1-3_0_0-B3   \n",
       "...                    ...            ...        ...                 ...   \n",
       "111912  ZWE-ADM2-3_0_0-B85   Kwekwe Urban        ZWE   ZWE-ADM1-3_0_0-B6   \n",
       "111913  ZWE-ADM2-3_0_0-B86        Epworth        ZWE  ZWE-ADM1-3_0_0-B10   \n",
       "111914  ZWE-ADM2-3_0_0-B87           Ruwa        ZWE   ZWE-ADM1-3_0_0-B9   \n",
       "111915  ZWE-ADM2-3_0_0-B88  Bindura Urban        ZWE   ZWE-ADM1-3_0_0-B4   \n",
       "111916  ZWE-ADM2-3_0_0-B89  Chegutu Urban        ZWE   ZWE-ADM1-3_0_0-B8   \n",
       "\n",
       "       GDL_ADM1  percent_overlap_GDL_ADM1  adm1_truth  total_pop  adm2_pred  \n",
       "0          BRNt                     87.00       0.830      20463   0.839422  \n",
       "1          BRNt                    100.00       0.830      33308   0.888425  \n",
       "2          BRNt                    100.00       0.830       2942   0.794934  \n",
       "3          BRNt                     96.12       0.830       8955   0.894344  \n",
       "4          BRNt                     99.23       0.830      20040   0.887473  \n",
       "...         ...                       ...         ...        ...        ...  \n",
       "111912  ZWEr107                    100.00       0.598     139439   0.681628  \n",
       "111913  ZWEr109                     87.72       0.674     159170   0.650765  \n",
       "111914  ZWEr103                     91.10       0.588      83145   0.646362  \n",
       "111915  ZWEr102                    100.00       0.542      57773   0.617709  \n",
       "111916  ZWEr104                    100.00       0.567      70774   0.617312  \n",
       "\n",
       "[61530 rows x 9 columns]"
      ]
     },
     "execution_count": 9,
     "metadata": {},
     "output_type": "execute_result"
    }
   ],
   "source": [
    "data"
   ]
  },
  {
   "cell_type": "code",
   "execution_count": 10,
   "id": "24c2806d",
   "metadata": {},
   "outputs": [],
   "source": [
    "unique_countries = np.unique(data[\"shapeGroup\"])"
   ]
  },
  {
   "cell_type": "markdown",
   "id": "e3941911",
   "metadata": {},
   "source": [
    "## ADM2 v ADM1 Analysis\n",
    "#### Run with varied thresholds and population weighting"
   ]
  },
  {
   "cell_type": "code",
   "execution_count": 11,
   "id": "77a80463",
   "metadata": {},
   "outputs": [],
   "source": [
    "stack_incs = []\n",
    "\n",
    "for country in unique_countries:\n",
    "    stack_incs.append(get_country_bins(data, country, diff_threshs=True))\n",
    "incs_and_bin = pd.concat(stack_incs)"
   ]
  },
  {
   "cell_type": "code",
   "execution_count": 12,
   "id": "7232b222",
   "metadata": {},
   "outputs": [],
   "source": [
    "data_pop = incs_and_bin.groupby([\"true_bin\", \"alt_bin\"])[\"total_pop\"].sum()"
   ]
  },
  {
   "cell_type": "code",
   "execution_count": 13,
   "id": "b3a0e4cd",
   "metadata": {},
   "outputs": [
    {
     "data": {
      "image/png": "[encoded data removed]",
      "text/plain": [
       "<Figure size 1000x1000 with 1 Axes>"
      ]
     },
     "metadata": {},
     "output_type": "display_data"
    }
   ],
   "source": [
    "make_bar_plot(incs_and_bin, pop_weight=True, alt_bin_text = \"\", true_bin_text = \"\", \n",
    "              savepath=repo_dir + \"figures/Figure4A.pdf\",\n",
    "              #savepath=None\n",
    "             )"
   ]
  },
  {
   "cell_type": "markdown",
   "id": "f9cbf5c9",
   "metadata": {},
   "source": [
    "### Try version as confusion matrix"
   ]
  },
  {
   "cell_type": "code",
   "execution_count": 14,
   "id": "4c5c0c1c",
   "metadata": {},
   "outputs": [],
   "source": [
    "def make_confusion(data_pop, savepath=None, vmin=.4,vmax=52, ystr=\"Municipality\"):\n",
    "    melted = data_pop.reset_index().pivot(index='true_bin', columns='alt_bin')\n",
    "    melted_d = melted.divide((melted.sum(axis=1)).to_numpy(),axis=1)\n",
    "    melted_d.index = np.arange(1,6)\n",
    "    melted_d.columns = np.arange(1,6)\n",
    "    rounded = np.round(melted_d * 100,1)\n",
    "    \n",
    "    fig, ax= plt.subplots()\n",
    "    sns.heatmap(rounded, annot=rounded.astype(str) + \"%\",\n",
    "                fmt='', ax=ax,cmap=\"plasma\", cbar_kws={\"label\":\"Population (%)\"},\n",
    "               vmin=vmin,vmax=vmax)\n",
    "\n",
    "    ax.set_xlabel(\"Province-level HDI quintile (Smits and Permanyer, 2019)\")\n",
    "    ax.set_ylabel(f\"{ystr}-level HDI quintile (this study)\")\n",
    "    \n",
    "    if savepath:\n",
    "        fig.savefig(savepath, transparent=True)\n",
    "        \n",
    "        \n",
    "### Note that these numbers do not match the numbers shown above! \n",
    "## Depeneds on what we divide by. Total pop or sum within each bin.\n",
    "## The interpretation is that this shows % global population that moves.\n",
    "## The other way shows % of each quintile"
   ]
  },
  {
   "cell_type": "code",
   "execution_count": 15,
   "id": "c10053be",
   "metadata": {},
   "outputs": [],
   "source": [
    "#make_confusion(data_pop, savepath=None)"
   ]
  },
  {
   "cell_type": "markdown",
   "id": "e1de93cd",
   "metadata": {},
   "source": [
    "#### Calculate summary stats"
   ]
  },
  {
   "cell_type": "code",
   "execution_count": 16,
   "id": "3f166f31",
   "metadata": {},
   "outputs": [
    {
     "name": "stdout",
     "output_type": "stream",
     "text": [
      "percent global pop in each adm1 bin\n"
     ]
    },
    {
     "data": {
      "text/plain": [
       "alt_bin\n",
       "1.0    0.137722\n",
       "2.0    0.203671\n",
       "3.0    0.333014\n",
       "4.0    0.178563\n",
       "5.0    0.147031\n",
       "Name: total_pop, dtype: float64"
      ]
     },
     "execution_count": 16,
     "metadata": {},
     "output_type": "execute_result"
    }
   ],
   "source": [
    "# % Global pop in each ADM1 bin\n",
    "print(\"percent global pop in each adm1 bin\")\n",
    "incs_and_bin.groupby(\"alt_bin\")[\"total_pop\"].sum() / incs_and_bin[\"total_pop\"].sum()"
   ]
  },
  {
   "cell_type": "code",
   "execution_count": 17,
   "id": "b1236aae",
   "metadata": {},
   "outputs": [
    {
     "name": "stdout",
     "output_type": "stream",
     "text": [
      "Percent of global pop by quintile change\n"
     ]
    },
    {
     "data": {
      "text/plain": [
       "diff_bin\n",
       "0.0    42.320502\n",
       "1.0    41.242764\n",
       "2.0    13.983001\n",
       "3.0     2.125066\n",
       "4.0     0.328668\n",
       "Name: total_pop, dtype: float64"
      ]
     },
     "execution_count": 17,
     "metadata": {},
     "output_type": "execute_result"
    }
   ],
   "source": [
    "### Bin change stats -- how many quintiles did people move?\n",
    "incs_and_bin[\"diff_bin\"] = np.abs(incs_and_bin[\"true_bin\"] - incs_and_bin[\"alt_bin\"])\n",
    "\n",
    "diffs = incs_and_bin.groupby(\"diff_bin\")[\"total_pop\"].sum()\n",
    "print(\"Percent of global pop by quintile change\")\n",
    "diffs/diffs.sum() * 100"
   ]
  },
  {
   "cell_type": "code",
   "execution_count": 18,
   "id": "2f36c7bc",
   "metadata": {},
   "outputs": [
    {
     "name": "stdout",
     "output_type": "stream",
     "text": [
      "Percent of population that are put into a different quintile: 57.67949784747035\n"
     ]
    }
   ],
   "source": [
    "print(\"Percent of population that are put into a different quintile:\",(1- (diffs/diffs.sum()).values[0] )* 100)\n"
   ]
  },
  {
   "cell_type": "code",
   "execution_count": 19,
   "id": "6cc611db",
   "metadata": {},
   "outputs": [],
   "source": [
    "#overall data\n",
    "\n",
    "dat = incs_and_bin.groupby([\"true_bin\",\"alt_bin\"])[\"total_pop\"].sum()\n",
    "perc_data = (dat / tot_array(dat)).reset_index()"
   ]
  },
  {
   "cell_type": "code",
   "execution_count": 20,
   "id": "4e99f527",
   "metadata": {},
   "outputs": [
    {
     "data": {
      "text/plain": [
       "5.0"
      ]
     },
     "execution_count": 20,
     "metadata": {},
     "output_type": "execute_result"
    }
   ],
   "source": [
    "perc_data[\"total_pop\"].sum() ### Each true bin sums to 1"
   ]
  },
  {
   "cell_type": "code",
   "execution_count": 21,
   "id": "c15b25c3",
   "metadata": {},
   "outputs": [
    {
     "name": "stdout",
     "output_type": "stream",
     "text": [
      "percent of bottom two that move from bottom two to top two:\n"
     ]
    },
    {
     "data": {
      "text/plain": [
       "8.450555102497596"
      ]
     },
     "execution_count": 21,
     "metadata": {},
     "output_type": "execute_result"
    }
   ],
   "source": [
    "### Get percent of bottom two quintiles that are now in top two\n",
    "perc_data = perc_data.reset_index()\n",
    "\n",
    "print(\"percent of bottom two that move from bottom two to top two:\")\n",
    "perc_data[ (perc_data[\"true_bin\"] > 3) & (perc_data[\"alt_bin\"] < 3)][\"total_pop\"].sum() /\\\n",
    "perc_data.loc[ (perc_data[\"true_bin\"] < 3),\"total_pop\"].sum() * 100"
   ]
  },
  {
   "cell_type": "markdown",
   "id": "8711e52f",
   "metadata": {},
   "source": [
    "## Grid Data v ADM1 Analysis"
   ]
  },
  {
   "cell_type": "code",
   "execution_count": 29,
   "id": "a2aec2a6",
   "metadata": {},
   "outputs": [],
   "source": [
    "grid_data = pd.read_pickle(data_dir + \"preds/\"\n",
    "           \"hdi_grid_predictions_flat_file.p\")"
   ]
  },
  {
   "cell_type": "code",
   "execution_count": 30,
   "id": "1fd046e9",
   "metadata": {},
   "outputs": [],
   "source": [
    "grid_data[\"pop_count\"] = grid_data[\"pop_count\"].round().astype(int)\n",
    "grid_data[\"shapeGroup\"] = grid_data[\"GDLCODE\"].apply(lambda x: x[:3])"
   ]
  },
  {
   "cell_type": "code",
   "execution_count": 32,
   "id": "ce172397",
   "metadata": {},
   "outputs": [],
   "source": [
    "grid_data.rename(columns = {\"pop_count\":\"total_pop\"}, inplace=True)"
   ]
  },
  {
   "cell_type": "code",
   "execution_count": 33,
   "id": "d1cf0155",
   "metadata": {},
   "outputs": [],
   "source": [
    "unique_countries = grid_data[\"shapeGroup\"].unique()"
   ]
  },
  {
   "cell_type": "code",
   "execution_count": 34,
   "id": "e8fd4a09",
   "metadata": {},
   "outputs": [],
   "source": [
    "stack_incs = []\n",
    "\n",
    "for country in unique_countries:\n",
    "    stack_incs.append(get_country_bins(grid_data, country = country, pop_weight=True, true_colname=\"clipped\", alt_colname=\"Sub-national HDI\", \n",
    "                     diff_threshs = True))\n",
    "incs_and_bin_grid = pd.concat(stack_incs)"
   ]
  },
  {
   "cell_type": "code",
   "execution_count": 35,
   "id": "a2307a1e",
   "metadata": {},
   "outputs": [
    {
     "data": {
      "image/png": "[encoded data removed]",
      "text/plain": [
       "<Figure size 1000x1000 with 1 Axes>"
      ]
     },
     "metadata": {},
     "output_type": "display_data"
    }
   ],
   "source": [
    "make_bar_plot(incs_and_bin_grid, pop_weight=True, alt_bin_text = \"\", true_bin_text = \"\", \n",
    "              savepath=repo_dir + \"figures/Figure4B.pdf\",\n",
    "              x_lab_text = \" \\nGrid-level HDI quintile (this study)\",\n",
    "              #savepath=None\n",
    "             )"
   ]
  },
  {
   "cell_type": "code",
   "execution_count": 36,
   "id": "a916b7b2",
   "metadata": {},
   "outputs": [
    {
     "name": "stdout",
     "output_type": "stream",
     "text": [
      "Percent of global pop by quintile change\n"
     ]
    },
    {
     "data": {
      "text/plain": [
       "diff_bin\n",
       "0.0    34.760236\n",
       "1.0    41.471366\n",
       "2.0    18.793830\n",
       "3.0     4.203845\n",
       "4.0     0.770724\n",
       "Name: total_pop, dtype: float64"
      ]
     },
     "execution_count": 36,
     "metadata": {},
     "output_type": "execute_result"
    }
   ],
   "source": [
    "### Bin change stats -- how many quintiles did people move?\n",
    "incs_and_bin_grid[\"diff_bin\"] = np.abs(incs_and_bin_grid[\"true_bin\"] - incs_and_bin_grid[\"alt_bin\"])\n",
    "\n",
    "diffs = incs_and_bin_grid.groupby(\"diff_bin\")[\"total_pop\"].sum()\n",
    "print(\"Percent of global pop by quintile change\")\n",
    "diffs/diffs.sum() * 100"
   ]
  },
  {
   "cell_type": "code",
   "execution_count": 37,
   "id": "095c02a6",
   "metadata": {},
   "outputs": [
    {
     "name": "stdout",
     "output_type": "stream",
     "text": [
      "Percent of population that are put into a different quintile: 65.23976408656009\n"
     ]
    }
   ],
   "source": [
    "print(\"Percent of population that are put into a different quintile:\",(1- (diffs/diffs.sum()).values[0] )* 100)\n"
   ]
  },
  {
   "cell_type": "code",
   "execution_count": 38,
   "id": "62a78d95",
   "metadata": {},
   "outputs": [
    {
     "name": "stdout",
     "output_type": "stream",
     "text": [
      "Percent of global pop by quintile change\n"
     ]
    },
    {
     "data": {
      "text/plain": [
       "diff_bin2\n",
       "-4.0     0.305885\n",
       "-3.0     2.031856\n",
       "-2.0     9.494614\n",
       "-1.0    20.422812\n",
       " 0.0    34.760236\n",
       " 1.0    21.048554\n",
       " 2.0     9.299215\n",
       " 3.0     2.171989\n",
       " 4.0     0.464839\n",
       "Name: total_pop, dtype: float64"
      ]
     },
     "execution_count": 38,
     "metadata": {},
     "output_type": "execute_result"
    }
   ],
   "source": [
    "### Bin change stats -- how many quintiles did people move - with directionality?\n",
    "incs_and_bin_grid[\"diff_bin2\"] = incs_and_bin_grid[\"true_bin\"] - incs_and_bin_grid[\"alt_bin\"]\n",
    "\n",
    "diffs = incs_and_bin_grid.groupby(\"diff_bin2\")[\"total_pop\"].sum()\n",
    "print(\"Percent of global pop by quintile change\")\n",
    "diffs/diffs.sum() * 100"
   ]
  },
  {
   "cell_type": "code",
   "execution_count": 39,
   "id": "367e1862",
   "metadata": {},
   "outputs": [],
   "source": [
    "dat = incs_and_bin_grid.groupby([\"true_bin\",\"alt_bin\"])[\"total_pop\"].sum()\n",
    "perc_data = (dat / tot_array(dat)).reset_index()"
   ]
  },
  {
   "cell_type": "code",
   "execution_count": 40,
   "id": "96622cad",
   "metadata": {},
   "outputs": [
    {
     "name": "stdout",
     "output_type": "stream",
     "text": [
      "percent of bottom two that move from bottom two to top two:\n"
     ]
    },
    {
     "data": {
      "text/plain": [
       "12.881626784760902"
      ]
     },
     "execution_count": 40,
     "metadata": {},
     "output_type": "execute_result"
    }
   ],
   "source": [
    "### Get percent of bottom two quintiles that are now in top two\n",
    "perc_data = perc_data.reset_index()\n",
    "\n",
    "print(\"percent of bottom two that move from bottom two to top two:\")\n",
    "perc_data[ (perc_data[\"true_bin\"] > 3) & (perc_data[\"alt_bin\"] < 3)][\"total_pop\"].sum() /\\\n",
    "perc_data.loc[ (perc_data[\"true_bin\"] < 3),\"total_pop\"].sum() * 100"
   ]
  },
  {
   "cell_type": "code",
   "execution_count": 41,
   "id": "eaf78e4f",
   "metadata": {},
   "outputs": [],
   "source": [
    "#make_confusion(dat, savepath=None,ystr=\"Grid\")"
   ]
  },
  {
   "cell_type": "code",
   "execution_count": 47,
   "id": "a7b49d9c",
   "metadata": {},
   "outputs": [],
   "source": [
    "# incs_and_bin.rename(columns={\n",
    "#     \"shapeID\":\"ADM2_shapeID\",\n",
    "#     \"shapeGroup\":\"iso\",\n",
    "#     \"adm1_truth\":\"adm1_hdi\",\n",
    "#     \"true_bin\":\"adm2_bin\",\n",
    "#     \"alt_bin\": \"adm1_bin\",\n",
    "    \n",
    "#                            }).drop(columns = [\"GDL_ADM1\",\"percent_overlap_GDL_ADM1\",\"shapeName\",\"diff_bin\"]).to_csv(\"adm2_preds_and_bins.csv\")"
   ]
  },
  {
   "cell_type": "code",
   "execution_count": 46,
   "id": "430f458f",
   "metadata": {},
   "outputs": [],
   "source": [
    "# incs_and_bin_grid.rename(columns={\n",
    "#     \"shapeID\":\"ADM2_shapeID\",\n",
    "#     \"shapeGroup\":\"iso\",\n",
    "#     \"Sub-national HDI\":\"adm1_hdi\",\n",
    "#     \"clipped\": \"adm2_grid_est_hdi\",\n",
    "#     \"true_bin\":\"grid_bin\",\n",
    "#     \"alt_bin\": \"adm1_bin\",\n",
    "    \n",
    "#                            }).drop(columns = [\"GDLCODE\",\n",
    "#                                               \"centered_pred\",\"diff_bin\",\"diff_bin2\",]).to_csv(\"grid_preds_and_bins.csv\")"
   ]
  },
  {
   "cell_type": "code",
   "execution_count": null,
   "id": "c795eab3",
   "metadata": {},
   "outputs": [],
   "source": []
  },
  {
   "cell_type": "code",
   "execution_count": null,
   "id": "f216c3f0",
   "metadata": {},
   "outputs": [],
   "source": []
  }
 ],
 "metadata": {
  "kernelspec": {
   "display_name": "Python 3 (ipykernel)",
   "language": "python",
   "name": "python3"
  },
  "language_info": {
   "codemirror_mode": {
    "name": "ipython",
    "version": 3
   },
   "file_extension": ".py",
   "mimetype": "text/x-python",
   "name": "python",
   "nbconvert_exporter": "python",
   "pygments_lexer": "ipython3",
   "version": "3.7.15"
  }
 },
 "nbformat": 4,
 "nbformat_minor": 5
}

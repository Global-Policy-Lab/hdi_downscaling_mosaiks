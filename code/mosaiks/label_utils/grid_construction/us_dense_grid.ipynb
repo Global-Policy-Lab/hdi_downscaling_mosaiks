{
 "cells": [
  {
   "cell_type": "markdown",
   "metadata": {},
   "source": [
    "# Dense Grid for US Lower 48\n",
    "\n",
    "**Analyst:** Taryn Fransen\n",
    "\n",
    "**Shapefile source:** US Census Bureau\n",
    "\n",
    "**Shapefile download URL:** https://www.census.gov/geographies/mapping-files/time-series/geo/carto-boundary-file.html\n",
    "\n",
    "**Shapefile location:** /shares/maps100/data/raw/cb_2018_us_nation_5m/cb_2018_us_nation_5m.shp\n",
    "\n",
    "**Output:** \n",
    "* csv of 8201124 points at .01-degree resolution over the landmass of the US lower 48 states\n",
    "* Location: /shares/maps100/data/output/grid/us_dense_grid.csv\n",
    "\n",
    "**Scope:**\n",
    "* north = 49.3457868 # north lat\n",
    "* west = -124.7844079 # west long\n",
    "* east = -66.9513812 # east long\n",
    "* south =  24.7433195 # south lat"
   ]
  },
  {
   "cell_type": "code",
   "execution_count": null,
   "metadata": {},
   "outputs": [],
   "source": [
    "import geopandas as gpd\n",
    "import numpy as np\n",
    "import pandas as pd\n",
    "import shapely\n",
    "from shapely import geometry\n",
    "from shapely.geometry import Point, MultiPoint, Polygon, MultiPolygon, asPoint\n",
    "from shapely.ops import cascaded_union\n",
    "from shapely.ops import prep\n",
    "from shapely.vectorized import contains\n",
    "from shapely.prepared import prep\n",
    "import matplotlib.pyplot as plt\n",
    "import math as math\n",
    "import pickle"
   ]
  },
  {
   "cell_type": "code",
   "execution_count": null,
   "metadata": {},
   "outputs": [],
   "source": [
    "shp_path = '/shares/maps100/data/raw/cb_2018_us_nation_5m/cb_2018_us_nation_5m.shp'"
   ]
  },
  {
   "cell_type": "code",
   "execution_count": null,
   "metadata": {},
   "outputs": [],
   "source": [
    "state_map = gpd.read_file(shp_path).explode().reset_index()"
   ]
  },
  {
   "cell_type": "code",
   "execution_count": null,
   "metadata": {},
   "outputs": [],
   "source": [
    "north = 49.3457868 # north lat\n",
    "west = -124.7844079 # west long\n",
    "east = -66.9513812 # east long\n",
    "south =  24.7433195 # south lat\n",
    "state_map = state_map.cx[west:east, south:north].reset_index()"
   ]
  },
  {
   "cell_type": "code",
   "execution_count": null,
   "metadata": {},
   "outputs": [],
   "source": [
    "delta = .01\n",
    "half_delta = delta/2"
   ]
  },
  {
   "cell_type": "code",
   "execution_count": null,
   "metadata": {},
   "outputs": [],
   "source": [
    "def make_grid(latmin, latmax, lonmin, lonmax, res = delta):\n",
    "    latVals = []\n",
    "    currentLat = latmax\n",
    "    i = 0\n",
    "    while(currentLat > latmin + res):\n",
    "      latVals.append(currentLat)\n",
    "      i = i + 1\n",
    "      currentLat = currentLat - res\n",
    "    latVals = np.array(latVals)\n",
    "    \n",
    "    lonVals = []\n",
    "    currentLon = lonmin\n",
    "    i = 1\n",
    "    while(currentLon < (lonmax - res)):\n",
    "      lonVals.append(currentLon)\n",
    "      i = i + 1\n",
    "      currentLon = currentLon + res\n",
    "    lonVals = np.array(lonVals)\n",
    "    \n",
    "    #shift to make the values represent grid cell centers\n",
    "    latVals = latVals - res/2.0\n",
    "    lonVals = lonVals + res/2\n",
    "    \n",
    "    grid = {\"lat\" : latVals,\n",
    "           \"lon\" : lonVals}\n",
    "    \n",
    "    #Return the grid in degrees: \n",
    "    return grid"
   ]
  },
  {
   "cell_type": "code",
   "execution_count": null,
   "metadata": {},
   "outputs": [],
   "source": [
    "#grid = make_grid(24.745, 49.355, -124.795, -66.955)\n",
    "grid = make_grid(24.74, 49.36, -124.80, -66.95)"
   ]
  },
  {
   "cell_type": "code",
   "execution_count": null,
   "metadata": {},
   "outputs": [],
   "source": [
    "def landmassOnlyGrid(lats, lons, gpdFile):\n",
    "    \"\"\"\n",
    "    Takes a grid in the form of two arrays, lats and lons. First, transforms the arrays into a flat grid. \n",
    "    Then checks for point intersections in the attached geopandas file.\n",
    "    \n",
    "    Returns a flat grid dictionary object with only lats and lons that are included in the gpd geometry file.\n",
    "    .\n",
    "    Needs shapely, geopandas, and numpy.\n",
    "    \"\"\"\n",
    "    gpdFile[\"prep\"] = gpdFile[\"geometry\"].apply(prep) # prepare the geometry to improve speed\n",
    "    print('prepped')\n",
    "    \n",
    "    grid_lats, grid_lons = np.meshgrid(lats, lons) # Create grid from input arrays\n",
    "    flat_lats = grid_lats.flatten() #Making two arrays that together correspond to all of the grid points\n",
    "    flat_lons = grid_lons.flatten()\n",
    "    \n",
    "    points = [Point((flat_lons[i], flat_lats[i])) for i in range(len(flat_lats))] # turn each point into a Shapely object\n",
    "    print('got points')\n",
    "    \n",
    "    #total = str(len(gpdFile))\n",
    "    for i in range(len(gpdFile)):\n",
    "        #log_text(\"Loop status: \" + str(i) + \" out of \" + total)\n",
    "        print(i)\n",
    "        prepared_polygon = gpdFile[\"prep\"][i]\n",
    "\n",
    "        intersect_points = list(filter(prepared_polygon.contains, points))\n",
    "\n",
    "        if i == 0:\n",
    "            hits = intersect_pointsx\n",
    "        else:\n",
    "            hits = hits + intersect_points\n",
    "\n",
    "    output_lons = []\n",
    "    output_lats = []\n",
    "\n",
    "    for i in range(len(hits)):\n",
    "        output_lons.append(hits[i].x)\n",
    "        output_lats.append(hits[i].y)\n",
    "\n",
    "    landGridFlat = {    #Note that this output will be the full length 'flat' grid as json file. \n",
    "        \"lat\" : output_lats,\n",
    "        \"lon\" : output_lons,\n",
    "        }\n",
    "    \n",
    "    return pd.DataFrame(landGridFlat) #currently the output is not ordered. This improved runtime."
   ]
  },
  {
   "cell_type": "code",
   "execution_count": null,
   "metadata": {},
   "outputs": [],
   "source": [
    "land_grid = landmassOnlyGrid(grid['lat'], grid['lon'], state_map) # takes 1-2 hours\n",
    "\n",
    "land_grid_df = land_grid.sort_values([\"lat\",\"lon\"])\n",
    "land_grid_df = land_grid_df.reset_index(drop=True)\n",
    "land_grid_df = land_grid_df.round(3)\n",
    "\n",
    "output_path = '/shares/maps100/data/output/grid/'\n",
    "file_name = output_path + 'us_dense_grid_1' + \".csv\"\n",
    "\n",
    "land_grid_df.to_csv(file_name, sep=',',index=False)"
   ]
  },
  {
   "cell_type": "code",
   "execution_count": null,
   "metadata": {},
   "outputs": [],
   "source": [
    "# read the grid back in from the csv\n",
    "\n",
    "output_path = '/shares/maps100/data/output/grid/'\n",
    "file_name = output_path + 'us_dense_grid_1' + \".csv\"\n",
    "us_dense_grid = pd.read_csv(file_name)"
   ]
  },
  {
   "cell_type": "code",
   "execution_count": null,
   "metadata": {},
   "outputs": [],
   "source": [
    "# plot the grid to make sure it looks right\n",
    "\n",
    "x = us_dense_grid['lon']\n",
    "y = us_dense_grid['lat']\n",
    "\n",
    "plt.figure(figsize=(20,10))\n",
    "plt.scatter(x,y, s = .00001)\n",
    "\n",
    "for i in range(0,len(state_map)):\n",
    "    y,x=state_map['geometry'][i].exterior.coords.xy\n",
    "    plt.plot(y,x,color='grey')\n",
    "    "
   ]
  },
  {
   "cell_type": "code",
   "execution_count": null,
   "metadata": {},
   "outputs": [],
   "source": [
    "def get_box(lon, lat, delta):\n",
    "    half_delta = delta/2\n",
    "    upper_left = geometry.Point(lon-half_delta,lat+half_delta)\n",
    "    upper_right = geometry.Point(lon+half_delta, lat+half_delta)\n",
    "    lower_left = geometry.Point(lon-half_delta, lat-half_delta)\n",
    "    lower_right = geometry.Point(lon+half_delta, lat-half_delta)\n",
    "    pointList = [upper_left,upper_right,lower_right,lower_left]\n",
    "    poly = geometry.Polygon(pointList)\n",
    "    return poly"
   ]
  },
  {
   "cell_type": "code",
   "execution_count": null,
   "metadata": {},
   "outputs": [],
   "source": [
    "poly_grid = us_dense_grid.copy()\n",
    "poly_grid['box'] = poly_grid.apply(lambda row: get_box(row['lon'],row['lat'],delta), axis=1)\n",
    "poly_grid = gpd.GeoDataFrame(us_dense_grid).set_geometry('box')"
   ]
  },
  {
   "cell_type": "code",
   "execution_count": null,
   "metadata": {},
   "outputs": [],
   "source": [
    "with open('/shares/maps100/data/output/grid/us_dense_grid_polys_1', 'wb') as f:\n",
    "    pickle.dump(poly_grid, f)"
   ]
  }
 ],
 "metadata": {
  "kernelspec": {
   "display_name": "Python 3",
   "language": "python",
   "name": "python3"
  },
  "language_info": {
   "codemirror_mode": {
    "name": "ipython",
    "version": 3
   },
   "file_extension": ".py",
   "mimetype": "text/x-python",
   "name": "python",
   "nbconvert_exporter": "python",
   "pygments_lexer": "ipython3",
   "version": "3.7.8"
  }
 },
 "nbformat": 4,
 "nbformat_minor": 4
}
